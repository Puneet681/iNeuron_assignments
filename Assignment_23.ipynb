{
 "cells": [
  {
   "attachments": {},
   "cell_type": "markdown",
   "metadata": {},
   "source": [
    "# __Assignment 23__\n",
    "### *__Q.1:- What is the result of the code, and why?__*\n",
    "\n",
    "```def func(a, b=6, c=8):\n",
    "print(a, b, c)\n",
    "func(1, 2)```"
   ]
  },
  {
   "attachments": {},
   "cell_type": "markdown",
   "metadata": {},
   "source": [
    "### __*Ans:-*__ \n",
    "* in the above code when we defined the fuction we defaulted the values of ```b=6``` and ```c=8```.\n",
    "* however, when we call the fuction we provide the values as ```func(1,2)```, meaning we are giving values ```a=1``` and ```b=2```\n",
    "* thus, when we call the ```func(1,2)```, then the fuction prints with the value as ```a=1```(given while calling) ,```b=2```(given while calling) and ```c=8```(default value)\n",
    "* and we get output as \"```1 2 8```\"."
   ]
  },
  {
   "attachments": {},
   "cell_type": "markdown",
   "metadata": {},
   "source": [
    "### __*Example code*__ "
   ]
  },
  {
   "cell_type": "code",
   "execution_count": 9,
   "metadata": {},
   "outputs": [
    {
     "name": "stdout",
     "output_type": "stream",
     "text": [
      "1 2 8\n"
     ]
    }
   ],
   "source": [
    "def func(a,b=6,c=8):\n",
    "    print(a,b,c)\n",
    "func(1,2)"
   ]
  },
  {
   "attachments": {},
   "cell_type": "markdown",
   "metadata": {},
   "source": [
    "### *__Q.2:- What is the result of this code, and why?__*\n",
    "```def func(a, b, c=5):\n",
    "print(a, b, c)\n",
    "func(1, c=3, b=2)```"
   ]
  },
  {
   "attachments": {},
   "cell_type": "markdown",
   "metadata": {},
   "source": [
    "### __*Ans:-*__ \n",
    "* in the above code when the fuction ```func()``` we default the value of ```c=5```\n",
    "* however, when we call the fuction ```func()``` as ```func(1,c=3,b=2)```, meaning we are providing values as ```a=1```, ```b=2``` & ```c=3```.\n",
    "* thus, we get output as \"```1 2 3```\"."
   ]
  },
  {
   "attachments": {},
   "cell_type": "markdown",
   "metadata": {},
   "source": [
    "### __*Example code*__ "
   ]
  },
  {
   "cell_type": "code",
   "execution_count": 10,
   "metadata": {},
   "outputs": [
    {
     "name": "stdout",
     "output_type": "stream",
     "text": [
      "1 2 3\n"
     ]
    }
   ],
   "source": [
    "def func(a,b,c=5):\n",
    "    print(a,b,c)\n",
    "func(1,c=3,b=2)"
   ]
  },
  {
   "attachments": {},
   "cell_type": "markdown",
   "metadata": {},
   "source": [
    "### *__Q.3:- How about this code: what is its result, and why?__*\n",
    "```def func(a, *pargs):\n",
    "print(a, pargs)\n",
    "func(1, 2, 3)```"
   ]
  },
  {
   "attachments": {},
   "cell_type": "markdown",
   "metadata": {},
   "source": [
    "### __*Ans:-*__ \n",
    "* The special syntax pargs in function definitions in python is used to pass a variable number of arguments to a function.\n",
    "* It is used to pass a non-key worded, variable-length argument list. The syntax is to use the symbol to take in a variable number of arguments; by convention, it is often used with the word args."
   ]
  },
  {
   "attachments": {},
   "cell_type": "markdown",
   "metadata": {},
   "source": [
    "### __*Example code*__ "
   ]
  },
  {
   "cell_type": "code",
   "execution_count": 11,
   "metadata": {},
   "outputs": [
    {
     "name": "stdout",
     "output_type": "stream",
     "text": [
      "1 (2, 3)\n"
     ]
    }
   ],
   "source": [
    "def func(a, *pargs):\n",
    "    print(a,pargs)\n",
    "func(1,2,3)"
   ]
  },
  {
   "attachments": {},
   "cell_type": "markdown",
   "metadata": {},
   "source": [
    "### *__Q.4:- What does this code print, and why?__*\n",
    "```def func(a, **kargs):\n",
    "print(a, kargs)\n",
    "func(a=1, c=3, b=2)```"
   ]
  },
  {
   "attachments": {},
   "cell_type": "markdown",
   "metadata": {},
   "source": [
    "### __*Ans:-*__ \n",
    "* The special syntax ```**kargs``` in function definitions in python is used to pass a keyworded, variable-length argument list.\n",
    "* We use the name kwargs with the double star. The reason is because the double star allows us to pass through keyword arguments (and any number of them)."
   ]
  },
  {
   "attachments": {},
   "cell_type": "markdown",
   "metadata": {},
   "source": [
    "### __*Example code*__ "
   ]
  },
  {
   "cell_type": "code",
   "execution_count": 12,
   "metadata": {},
   "outputs": [
    {
     "name": "stdout",
     "output_type": "stream",
     "text": [
      "1 {'c': 3, 'b': 2}\n"
     ]
    }
   ],
   "source": [
    "def func(a,**kargs):\n",
    "    print(a,kargs)\n",
    "func(a=1,c=3,b=2)"
   ]
  },
  {
   "attachments": {},
   "cell_type": "markdown",
   "metadata": {},
   "source": [
    "### *__Q.5:- What gets printed by this, and explain?__*\n",
    "```def func(a, b, c=8, d=5): print(a, b, c, d)\n",
    "func(1, *(5, 6))```"
   ]
  },
  {
   "attachments": {},
   "cell_type": "markdown",
   "metadata": {},
   "source": [
    "### __*Ans:-*__ \n",
    "* in above fuction when the fuction defined we have providerd the default values as ```c=8``` and ```d=5```.\n",
    "* when the fuction is called as ```func(1,*(5,6))```, we are providing the values as ```a=1```, ```b=5```, ```c=6``` and the value of ```d``` is taken as ```5``` which is defaulted when the fuction ```func``` was defined.\n",
    "* thus, we get the output as \"```1 5 6 5```\"."
   ]
  },
  {
   "attachments": {},
   "cell_type": "markdown",
   "metadata": {},
   "source": [
    "### __*Example code*__ "
   ]
  },
  {
   "cell_type": "code",
   "execution_count": 13,
   "metadata": {},
   "outputs": [
    {
     "name": "stdout",
     "output_type": "stream",
     "text": [
      "1 5 6 5\n"
     ]
    }
   ],
   "source": [
    "def func(a,b,c=8,d=5):\n",
    "    print(a,b,c,d)\n",
    "func(1,*(5,6))"
   ]
  },
  {
   "attachments": {},
   "cell_type": "markdown",
   "metadata": {},
   "source": [
    "### *__Q.6:- what is the result of this, and explain?__*\n",
    "```def func(a, b, c): a = 2; b[0] = 'x'; c['a'] = 'y'\n",
    "l=1; m=[1]; n={'a':0}\n",
    "func(l, m, n)\n",
    "l, m, n```"
   ]
  },
  {
   "attachments": {},
   "cell_type": "markdown",
   "metadata": {},
   "source": [
    "### __*Ans:-*__ \n",
    "* The above code is specifically made as such the ```frist input = integr```, ```second input = list``` & ```third input = dictionary```.\n",
    "* therefore before calling the fuction we have defined variables ```l,m,n``` in the same pattern,\n",
    "* thus when we call the fuction as ```func(l,m,n)``` the ```frist, second, third``` inputs are ```integer, list, dictionary``` repectively.\n",
    "* hence, we get the output as \"```(1, ['x'], {'a': 'y'})```\"."
   ]
  },
  {
   "attachments": {},
   "cell_type": "markdown",
   "metadata": {},
   "source": [
    "### __*Example code*__ "
   ]
  },
  {
   "cell_type": "code",
   "execution_count": 8,
   "metadata": {},
   "outputs": [
    {
     "data": {
      "text/plain": [
       "(1, ['x'], {'a': 'y'})"
      ]
     },
     "execution_count": 8,
     "metadata": {},
     "output_type": "execute_result"
    }
   ],
   "source": [
    "def func(a, b, c): \n",
    "    a = 2; b[0] = 'x'; c['a'] = 'y'\n",
    "l=1; m=[1]; n={'a':0}\n",
    "func(l, m, n)\n",
    "l,m,n"
   ]
  },
  {
   "attachments": {},
   "cell_type": "markdown",
   "metadata": {},
   "source": [
    "# __Assignment complete.__"
   ]
  }
 ],
 "metadata": {
  "kernelspec": {
   "display_name": "base",
   "language": "python",
   "name": "python3"
  },
  "language_info": {
   "codemirror_mode": {
    "name": "ipython",
    "version": 3
   },
   "file_extension": ".py",
   "mimetype": "text/x-python",
   "name": "python",
   "nbconvert_exporter": "python",
   "pygments_lexer": "ipython3",
   "version": "3.9.12"
  },
  "orig_nbformat": 4
 },
 "nbformat": 4,
 "nbformat_minor": 2
}

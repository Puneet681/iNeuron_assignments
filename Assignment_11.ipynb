{
 "cells": [
  {
   "attachments": {},
   "cell_type": "markdown",
   "metadata": {},
   "source": [
    "# __Assignment 11__\n",
    "### *__Q.1:- Create an assert statement that throws an AssertionError if the variable spam is a negative integer.__*\n",
    "### __*Ans:-*__ "
   ]
  },
  {
   "cell_type": "code",
   "execution_count": 25,
   "metadata": {},
   "outputs": [
    {
     "ename": "AssertionError",
     "evalue": "variable spam is nigative integer",
     "output_type": "error",
     "traceback": [
      "\u001b[1;31m---------------------------------------------------------------------------\u001b[0m",
      "\u001b[1;31mAssertionError\u001b[0m                            Traceback (most recent call last)",
      "\u001b[1;32md:\\python scripts\\iNeuron_assignments\\Assignment_11.ipynb Cell 2\u001b[0m in \u001b[0;36m<cell line: 2>\u001b[1;34m()\u001b[0m\n\u001b[0;32m      <a href='vscode-notebook-cell:/d%3A/python%20scripts/iNeuron_assignments/Assignment_11.ipynb#W3sZmlsZQ%3D%3D?line=0'>1</a>\u001b[0m spam \u001b[39m=\u001b[39m \u001b[39m-\u001b[39m\u001b[39m10\u001b[39m\n\u001b[1;32m----> <a href='vscode-notebook-cell:/d%3A/python%20scripts/iNeuron_assignments/Assignment_11.ipynb#W3sZmlsZQ%3D%3D?line=1'>2</a>\u001b[0m \u001b[39massert\u001b[39;00m spam \u001b[39m>\u001b[39m\u001b[39m=\u001b[39m\u001b[39m0\u001b[39m,\u001b[39m'\u001b[39m\u001b[39mvariable spam is nigative integer\u001b[39m\u001b[39m'\u001b[39m\n",
      "\u001b[1;31mAssertionError\u001b[0m: variable spam is nigative integer"
     ]
    }
   ],
   "source": [
    "spam = -10\n",
    "assert spam >=0,'variable spam is nigative integer'"
   ]
  },
  {
   "attachments": {},
   "cell_type": "markdown",
   "metadata": {},
   "source": [
    "### *__Q.2:- Write an assert statement that triggers an AssertionError if the variables eggs and bacon contain strings that are the same as each other, even if their cases are different (that is, 'hello' and 'hello' are considered the same, and 'goodbye' and 'GOODbye' are also considered the same).__*\n",
    "### __*Ans:-*__ "
   ]
  },
  {
   "cell_type": "code",
   "execution_count": 26,
   "metadata": {},
   "outputs": [],
   "source": [
    "def trigger_assert(eggs,bacon):\n",
    "    assert(eggs.upper()!=bacon.upper()),'both strings shoud not be same'"
   ]
  },
  {
   "cell_type": "code",
   "execution_count": 27,
   "metadata": {},
   "outputs": [
    {
     "ename": "AssertionError",
     "evalue": "both strings shoud not be same",
     "output_type": "error",
     "traceback": [
      "\u001b[1;31m---------------------------------------------------------------------------\u001b[0m",
      "\u001b[1;31mAssertionError\u001b[0m                            Traceback (most recent call last)",
      "\u001b[1;32md:\\python scripts\\iNeuron_assignments\\Assignment_11.ipynb Cell 5\u001b[0m in \u001b[0;36m<cell line: 1>\u001b[1;34m()\u001b[0m\n\u001b[1;32m----> <a href='vscode-notebook-cell:/d%3A/python%20scripts/iNeuron_assignments/Assignment_11.ipynb#W6sZmlsZQ%3D%3D?line=0'>1</a>\u001b[0m trigger_assert(\u001b[39m'\u001b[39;49m\u001b[39mhello\u001b[39;49m\u001b[39m'\u001b[39;49m,\u001b[39m'\u001b[39;49m\u001b[39mhello\u001b[39;49m\u001b[39m'\u001b[39;49m)\n",
      "\u001b[1;32md:\\python scripts\\iNeuron_assignments\\Assignment_11.ipynb Cell 5\u001b[0m in \u001b[0;36mtrigger_assert\u001b[1;34m(eggs, bacon)\u001b[0m\n\u001b[0;32m      <a href='vscode-notebook-cell:/d%3A/python%20scripts/iNeuron_assignments/Assignment_11.ipynb#W6sZmlsZQ%3D%3D?line=0'>1</a>\u001b[0m \u001b[39mdef\u001b[39;00m \u001b[39mtrigger_assert\u001b[39m(eggs,bacon):\n\u001b[1;32m----> <a href='vscode-notebook-cell:/d%3A/python%20scripts/iNeuron_assignments/Assignment_11.ipynb#W6sZmlsZQ%3D%3D?line=1'>2</a>\u001b[0m     \u001b[39massert\u001b[39;00m(eggs\u001b[39m.\u001b[39mupper()\u001b[39m!=\u001b[39mbacon\u001b[39m.\u001b[39mupper()),\u001b[39m'\u001b[39m\u001b[39mboth strings shoud not be same\u001b[39m\u001b[39m'\u001b[39m\n",
      "\u001b[1;31mAssertionError\u001b[0m: both strings shoud not be same"
     ]
    }
   ],
   "source": [
    "trigger_assert('hello','hello')"
   ]
  },
  {
   "cell_type": "code",
   "execution_count": null,
   "metadata": {},
   "outputs": [
    {
     "ename": "AssertionError",
     "evalue": "both strings shoud not be same",
     "output_type": "error",
     "traceback": [
      "\u001b[1;31m---------------------------------------------------------------------------\u001b[0m",
      "\u001b[1;31mAssertionError\u001b[0m                            Traceback (most recent call last)",
      "\u001b[1;32md:\\python scripts\\iNeuron_assignments\\Assignment_11.ipynb Cell 6\u001b[0m in \u001b[0;36m<cell line: 1>\u001b[1;34m()\u001b[0m\n\u001b[1;32m----> <a href='vscode-notebook-cell:/d%3A/python%20scripts/iNeuron_assignments/Assignment_11.ipynb#X10sZmlsZQ%3D%3D?line=0'>1</a>\u001b[0m trigger_assert(\u001b[39m'\u001b[39;49m\u001b[39mgoodbey\u001b[39;49m\u001b[39m'\u001b[39;49m,\u001b[39m'\u001b[39;49m\u001b[39mGOODbey\u001b[39;49m\u001b[39m'\u001b[39;49m)\n",
      "\u001b[1;32md:\\python scripts\\iNeuron_assignments\\Assignment_11.ipynb Cell 6\u001b[0m in \u001b[0;36mtrigger_assert\u001b[1;34m(eggs, bacon)\u001b[0m\n\u001b[0;32m      <a href='vscode-notebook-cell:/d%3A/python%20scripts/iNeuron_assignments/Assignment_11.ipynb#X10sZmlsZQ%3D%3D?line=0'>1</a>\u001b[0m \u001b[39mdef\u001b[39;00m \u001b[39mtrigger_assert\u001b[39m(eggs,bacon):\n\u001b[1;32m----> <a href='vscode-notebook-cell:/d%3A/python%20scripts/iNeuron_assignments/Assignment_11.ipynb#X10sZmlsZQ%3D%3D?line=1'>2</a>\u001b[0m     \u001b[39massert\u001b[39;00m(eggs\u001b[39m.\u001b[39mupper()\u001b[39m!=\u001b[39mbacon\u001b[39m.\u001b[39mupper()),\u001b[39m'\u001b[39m\u001b[39mboth strings shoud not be same\u001b[39m\u001b[39m'\u001b[39m\n",
      "\u001b[1;31mAssertionError\u001b[0m: both strings shoud not be same"
     ]
    }
   ],
   "source": [
    "trigger_assert('goodbey','GOODbey')"
   ]
  },
  {
   "attachments": {},
   "cell_type": "markdown",
   "metadata": {},
   "source": [
    "### *__Q.3:- Create an assert statement that throws an AssertionError every time.__*\n",
    "### __*Ans:-*__ "
   ]
  },
  {
   "cell_type": "code",
   "execution_count": 28,
   "metadata": {},
   "outputs": [
    {
     "ename": "AssertionError",
     "evalue": "always shows Assertion Error",
     "output_type": "error",
     "traceback": [
      "\u001b[1;31m---------------------------------------------------------------------------\u001b[0m",
      "\u001b[1;31mAssertionError\u001b[0m                            Traceback (most recent call last)",
      "\u001b[1;32md:\\python scripts\\iNeuron_assignments\\Assignment_11.ipynb Cell 8\u001b[0m in \u001b[0;36m<cell line: 3>\u001b[1;34m()\u001b[0m\n\u001b[0;32m      <a href='vscode-notebook-cell:/d%3A/python%20scripts/iNeuron_assignments/Assignment_11.ipynb#X13sZmlsZQ%3D%3D?line=0'>1</a>\u001b[0m \u001b[39mdef\u001b[39;00m \u001b[39massert_always\u001b[39m(x\u001b[39m=\u001b[39m\u001b[39m'\u001b[39m\u001b[39m'\u001b[39m):\n\u001b[0;32m      <a href='vscode-notebook-cell:/d%3A/python%20scripts/iNeuron_assignments/Assignment_11.ipynb#X13sZmlsZQ%3D%3D?line=1'>2</a>\u001b[0m     \u001b[39massert\u001b[39;00m x\u001b[39m!=\u001b[39m\u001b[39m'\u001b[39m\u001b[39m'\u001b[39m,\u001b[39m'\u001b[39m\u001b[39malways shows Assertion Error\u001b[39m\u001b[39m'\u001b[39m\n\u001b[1;32m----> <a href='vscode-notebook-cell:/d%3A/python%20scripts/iNeuron_assignments/Assignment_11.ipynb#X13sZmlsZQ%3D%3D?line=2'>3</a>\u001b[0m assert_always()\n",
      "\u001b[1;32md:\\python scripts\\iNeuron_assignments\\Assignment_11.ipynb Cell 8\u001b[0m in \u001b[0;36massert_always\u001b[1;34m(x)\u001b[0m\n\u001b[0;32m      <a href='vscode-notebook-cell:/d%3A/python%20scripts/iNeuron_assignments/Assignment_11.ipynb#X13sZmlsZQ%3D%3D?line=0'>1</a>\u001b[0m \u001b[39mdef\u001b[39;00m \u001b[39massert_always\u001b[39m(x\u001b[39m=\u001b[39m\u001b[39m'\u001b[39m\u001b[39m'\u001b[39m):\n\u001b[1;32m----> <a href='vscode-notebook-cell:/d%3A/python%20scripts/iNeuron_assignments/Assignment_11.ipynb#X13sZmlsZQ%3D%3D?line=1'>2</a>\u001b[0m     \u001b[39massert\u001b[39;00m x\u001b[39m!=\u001b[39m\u001b[39m'\u001b[39m\u001b[39m'\u001b[39m,\u001b[39m'\u001b[39m\u001b[39malways shows Assertion Error\u001b[39m\u001b[39m'\u001b[39m\n",
      "\u001b[1;31mAssertionError\u001b[0m: always shows Assertion Error"
     ]
    }
   ],
   "source": [
    "def assert_always(x=''):\n",
    "    assert x!='','always shows Assertion Error'\n",
    "assert_always()"
   ]
  },
  {
   "attachments": {},
   "cell_type": "markdown",
   "metadata": {},
   "source": [
    "### *__Q.4:- What are the two lines that must be present in your software in order to call logging.debug()?__*\n",
    "### __*Ans:-*__ "
   ]
  },
  {
   "attachments": {},
   "cell_type": "markdown",
   "metadata": {},
   "source": [
    "* Following are the two lines that must be present in software in order to call logging.debug()"
   ]
  },
  {
   "cell_type": "code",
   "execution_count": 29,
   "metadata": {},
   "outputs": [],
   "source": [
    "import logging as lg\n",
    "lg.basicConfig(filename = 'assign_11_log.txt',level=lg.DEBUG, format=' %(asctime)s - %(levelname)s - %(message)s')"
   ]
  },
  {
   "attachments": {},
   "cell_type": "markdown",
   "metadata": {},
   "source": [
    "### *__Q.5:-  What are the two lines that your program must have in order to have logging.debug() send a logging message to a file named programLog.txt?__*\n",
    "### __*Ans:-*__ "
   ]
  },
  {
   "attachments": {},
   "cell_type": "markdown",
   "metadata": {},
   "source": [
    "* In following program line number ```2 and 3 ``` are two lines that your program must have in order to have logging.debug() send a logging message to a file named programLog.txt"
   ]
  },
  {
   "cell_type": "code",
   "execution_count": 30,
   "metadata": {},
   "outputs": [
    {
     "name": "stdout",
     "output_type": "stream",
     "text": [
      " 2023-02-16 19:03:19,415 - DEBUG - testing check\n",
      " 2023-02-16 19:06:25,588 - DEBUG - testing check\n",
      " 2023-02-16 19:06:38,643 - DEBUG - testing check\n",
      " 2023-02-17 22:31:58,634 - DEBUG - testing check\n",
      "\n"
     ]
    }
   ],
   "source": [
    "import logging as lg\n",
    "lg.basicConfig(filename = 'programLog.txt',level=lg.DEBUG, format=' %(asctime)s - %(levelname)s - %(message)s')\n",
    "lg.debug(\"testing check\")\n",
    "\n",
    "log = open('programLog.txt','r')\n",
    "print(log.read())\n",
    "log.close()"
   ]
  },
  {
   "attachments": {},
   "cell_type": "markdown",
   "metadata": {},
   "source": [
    "### *__Q.6:- What are the five levels of logging?__*\n",
    "### __*Ans:-*__ "
   ]
  },
  {
   "attachments": {},
   "cell_type": "markdown",
   "metadata": {},
   "source": [
    "* The Five levels of logging is as follows:->\n",
    "    * ```CRITICAL(50)```\n",
    "    * ```ERROR(40)```\n",
    "    * ```WARNING(30)```\n",
    "    * ```INFO(20)```\n",
    "    * ```DEBUG(10)```\n",
    "    * ```NOTSET(0)```"
   ]
  },
  {
   "attachments": {},
   "cell_type": "markdown",
   "metadata": {},
   "source": [
    "### *__Q.7:- What line of code would you add to your software to disable all logging messages?__*\n",
    "### __*Ans:-*__ "
   ]
  },
  {
   "attachments": {},
   "cell_type": "markdown",
   "metadata": {},
   "source": [
    "* line of code would you add to your software to disable all logging messages is :->"
   ]
  },
  {
   "cell_type": "code",
   "execution_count": 31,
   "metadata": {},
   "outputs": [],
   "source": [
    "import logging as lg\n",
    "lg.disable = True"
   ]
  },
  {
   "attachments": {},
   "cell_type": "markdown",
   "metadata": {},
   "source": [
    "### *__Q.8:- Why is using logging messages better than using print() to display the same message?__*\n",
    "### __*Ans:-*__ "
   ]
  },
  {
   "attachments": {},
   "cell_type": "markdown",
   "metadata": {},
   "source": [
    "* you can disable logging messages without removing the logging function after devolopment is complete, whereas you need to manually remove print() statements.\n",
    "* Print is used when you want to display any particular message or help to user, whereas logging is used to record all events like error, info, debug messages, timestamps."
   ]
  },
  {
   "attachments": {},
   "cell_type": "markdown",
   "metadata": {},
   "source": [
    "### *__Q.9:- What are the differences between the Step Over, Step In, and Step Out buttons in the debugger?__*\n",
    "### __*Ans:-*__ "
   ]
  },
  {
   "attachments": {},
   "cell_type": "markdown",
   "metadata": {},
   "source": [
    "* The Differences between Step Over, Step In, Step Out buttons in debugger are as follows :-\n",
    "    * ```Step in``` :- ```Step In``` button will execute the next line of code and then pause.\n",
    "    * ```Step Over``` :- ```Step Over``` button will execute the next line of code, similar to Step In button. but if the next line of code is a ```function call```, then it will exicute the fuction and return the associated value and then pause.\n",
    "    * ```Step out``` :- ```Step Out``` button will execute lines of code abd will returns from the current function."
   ]
  },
  {
   "attachments": {},
   "cell_type": "markdown",
   "metadata": {},
   "source": [
    "### *__Q.10:- After you click Continue, when will the debugger stop ?__*\n",
    "### __*Ans:-*__ "
   ]
  },
  {
   "attachments": {},
   "cell_type": "markdown",
   "metadata": {},
   "source": [
    "* if you click ```Continue``` code will work normally unless it encouters breakpoint."
   ]
  },
  {
   "attachments": {},
   "cell_type": "markdown",
   "metadata": {},
   "source": [
    "### *__Q.11:- What is the concept of a breakpoint?__*\n",
    "### __*Ans:-*__ "
   ]
  },
  {
   "attachments": {},
   "cell_type": "markdown",
   "metadata": {},
   "source": [
    "* ```Breakpoint``` is a line of code that causes the debugger to pause when the program exicutes the line."
   ]
  },
  {
   "attachments": {},
   "cell_type": "markdown",
   "metadata": {},
   "source": [
    "# __Assignment complete.__ "
   ]
  },
  {
   "cell_type": "markdown",
   "metadata": {},
   "source": []
  }
 ],
 "metadata": {
  "kernelspec": {
   "display_name": "base",
   "language": "python",
   "name": "python3"
  },
  "language_info": {
   "codemirror_mode": {
    "name": "ipython",
    "version": 3
   },
   "file_extension": ".py",
   "mimetype": "text/x-python",
   "name": "python",
   "nbconvert_exporter": "python",
   "pygments_lexer": "ipython3",
   "version": "3.9.12"
  },
  "orig_nbformat": 4,
  "vscode": {
   "interpreter": {
    "hash": "ad2bdc8ecc057115af97d19610ffacc2b4e99fae6737bb82f5d7fb13d2f2c186"
   }
  }
 },
 "nbformat": 4,
 "nbformat_minor": 2
}

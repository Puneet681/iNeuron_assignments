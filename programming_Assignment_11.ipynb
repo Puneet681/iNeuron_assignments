{
 "cells": [
  {
   "attachments": {},
   "cell_type": "markdown",
   "metadata": {},
   "source": [
    "# __Programming Assignment 11__\n",
    "### *__Q.1:- Write a Python program to find words which are greater than given length k?__*\n",
    "### __*Ans:-*__ "
   ]
  },
  {
   "cell_type": "code",
   "execution_count": 11,
   "metadata": {},
   "outputs": [
    {
     "name": "stdout",
     "output_type": "stream",
     "text": [
      "Words longer than 5 characters: ['example', 'sentence', 'demonstrate', 'finding', 'string.']\n"
     ]
    }
   ],
   "source": [
    "def find_long_words(string, k):\n",
    "    words = string.split()\n",
    "\n",
    "    long_words = []\n",
    "\n",
    "    for word in words:\n",
    "        if len(word) > k:\n",
    "            long_words.append(word)\n",
    "\n",
    "    return long_words\n",
    "\n",
    "\n",
    "# Example usage\n",
    "text = \"This is an example sentence to demonstrate finding long words in a string.\"\n",
    "k = 5\n",
    "\n",
    "long_words = find_long_words(text, k)\n",
    "\n",
    "print(f\"Words longer than {k} characters: {long_words}\")\n"
   ]
  },
  {
   "attachments": {},
   "cell_type": "markdown",
   "metadata": {},
   "source": [
    "### *__Q.2:- Write a Python program for removing i-th character from a string?__*\n",
    "### __*Ans:-*__ "
   ]
  },
  {
   "cell_type": "code",
   "execution_count": 12,
   "metadata": {},
   "outputs": [
    {
     "name": "stdout",
     "output_type": "stream",
     "text": [
      "Original string: This is an example sentence to demonstrate finding long words in a string.\n",
      "String with 7-th character removed: Hello, orld!\n"
     ]
    }
   ],
   "source": [
    "def remove_char(string, i):\n",
    "    chars = list(string)\n",
    "\n",
    "    del chars[i]\n",
    "\n",
    "    return ''.join(chars)\n",
    "\n",
    "\n",
    "# Example usage\n",
    "new_text = remove_char(\"Hello, World!\", 7)\n",
    "\n",
    "print(f\"Original string: {text}\")\n",
    "print(f\"String with {i}-th character removed: {new_text}\")\n"
   ]
  },
  {
   "attachments": {},
   "cell_type": "markdown",
   "metadata": {},
   "source": [
    "### *__Q.3:- Write a Python program to split and join a string?__*\n",
    "### __*Ans:-*__ "
   ]
  },
  {
   "cell_type": "code",
   "execution_count": 13,
   "metadata": {},
   "outputs": [
    {
     "name": "stdout",
     "output_type": "stream",
     "text": [
      "Original string 1 : This is an example sentence one.\n",
      "Modified string 1 : This-is-an-example-sentence-one.\n",
      "\n",
      "\n",
      "Original string 2 : This is an example sentence Two.\n",
      "Modified string 2 : This-_-is-_-an-_-example-_-sentence-_-Two.\n"
     ]
    }
   ],
   "source": [
    "def split_and_join(string, sep=\"-\"):\n",
    "    words = string.split()\n",
    "\n",
    "    new_string = sep.join(words)\n",
    "\n",
    "    return new_string\n",
    "\n",
    "\n",
    "# Example usage 1\n",
    "text = \"This is an example sentence one.\"\n",
    "\n",
    "new_text = split_and_join(text)\n",
    "\n",
    "print(f\"Original string 1 : {text}\")\n",
    "print(f\"Modified string 1 : {new_text}\")\n",
    "print(\"\\n\")\n",
    "\n",
    "# Example usage 2\n",
    "text = \"This is an example sentence Two.\"\n",
    "\n",
    "new_text = split_and_join(text, sep=\"-_-\")\n",
    "\n",
    "print(f\"Original string 2 : {text}\")\n",
    "print(f\"Modified string 2 : {new_text}\")\n"
   ]
  },
  {
   "attachments": {},
   "cell_type": "markdown",
   "metadata": {},
   "source": [
    "### *__Q.4:- Write a Python to check if a given string is binary string or not?__*\n",
    "### __*Ans:-*__ "
   ]
  },
  {
   "cell_type": "code",
   "execution_count": 14,
   "metadata": {},
   "outputs": [
    {
     "name": "stdout",
     "output_type": "stream",
     "text": [
      "1100110010 is binary string: True\n",
      "11001100a0 is binary string: False\n"
     ]
    }
   ],
   "source": [
    "def is_binary_string(string):\n",
    "   \n",
    "    for char in string:\n",
    "        if char != '0' and char != '1':\n",
    "            return False\n",
    "    return True\n",
    "\n",
    "\n",
    "# Example usage\n",
    "text1 = \"1100110010\"\n",
    "text2 = \"11001100a0\"\n",
    "\n",
    "print(f\"{text1} is binary string: {is_binary_string(text1)}\")\n",
    "print(f\"{text2} is binary string: {is_binary_string(text2)}\")\n"
   ]
  },
  {
   "attachments": {},
   "cell_type": "markdown",
   "metadata": {},
   "source": [
    "### *__Q.5:- Write a Python program to find uncommon words from two Strings?__*\n",
    "### __*Ans:-*__ "
   ]
  },
  {
   "cell_type": "code",
   "execution_count": 15,
   "metadata": {},
   "outputs": [
    {
     "name": "stdout",
     "output_type": "stream",
     "text": [
      "String 1: My name is Puneet Naresh Sharma.\n",
      "String 2: My brother's Name is Sanjiv Naresh Sharma.\n",
      "Uncommon words: ['Name', 'Sanjiv', 'name', \"brother's\", 'Puneet']\n"
     ]
    }
   ],
   "source": [
    "def find_uncommon_words(string1, string2):\n",
    "\n",
    "    words1 = string1.split()\n",
    "    words2 = string2.split()\n",
    "\n",
    "    uncommon_words = set(words1) ^ set(words2)\n",
    "\n",
    "    return list(uncommon_words)\n",
    "\n",
    "\n",
    "# Example usage\n",
    "text1 = \"My name is Puneet Naresh Sharma.\"\n",
    "text2 = \"My brother's Name is Sanjiv Naresh Sharma.\"\n",
    "\n",
    "uncommon = find_uncommon_words(text1, text2)\n",
    "\n",
    "print(f\"String 1: {text1}\")\n",
    "print(f\"String 2: {text2}\")\n",
    "print(f\"Uncommon words: {uncommon}\")\n"
   ]
  },
  {
   "attachments": {},
   "cell_type": "markdown",
   "metadata": {},
   "source": [
    "### *__Q.6:- Write a Python to find all duplicate characters in string?__*\n",
    "### __*Ans:-*__ "
   ]
  },
  {
   "cell_type": "code",
   "execution_count": 16,
   "metadata": {},
   "outputs": [
    {
     "name": "stdout",
     "output_type": "stream",
     "text": [
      "Original string: MynameisPuneetNareshSharma.\n",
      "Duplicate characters: ['a', 'r', 'm', 'h', 'e', 'n', 's']\n"
     ]
    }
   ],
   "source": [
    "def find_duplicate_chars(string):\n",
    "    duplicates = set()\n",
    "    seen_chars = set()\n",
    "\n",
    "    for char in string:\n",
    "        if char in seen_chars:\n",
    "            duplicates.add(char)\n",
    "        else:\n",
    "            seen_chars.add(char)\n",
    "\n",
    "    return list(duplicates)\n",
    "\n",
    "\n",
    "# Example usage\n",
    "text = \"MynameisPuneetNareshSharma.\"\n",
    "\n",
    "duplicates = find_duplicate_chars(text)\n",
    "\n",
    "print(f\"Original string: {text}\")\n",
    "print(f\"Duplicate characters: {duplicates}\")\n"
   ]
  },
  {
   "attachments": {},
   "cell_type": "markdown",
   "metadata": {},
   "source": [
    "### *__Q.7:- Write a Python Program to check if a string contains any special character?__*\n",
    "### __*Ans:-*__ "
   ]
  },
  {
   "cell_type": "code",
   "execution_count": 17,
   "metadata": {},
   "outputs": [
    {
     "name": "stdout",
     "output_type": "stream",
     "text": [
      "String 1: This is a string with no special characters.\n",
      "Contains special characters? True\n",
      "String 2: This is a string with @ special characters.\n",
      "Contains special characters? True\n"
     ]
    }
   ],
   "source": [
    "import re\n",
    "\n",
    "def contains_special_char(string):\n",
    "    pattern = re.compile('[^a-zA-Z0-9_]')\n",
    "    return bool(pattern.search(string))\n",
    "\n",
    "# Example usage\n",
    "text1 = \"This is a string with no special characters.\"\n",
    "text2 = \"This is a string with @ special characters.\"\n",
    "\n",
    "contains_special1 = contains_special_char(text1)\n",
    "contains_special2 = contains_special_char(text2)\n",
    "\n",
    "print(f\"String 1: {text1}\")\n",
    "print(f\"Contains special characters? {contains_special1}\")\n",
    "print(f\"String 2: {text2}\")\n",
    "print(f\"Contains special characters? {contains_special2}\")\n"
   ]
  },
  {
   "attachments": {},
   "cell_type": "markdown",
   "metadata": {},
   "source": [
    "# __Assignment complete.__"
   ]
  }
 ],
 "metadata": {
  "kernelspec": {
   "display_name": "base",
   "language": "python",
   "name": "python3"
  },
  "language_info": {
   "codemirror_mode": {
    "name": "ipython",
    "version": 3
   },
   "file_extension": ".py",
   "mimetype": "text/x-python",
   "name": "python",
   "nbconvert_exporter": "python",
   "pygments_lexer": "ipython3",
   "version": "3.9.13"
  },
  "orig_nbformat": 4
 },
 "nbformat": 4,
 "nbformat_minor": 2
}

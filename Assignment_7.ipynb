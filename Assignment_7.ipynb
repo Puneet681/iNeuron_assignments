{
 "cells": [
  {
   "attachments": {},
   "cell_type": "markdown",
   "metadata": {},
   "source": [
    "# __Assignment 7__\n",
    "### *__Q.1:- What is the name of the feature responsible for generating Regex objects?__*\n",
    "### __*Ans:-*__ "
   ]
  },
  {
   "attachments": {},
   "cell_type": "markdown",
   "metadata": {},
   "source": [
    "* The fuction ```re.complile()``` is responsible for genrating Regex objects."
   ]
  },
  {
   "attachments": {},
   "cell_type": "markdown",
   "metadata": {},
   "source": [
    "### *__Q.2:- Why do raw strings often appear in Regex objects?__*\n",
    "### __*Ans:-*__ "
   ]
  },
  {
   "attachments": {},
   "cell_type": "markdown",
   "metadata": {},
   "source": [
    "* The raw strings appear in Regex objects so that *\"backslashes do not have to be escaped\"*"
   ]
  },
  {
   "attachments": {},
   "cell_type": "markdown",
   "metadata": {},
   "source": [
    "### *__Q.3:- What is the return value of the search() method?__*\n",
    "### __*Ans:-*__ "
   ]
  },
  {
   "attachments": {},
   "cell_type": "markdown",
   "metadata": {},
   "source": [
    "* Th return value of ```search()``` method is \n",
    "    * The frist appearance of *match* if match is found.\n",
    "    * value will be ```None``` if match is *not* found.\n",
    "* Eg:-"
   ]
  },
  {
   "cell_type": "code",
   "execution_count": 69,
   "metadata": {},
   "outputs": [
    {
     "name": "stdout",
     "output_type": "stream",
     "text": [
      "frist Ex. output <re.Match object; span=(8, 9), match='i'>\n",
      "second Ex.output None\n"
     ]
    }
   ],
   "source": [
    "import re\n",
    "search = re.search('i','My name is Puneet', flags=re.IGNORECASE)\n",
    "print('frist Ex. output',search)\n",
    "search = re.search('X','My name is Puneet', flags=re.IGNORECASE)\n",
    "print('second Ex.output',search)"
   ]
  },
  {
   "attachments": {},
   "cell_type": "markdown",
   "metadata": {},
   "source": [
    "### *__Q.4:- From a Match item, how do you get the actual strings that match the pattern?__*\n",
    "### __*Ans:-*__ "
   ]
  },
  {
   "attachments": {},
   "cell_type": "markdown",
   "metadata": {},
   "source": [
    "* For matched items the fuction ```group()``` is used which return the complet string that matches the pattern.\n",
    "* Eg :-"
   ]
  },
  {
   "cell_type": "code",
   "execution_count": 70,
   "metadata": {},
   "outputs": [
    {
     "name": "stdout",
     "output_type": "stream",
     "text": [
      "output Puneet\n"
     ]
    }
   ],
   "source": [
    "import re\n",
    "test = re.search('Puneet','My name is Puneet')\n",
    "print('output', test.group())"
   ]
  },
  {
   "attachments": {},
   "cell_type": "markdown",
   "metadata": {},
   "source": [
    "### *__Q.5:- In the regex which created from the r'(\\d\\d\\d)-(\\d\\d\\d-\\d\\d\\d\\d)', what does group zero cover? Group 2? Group 1?__*\n",
    "### __*Ans:-*__ "
   ]
  },
  {
   "attachments": {},
   "cell_type": "markdown",
   "metadata": {},
   "source": [
    "* Fuction ```groups()``` returns all groups in a tuple format\n",
    "* Fuction ```group()``` returns the fully matched string\n",
    "* Fuction ```group(1)``` returns the first group\n",
    "* Fuction ```group(2)``` returns the second group\n",
    "* the __*Example*__ is as follows:-"
   ]
  },
  {
   "cell_type": "code",
   "execution_count": 71,
   "metadata": {},
   "outputs": [
    {
     "name": "stdout",
     "output_type": "stream",
     "text": [
      "('457', '444-1425')\n",
      "457-444-1425\n",
      "457\n",
      "444-1425\n"
     ]
    }
   ],
   "source": [
    "# Example Program\n",
    "import re\n",
    "# Genrating Regex Object.\n",
    "example_regex = re.compile(r'(\\d\\d\\d)-(\\d\\d\\d-\\d\\d\\d\\d)')\n",
    "# searching the regex pattern in the string.\n",
    "match = example_regex.search('this is example 457-444-1425.')\n",
    "\n",
    "print(match.groups()) # Prints all groups in a tuple format.\n",
    "print(match.group()) # Always returns the fully matched string .\n",
    "print(match.group(1)) # Returns the first group.\n",
    "print(match.group(2)) # Returns the second group.\n"
   ]
  },
  {
   "attachments": {},
   "cell_type": "markdown",
   "metadata": {},
   "source": [
    "### *__Q.6:- In standard expression syntax, parentheses and intervals have distinct meanings. How can you tell a regex that you want it to fit real parentheses and periods?__*\n",
    "### __*Ans:-*__ "
   ]
  },
  {
   "attachments": {},
   "cell_type": "markdown",
   "metadata": {},
   "source": [
    "* escape characters such as \\. \\( and \\)  in the raw string passed to re.compile() will match actual parenthesis characters.\n",
    "* in fillowing example ```\"\\\"``` is used to tell a regex that you want it to fit real parentheses and periods."
   ]
  },
  {
   "cell_type": "code",
   "execution_count": 72,
   "metadata": {},
   "outputs": [
    {
     "name": "stdout",
     "output_type": "stream",
     "text": [
      "<re.Match object; span=(16, 28), match='457-444-1425'>\n"
     ]
    }
   ],
   "source": [
    "#  Example\n",
    "import re\n",
    "example_regex = re.compile(r'(\\d\\d\\d)-(\\d\\d\\d-\\d\\d\\d\\d)') \n",
    "match = example_regex.search('this is example 457-444-1425.')\n",
    "print(match)"
   ]
  },
  {
   "attachments": {},
   "cell_type": "markdown",
   "metadata": {},
   "source": [
    "### *__Q.7:-The findall() method returns a string list or a list of string tuples. What causes it to return one of the two options?__*\n",
    "### __*Ans:-*__ "
   ]
  },
  {
   "attachments": {},
   "cell_type": "markdown",
   "metadata": {},
   "source": [
    "* If the regex pattern has no groups, a list of strings matched is returned. if the regex pattern has groups, a list of tuple of strings is returned."
   ]
  },
  {
   "cell_type": "code",
   "execution_count": 73,
   "metadata": {},
   "outputs": [
    {
     "name": "stdout",
     "output_type": "stream",
     "text": [
      "[('(457)', '444-1425')]\n",
      "['457-444-1425']\n"
     ]
    }
   ],
   "source": [
    "# Example Program 1\n",
    "import re\n",
    "example_regex = re.compile(r'(\\(\\d\\d\\d\\)) (\\d\\d\\d-\\d\\d\\d\\d)')\n",
    "match = example_regex.findall('this is example (457) 444-1425.')\n",
    "print(match)\n",
    "\n",
    "# Example Program 2\n",
    "import re\n",
    "example_regex = re.compile(r'\\d{3}-\\d{3}-\\d{4}')\n",
    "match = example_regex.findall('this is example 457-444-1425.')\n",
    "print(match)\n"
   ]
  },
  {
   "attachments": {},
   "cell_type": "markdown",
   "metadata": {},
   "source": [
    "### *__Q.8:-In standard expressions, what does the | character mean?__*\n",
    "### __*Ans:-*__ "
   ]
  },
  {
   "attachments": {},
   "cell_type": "markdown",
   "metadata": {},
   "source": [
    "* In Standard Expressions '```|```' means ```OR``` operator."
   ]
  },
  {
   "attachments": {},
   "cell_type": "markdown",
   "metadata": {},
   "source": [
    "### *__Q.9:-In regular expressions, what does the ? character stand for?__*\n",
    "### __*Ans:-*__ "
   ]
  },
  {
   "attachments": {},
   "cell_type": "markdown",
   "metadata": {},
   "source": [
    "* In regular Expressions, ```'?'``` characters represents zero or one match of the preceeding group."
   ]
  },
  {
   "cell_type": "code",
   "execution_count": 74,
   "metadata": {},
   "outputs": [
    {
     "name": "stdout",
     "output_type": "stream",
     "text": [
      "<re.Match object; span=(9, 13), match='mens'>\n",
      "<re.Match object; span=(9, 15), match='womens'>\n"
     ]
    }
   ],
   "source": [
    "# Example Program\n",
    "import re\n",
    "match = re.search(\"(wo)?mens\",\"group of mens returns\")\n",
    "print(match)\n",
    "match = re.search(\"(wo)?mens\",\"group of womens returns\")\n",
    "print(match)"
   ]
  },
  {
   "attachments": {},
   "cell_type": "markdown",
   "metadata": {},
   "source": [
    "### *__Q.10:-In regular expressions, what is the difference between the + and * characters?__*\n",
    "### __*Ans:-*__ "
   ]
  },
  {
   "attachments": {},
   "cell_type": "markdown",
   "metadata": {},
   "source": [
    "* In Regular Expressions, ```*``` Represents Zero or more occurances of the preceeding group.\n",
    "* In Regular Expressions, ```+``` represents one or more occurances of the preceeding group."
   ]
  },
  {
   "cell_type": "code",
   "execution_count": 75,
   "metadata": {},
   "outputs": [
    {
     "name": "stdout",
     "output_type": "stream",
     "text": [
      "<re.Match object; span=(9, 13), match='mens'>\n",
      "None\n"
     ]
    }
   ],
   "source": [
    "import re\n",
    "match = re.search(\"(wo)*mens\",\"group of mens returns\")\n",
    "print(match)\n",
    "match = re.search(\"(wo)+mens\",\"group of mens returns\")\n",
    "print(match)"
   ]
  },
  {
   "attachments": {},
   "cell_type": "markdown",
   "metadata": {},
   "source": [
    "### *__Q.11:-What is the difference between {4} and {4,5} in regular expression?__*\n",
    "### __*Ans:-*__ "
   ]
  },
  {
   "attachments": {},
   "cell_type": "markdown",
   "metadata": {},
   "source": [
    "* ```{4}``` means that its preceeding group should repeat ```4``` times. \n",
    "* ```{4,5}``` means that its preceeding group should repeat ```mininum 4``` times and ```maximum 5``` times inclusively"
   ]
  },
  {
   "cell_type": "code",
   "execution_count": 76,
   "metadata": {},
   "outputs": [
    {
     "name": "stdout",
     "output_type": "stream",
     "text": [
      "111\n",
      "11111\n"
     ]
    }
   ],
   "source": [
    "import re\n",
    "example_1 = re.compile(r'(1){3}')\n",
    "match_1 = example_1.search('111')\n",
    "print(match_1.group())\n",
    "\n",
    "import re\n",
    "example_2 =re.compile(r'(1){4,5}')\n",
    "match_2 = example_2.search('111 11111')\n",
    "print(match_2.group())"
   ]
  },
  {
   "attachments": {},
   "cell_type": "markdown",
   "metadata": {},
   "source": [
    "### *__Q.12:-What do you mean by the \\d, \\w, and \\s shorthand character classes signify in regular expressions?__*\n",
    "### __*Ans:-*__ "
   ]
  },
  {
   "attachments": {},
   "cell_type": "markdown",
   "metadata": {},
   "source": [
    "* ```\\w``` – Matches a ```word character``` equivalent to ```[a-zA-Z0-9_]```\n",
    "* ```\\d``` – Matches ```digit character``` equivalent to ```[0-9]```\n",
    "* ```\\s``` – Matches ```whitespace character``` equivalent to ```(space, tab, newline, etc.)```"
   ]
  },
  {
   "cell_type": "markdown",
   "metadata": {},
   "source": []
  },
  {
   "attachments": {},
   "cell_type": "markdown",
   "metadata": {},
   "source": [
    "### *__Q.13:-What do means by \\D, \\W, and \\S shorthand character classes signify in regular expressions?__*\n",
    "### __*Ans:-*__ "
   ]
  },
  {
   "attachments": {},
   "cell_type": "markdown",
   "metadata": {},
   "source": [
    "* ```\\W``` – Matches any ```non-alphanumeric character``` equivalent to ```[^a-zA-Z0-9_]```\n",
    "* ```\\D``` – Matches any ```non-digit character``` equivalent to the set class ```[^0-9]```\n",
    "* ```\\S``` – Matches any ```non-whitespace character```"
   ]
  },
  {
   "attachments": {},
   "cell_type": "markdown",
   "metadata": {},
   "source": [
    "### __*Q.14:-What is the difference between .*? and .*?*__\n",
    "### __*Ans:-*__ "
   ]
  },
  {
   "attachments": {},
   "cell_type": "markdown",
   "metadata": {},
   "source": [
    "* ```.*``` returns the ```longest``` string that meets the condition.\n",
    "* ```.*?``` returns the ```shortest``` string that meets the condition."
   ]
  },
  {
   "attachments": {},
   "cell_type": "markdown",
   "metadata": {},
   "source": [
    "### *__Q.15:-What is the syntax for matching both numbers and lowercase letters with a character class?__*\n",
    "### __*Ans:-*__ "
   ]
  },
  {
   "attachments": {},
   "cell_type": "markdown",
   "metadata": {},
   "source": [
    "* The Synatax is Either [a-z0-9] or [0-9a-z]"
   ]
  },
  {
   "attachments": {},
   "cell_type": "markdown",
   "metadata": {},
   "source": [
    "### *__Q.16:-What is the procedure for making a normal expression in regax case insensitive?__*\n",
    "### __*Ans:-*__ "
   ]
  },
  {
   "attachments": {},
   "cell_type": "markdown",
   "metadata": {},
   "source": [
    "* We can use ```flag = re.IGNORECASE``` in re.complie() make a noraml expression case insensitive."
   ]
  },
  {
   "attachments": {},
   "cell_type": "markdown",
   "metadata": {},
   "source": [
    "### *__Q.17:-What does the . character normally match? What does it match if re.DOTALL is passed as 2nd argument in re.compile()?__*\n",
    "### __*Ans:-*__ "
   ]
  },
  {
   "attachments": {},
   "cell_type": "markdown",
   "metadata": {},
   "source": [
    "* '```.```' character matches everything in input except newline character.\n",
    "* By passing ```flag = re.DOTALL``` to re.compile(), you can make the '```.```' character match all characters, including the newline character."
   ]
  },
  {
   "attachments": {},
   "cell_type": "markdown",
   "metadata": {},
   "source": [
    "### *__Q.18:-If numReg = re.compile(r'\\d+'), what will numRegex.sub('X', '11 drummers, 10 pipers, five rings, 4 hen') return?__*\n",
    "### __*Ans:-*__ "
   ]
  },
  {
   "attachments": {},
   "cell_type": "markdown",
   "metadata": {},
   "source": [
    "* If numReg = re.compile(r'\\d+'), then will numRegex.sub('X', '11 drummers, 10 pipers, five rings, 4 hen') will return :-\n",
    "* ```X drummers, X pipers, five rings, X hen```"
   ]
  },
  {
   "cell_type": "code",
   "execution_count": 77,
   "metadata": {},
   "outputs": [
    {
     "name": "stdout",
     "output_type": "stream",
     "text": [
      "X drummers, X pipers, five rings, X hen\n"
     ]
    }
   ],
   "source": [
    "import re\n",
    "numReg = re.compile(r'\\d+')\n",
    "match = numReg.sub('X', '11 drummers, 10 pipers, five rings, 4 hen')\n",
    "print(match)"
   ]
  },
  {
   "attachments": {},
   "cell_type": "markdown",
   "metadata": {},
   "source": [
    "### *__Q.19:-What does passing re.VERBOSE as the 2nd argument to re.compile() allow to do?__*\n",
    "### __*Ans:-*__ "
   ]
  },
  {
   "attachments": {},
   "cell_type": "markdown",
   "metadata": {},
   "source": [
    "* passing ```re.VERBOSE``` as the 2nd argument to ```re.compile()``` allow to ```add whitespace and comments``` to string passed to ```re.compile()```"
   ]
  },
  {
   "cell_type": "code",
   "execution_count": 78,
   "metadata": {},
   "outputs": [
    {
     "name": "stdout",
     "output_type": "stream",
     "text": [
      "None\n",
      "<re.Match object; span=(0, 46), match=' block 00 , society name , area , city, 404040'>\n"
     ]
    }
   ],
   "source": [
    "# Without Using VERBOSE\n",
    "import re\n",
    "regex_address_1 = re.compile(r'^(\\w+),(\\D+),(\\D+),(\\D+),([\\d]+)', re.IGNORECASE)\n",
    " \n",
    "# Using VERBOSE\n",
    "regex_address_2 = re.compile(r\"\"\"\n",
    "                            ^([\\w ]+)        # block-flat number\n",
    "                            ,                # single , sign \n",
    "                            (\\D+)            # society name\n",
    "                            ,                # single , sign\n",
    "                            (\\D+)            # area name\n",
    "                            ,                # single , sign\n",
    "                            (\\D+)            # city name\n",
    "                            ,                # single , sign\n",
    "                            ([ \\d]+)          # pincode\n",
    "                         \"\"\",re.VERBOSE | re.IGNORECASE) \n",
    "\n",
    "match_1 = regex_address_1.search(\" block 00 , society name , area , city, 404040\")\n",
    "match_2 = regex_address_2.search(\" block 00 , society name , area , city, 404040\")\n",
    "print(match_1)\n",
    "print(match_2)"
   ]
  },
  {
   "attachments": {},
   "cell_type": "markdown",
   "metadata": {},
   "source": [
    "### *__Q.20:-How would you write a regex that match a number with comma for every three digits? It must match the given following:__*\n",
    "* __*'42'*__\n",
    "* __*'1,234'*__\n",
    "* __*'6,368,745'*__\n",
    "* __*but not the following:*__\n",
    "* __*'12,34,567' (which has only two digits between the commas)*__\n",
    "* __*'1234' (which lacks commas)*__\n",
    "### __*Ans:-*__ \n",
    "* #### __``` pattern = r'^\\d{1,3}(,\\d{3})*$'```__"
   ]
  },
  {
   "cell_type": "code",
   "execution_count": 79,
   "metadata": {},
   "outputs": [
    {
     "name": "stdout",
     "output_type": "stream",
     "text": [
      "Output:- 42 :- <re.Match object; span=(0, 2), match='42'>\n",
      "Output:- 1,234 :- <re.Match object; span=(0, 5), match='1,234'>\n",
      "Output:- 6,368,745 :- <re.Match object; span=(0, 9), match='6,368,745'>\n",
      "Output:- 12,34,567 :- None\n",
      "Output:- 1234 :- None\n"
     ]
    }
   ],
   "source": [
    "import re\n",
    "element_regex = re.compile(r'^\\d{1,3}(,\\d{3})*$')\n",
    "elements = ['42','1,234', '6,368,745','12,34,567','1234']\n",
    "for element in elements:\n",
    "    print('Output:-',element, ':-', element_regex.search(element))"
   ]
  },
  {
   "attachments": {},
   "cell_type": "markdown",
   "metadata": {},
   "source": [
    "### *__Q.21:-How would you write a regex that matches the full name of someone whose last name is Watanabe? You can assume that the first name that comes before it will always be one word that begins with a capital letter. The regex must match the following:__*\n",
    "* __*'Haruto Watanabe'*__\n",
    "* __*'Alice Watanabe'*__\n",
    "* __*'RoboCop Watanabe'*__\n",
    "* __*but not the following:*__\n",
    "* __*'haruto Watanabe' (where the first name is not capitalized)*__\n",
    "* __*'Mr. Watanabe' (where the preceding word has a nonletter character)*__\n",
    "* __*'Watanabe' (which has no first name)*__\n",
    "* __*'Haruto watanabe' (where Watanabe is not capitalized)*__\n",
    "### __*Ans:-*__ \n",
    "* #### __``` pattern = r'[A-Z]{1}[a-z]*\\sWatanabe'```__"
   ]
  },
  {
   "cell_type": "code",
   "execution_count": 80,
   "metadata": {},
   "outputs": [
    {
     "name": "stdout",
     "output_type": "stream",
     "text": [
      "Output:-  Haruto Watanabe :- <re.Match object; span=(0, 15), match='Haruto Watanabe'>\n",
      "Output:-  Alice Watanabe :- <re.Match object; span=(0, 14), match='Alice Watanabe'>\n",
      "Output:-  RoboCop Watanabe :- <re.Match object; span=(4, 16), match='Cop Watanabe'>\n",
      "Output:-  haruto Watanabe :- None\n",
      "Output:-  Mr. Watanabe :- None\n",
      "Output:-  Watanabe :- None\n",
      "Output:-  Haruto watanabe :- None\n"
     ]
    }
   ],
   "source": [
    "import re\n",
    "name_regex = re.compile(r'[A-Z]{1}[a-z]*\\sWatanabe')\n",
    "names_list = ['Haruto Watanabe','Alice Watanabe','RoboCop Watanabe','haruto Watanabe','Mr. Watanabe','Watanabe','Haruto watanabe']\n",
    "for name in names_list :\n",
    "    print('Output:- ',name,':-',name_regex.search(name))"
   ]
  },
  {
   "attachments": {},
   "cell_type": "markdown",
   "metadata": {},
   "source": [
    "### *__Q.22:-How would you write a regex that matches a sentence where the first word is either Alice, Bob,or Carol; the second word is either eats, pets, or throws; the third word is apples, cats, or baseballs; and the sentence ends with a period? This regex should be case-insensitive. It must match the following:__*\n",
    "* __*'Alice eats apples.'*__\n",
    "* __*'Bob pets cats.'*__\n",
    "* __*'Carol throws baseballs.'*__\n",
    "* __*'Alice throws Apples.'*__\n",
    "* __*'BOB EATS CATS.'*__\n",
    "* __*but not the following:*__\n",
    "* __*'RoboCop eats apples.'*__\n",
    "* __*'ALICE THROWS FOOTBALLS.'*__\n",
    "* __*'Carol eats 7 cats.'*__\n",
    "### __*Ans:-*__ \n",
    "* #### __``` pattern = r'(Alice|Bob|Carol)\\s(eats|pets|throws)\\s(apples|cats|baseballs)\\.'```__ "
   ]
  },
  {
   "cell_type": "code",
   "execution_count": 81,
   "metadata": {},
   "outputs": [
    {
     "name": "stdout",
     "output_type": "stream",
     "text": [
      "Output:-  Alice eats apples. :- <re.Match object; span=(0, 18), match='Alice eats apples.'>\n",
      "Output:-  Bob pets cats. :- <re.Match object; span=(0, 14), match='Bob pets cats.'>\n",
      "Output:-  Carol throws baseballs. :- <re.Match object; span=(0, 23), match='Carol throws baseballs.'>\n",
      "Output:-  Alice throws Apples. :- <re.Match object; span=(0, 20), match='Alice throws Apples.'>\n",
      "Output:-  BOB EATS CATS. :- <re.Match object; span=(0, 14), match='BOB EATS CATS.'>\n",
      "Output:-  RoboCop eats apples. :- None\n",
      "Output:-  ALICE THROWS FOOTBALLS. :- None\n",
      "Output:-  Carol eats 7 cats. :- None\n"
     ]
    }
   ],
   "source": [
    "import re\n",
    "pattern = r'(Alice|Bob|Carol)\\s(eats|pets|throws)\\s(apples|cats|baseballs)\\.'\n",
    "case_regex = re.compile(pattern,re.IGNORECASE)\n",
    "case_list = ['Alice eats apples.','Bob pets cats.','Carol throws baseballs.','Alice throws Apples.','BOB EATS CATS.','RoboCop eats apples.'\n",
    ",'ALICE THROWS FOOTBALLS.','Carol eats 7 cats.']\n",
    "for case in case_list:\n",
    "    print('Output:- ',case,':-',case_regex.search(case))"
   ]
  },
  {
   "attachments": {},
   "cell_type": "markdown",
   "metadata": {},
   "source": [
    "# __Assignment complete.__ "
   ]
  }
 ],
 "metadata": {
  "kernelspec": {
   "display_name": "Python 3.9.12 ('base')",
   "language": "python",
   "name": "python3"
  },
  "language_info": {
   "codemirror_mode": {
    "name": "ipython",
    "version": 3
   },
   "file_extension": ".py",
   "mimetype": "text/x-python",
   "name": "python",
   "nbconvert_exporter": "python",
   "pygments_lexer": "ipython3",
   "version": "3.9.12"
  },
  "orig_nbformat": 4,
  "vscode": {
   "interpreter": {
    "hash": "ad2bdc8ecc057115af97d19610ffacc2b4e99fae6737bb82f5d7fb13d2f2c186"
   }
  }
 },
 "nbformat": 4,
 "nbformat_minor": 2
}

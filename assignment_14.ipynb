{
 "cells": [
  {
   "attachments": {},
   "cell_type": "markdown",
   "metadata": {},
   "source": [
    "# __Assignment 14__\n",
    "### *__Q.1:- What does RGBA stand fro?__*\n",
    "### __*Ans:-*__ "
   ]
  },
  {
   "attachments": {},
   "cell_type": "markdown",
   "metadata": {},
   "source": [
    "* ```RGBA``` is a four-channel format containing data for ```Red```, ```Green```, ```Blue```, and an ```Alpha``` value. Where Alpha Represents the Opacity"
   ]
  },
  {
   "attachments": {},
   "cell_type": "markdown",
   "metadata": {},
   "source": [
    "### *__Q.2:- From the Pillow module, how do you get the RGBA value of any images?__*\n",
    "### __*Ans:-*__ "
   ]
  },
  {
   "attachments": {},
   "cell_type": "markdown",
   "metadata": {},
   "source": [
    "* ```ImageColor.getcolor()``` gives ```rgba``` value of any image."
   ]
  },
  {
   "attachments": {},
   "cell_type": "markdown",
   "metadata": {},
   "source": [
    "### *__Q.3:- What is a box tuple, and how does it work?__*\n",
    "### __*Ans:-*__ "
   ]
  },
  {
   "attachments": {},
   "cell_type": "markdown",
   "metadata": {},
   "source": [
    "* A ```box tuple``` is a tuple value of four integers:->\n",
    "    * the ```left-edge``` x-coordinate is the ```width```.\n",
    "    * the ```top-edge``` y-coordinateis the ```height```."
   ]
  },
  {
   "attachments": {},
   "cell_type": "markdown",
   "metadata": {},
   "source": [
    "### *__Q.4:- Use your image and load in notebook then, How can you find out the width and height of an Image object?__*\n",
    "### __*Ans:-*__ "
   ]
  },
  {
   "cell_type": "code",
   "execution_count": 21,
   "metadata": {},
   "outputs": [
    {
     "name": "stdout",
     "output_type": "stream",
     "text": [
      "Width, Height -> 4496,3000\n"
     ]
    }
   ],
   "source": [
    "from PIL import Image\n",
    "pic = Image.open('assignment_14.jpg')\n",
    "width,height = pic.size\n",
    "print(f'Width, Height -> {width},{height}')"
   ]
  },
  {
   "attachments": {},
   "cell_type": "markdown",
   "metadata": {},
   "source": [
    "### *__Q.5:- What method would you call to get Image object for a 100×100 image, excluding the lower-left quarter of it?__*\n",
    "### __*Ans:-*__ "
   ]
  },
  {
   "cell_type": "code",
   "execution_count": 22,
   "metadata": {},
   "outputs": [
    {
     "data": {
      "text/plain": [
       "(100, 100)"
      ]
     },
     "execution_count": 22,
     "metadata": {},
     "output_type": "execute_result"
    }
   ],
   "source": [
    "from PIL import Image\n",
    "img = Image.open('assignment_14.jpg')\n",
    "new_img = img.crop((0,0,100,100))\n",
    "new_img.size"
   ]
  },
  {
   "attachments": {},
   "cell_type": "markdown",
   "metadata": {},
   "source": [
    "### *__Q.6:- After making changes to an Image object, how could you save it as an image file?__*\n",
    "### __*Ans:-*__ "
   ]
  },
  {
   "cell_type": "code",
   "execution_count": 23,
   "metadata": {},
   "outputs": [],
   "source": [
    "from PIL import Image\n",
    "pic = Image.open('assignment_14.jpg')\n",
    "pic.save('assignment_14_2.jpg')\n"
   ]
  },
  {
   "attachments": {},
   "cell_type": "markdown",
   "metadata": {},
   "source": [
    "### *__Q.7:- What module contains Pillow’s shape-drawing code?__*\n",
    "### __*Ans:-*__ "
   ]
  },
  {
   "attachments": {},
   "cell_type": "markdown",
   "metadata": {},
   "source": [
    "* Pillows ```ImageDraw``` module contains Shape drawing methods."
   ]
  },
  {
   "attachments": {},
   "cell_type": "markdown",
   "metadata": {},
   "source": [
    "### *__Q.8:- Image objects do not have drawing methods. What kind of object does? How do you get this kind of object?__*\n",
    "### __*Ans:-*__ "
   ]
  },
  {
   "attachments": {},
   "cell_type": "markdown",
   "metadata": {},
   "source": [
    "* ```ImageDraw`` objects have ```shape-drawing``` methods such as ```point()```, ```line()```, or ```rectangle()```.\n",
    "* They are returned by passing the Image object to the ```ImageDraw.Draw()``` function. "
   ]
  },
  {
   "attachments": {},
   "cell_type": "markdown",
   "metadata": {},
   "source": [
    "# __Assignment complete.__"
   ]
  }
 ],
 "metadata": {
  "kernelspec": {
   "display_name": "base",
   "language": "python",
   "name": "python3"
  },
  "language_info": {
   "codemirror_mode": {
    "name": "ipython",
    "version": 3
   },
   "file_extension": ".py",
   "mimetype": "text/x-python",
   "name": "python",
   "nbconvert_exporter": "python",
   "pygments_lexer": "ipython3",
   "version": "3.9.12"
  },
  "orig_nbformat": 4,
  "vscode": {
   "interpreter": {
    "hash": "ad2bdc8ecc057115af97d19610ffacc2b4e99fae6737bb82f5d7fb13d2f2c186"
   }
  }
 },
 "nbformat": 4,
 "nbformat_minor": 2
}

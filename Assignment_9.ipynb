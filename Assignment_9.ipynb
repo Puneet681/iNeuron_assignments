{
 "cells": [
  {
   "attachments": {},
   "cell_type": "markdown",
   "metadata": {},
   "source": [
    "# __Assignment 9__\n",
    "### *__Q.1:- To what does a relative path refer?__*\n",
    "### __*Ans:-*__ "
   ]
  },
  {
   "attachments": {},
   "cell_type": "markdown",
   "metadata": {},
   "source": [
    "* The ```relative path``` refers to the path of some file with repective to ```PWD```(```P```resent ```W```orking ```D```irectory).\n",
    "* for example:-\n",
    "    * pwd = ```C:/folder```\n",
    "    * absulute path of ```file.txt``` = ```C:/folder/sub_fol/file.txt```\n",
    "    * then relative path of ```file.txt``` = ```sub_fol/file.txt```"
   ]
  },
  {
   "attachments": {},
   "cell_type": "markdown",
   "metadata": {},
   "source": [
    "### *__Q.2:- What does an absolute path start with your operating system?__*\n",
    "### __*Ans:-*__ "
   ]
  },
  {
   "attachments": {},
   "cell_type": "markdown",
   "metadata": {},
   "source": [
    "* In Linux based systems the absolute path starts with ```/```. \n",
    "* In Windows based systems absolute path starts with ```<drive name>:```\n",
    "* Example:-\n",
    "    * ```C:``` for absolute path of any file in C Drive of the windows System.\n",
    "    * ```D:``` for absolute path of any file in D Drive of the windows System. ETC.  "
   ]
  },
  {
   "attachments": {},
   "cell_type": "markdown",
   "metadata": {},
   "source": [
    "### *__Q.3:- What does the functions os.getcwd() and os.chdir() do ?__*\n",
    "### __*Ans:-*__ "
   ]
  },
  {
   "attachments": {},
   "cell_type": "markdown",
   "metadata": {},
   "source": [
    "* Fuction ```os.getcwd()``` returns the location of ```CWD```(```C```urrent ```W```orking ```D```irectory)\n",
    "* Fuction ```os.chdir()``` will change the location of ```CWD```(```C```urrent ```W```orking ```D```irectory) to specified path."
   ]
  },
  {
   "attachments": {},
   "cell_type": "markdown",
   "metadata": {},
   "source": [
    "### *__Q.4:- What are . and .. folders ?__*\n",
    "### __*Ans:-*__ "
   ]
  },
  {
   "attachments": {},
   "cell_type": "markdown",
   "metadata": {},
   "source": [
    "* '```.```' represent the ```CWD```(```C```urrent ```W```orking ```D```irectory).\n",
    "* '```..```' represents the folder\\location of the directory before ```CWD```(```C```urrent ```W```orking ```D```irectory)."
   ]
  },
  {
   "attachments": {},
   "cell_type": "markdown",
   "metadata": {},
   "source": [
    "### *__Q.5:- In C:\\bacon\\eggs\\spam.txt, which part is the dir name, and which part is the base name?__*\n",
    "### __*Ans:-*__ "
   ]
  },
  {
   "attachments": {},
   "cell_type": "markdown",
   "metadata": {},
   "source": [
    "* In ```C:\\bacon\\eggs\\spam.txt``` the basename is ```spam.txt```."
   ]
  },
  {
   "cell_type": "code",
   "execution_count": 16,
   "metadata": {},
   "outputs": [
    {
     "data": {
      "text/plain": [
       "'spam.txt'"
      ]
     },
     "execution_count": 16,
     "metadata": {},
     "output_type": "execute_result"
    }
   ],
   "source": [
    "import os\n",
    "os.path.basename(\"C:\\bacon\\eggs\\spam.txt\")"
   ]
  },
  {
   "attachments": {},
   "cell_type": "markdown",
   "metadata": {},
   "source": [
    "### *__Q.6:- What are the three “mode” arguments that can be passed to the open() function?__*\n",
    "### __*Ans:-*__ "
   ]
  },
  {
   "attachments": {},
   "cell_type": "markdown",
   "metadata": {},
   "source": [
    "* The three ```“mode”``` arguments that can be passed to the ```open()``` function is as Follows:-\n",
    "* ```mode``` is 2nd argument that can be passed to ```open('<filename>','<mode>')```\n",
    "* The default ```mode``` is the ```read mode``` i.e ```r```.\n",
    "    * ```r``` this is ```read``` mode.\n",
    "    * ```w``` this is ```write``` mode.\n",
    "    * ```a``` this is ```append``` mode.\n",
    "    * ```r+``` this is ```read and write``` mode.\n",
    "    * ```a+``` this is ```append and read mode``` mode.\n",
    "    * ```x``` this is ```creation``` mode used to write in new file that didn't exist before."
   ]
  },
  {
   "attachments": {},
   "cell_type": "markdown",
   "metadata": {},
   "source": [
    "### *__Q.7:- What happens if an existing file is opened in write mode ?__*\n",
    "### __*Ans:-*__ "
   ]
  },
  {
   "attachments": {},
   "cell_type": "markdown",
   "metadata": {},
   "source": [
    "* If existing wile is opend in ```'w' write``` mode then the file will be overwritten meaning all the pre-existeing data will be lost"
   ]
  },
  {
   "attachments": {},
   "cell_type": "markdown",
   "metadata": {},
   "source": [
    "### *__Q.8:- How do you tell the difference between read() and readlines() ?__*\n",
    "### __*Ans:-*__ "
   ]
  },
  {
   "attachments": {},
   "cell_type": "markdown",
   "metadata": {},
   "source": [
    "* Fuction ```read()``` will read the file as whole.\n",
    "* Fuction ```readlines()``` will only read lines of the file and will return the list of lines"
   ]
  },
  {
   "cell_type": "code",
   "execution_count": 43,
   "metadata": {},
   "outputs": [
    {
     "name": "stdout",
     "output_type": "stream",
     "text": [
      "\n",
      "beautifulsoup4==4.9.3\n",
      "bs4==0.0.1\n",
      "certifi==2021.5.30\n",
      "charset-normalizer==2.0.4\n",
      "idna==3.2\n",
      "lxml==4.6.3\n",
      "requests==2.26.0\n",
      "selenium==3.141.0\n",
      "soupsieve==2.2.1\n",
      "urllib3==1.26.6\n",
      "\n"
     ]
    }
   ],
   "source": [
    "a = open('../requirement.txt','r')\n",
    "print(a.read())"
   ]
  },
  {
   "cell_type": "code",
   "execution_count": 44,
   "metadata": {},
   "outputs": [
    {
     "name": "stdout",
     "output_type": "stream",
     "text": [
      "['\\n', 'beautifulsoup4==4.9.3\\n', 'bs4==0.0.1\\n', 'certifi==2021.5.30\\n', 'charset-normalizer==2.0.4\\n', 'idna==3.2\\n', 'lxml==4.6.3\\n', 'requests==2.26.0\\n', 'selenium==3.141.0\\n', 'soupsieve==2.2.1\\n', 'urllib3==1.26.6\\n']\n"
     ]
    }
   ],
   "source": [
    "a = open('../requirement.txt','r')\n",
    "print(a.readlines())"
   ]
  },
  {
   "attachments": {},
   "cell_type": "markdown",
   "metadata": {},
   "source": [
    "### *__Q.9:- What data structure does a shelf value resemble ?__*\n",
    "### __*Ans:-*__ "
   ]
  },
  {
   "attachments": {},
   "cell_type": "markdown",
   "metadata": {},
   "source": [
    "* The data structure does a shelf value resemble a ```dictionary```"
   ]
  },
  {
   "attachments": {},
   "cell_type": "markdown",
   "metadata": {},
   "source": [
    "# __Assignment complete.__ "
   ]
  },
  {
   "cell_type": "markdown",
   "metadata": {},
   "source": []
  }
 ],
 "metadata": {
  "kernelspec": {
   "display_name": "base",
   "language": "python",
   "name": "python3"
  },
  "language_info": {
   "codemirror_mode": {
    "name": "ipython",
    "version": 3
   },
   "file_extension": ".py",
   "mimetype": "text/x-python",
   "name": "python",
   "nbconvert_exporter": "python",
   "pygments_lexer": "ipython3",
   "version": "3.9.12"
  },
  "orig_nbformat": 4,
  "vscode": {
   "interpreter": {
    "hash": "ad2bdc8ecc057115af97d19610ffacc2b4e99fae6737bb82f5d7fb13d2f2c186"
   }
  }
 },
 "nbformat": 4,
 "nbformat_minor": 2
}

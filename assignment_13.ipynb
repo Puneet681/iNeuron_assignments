{
 "cells": [
  {
   "attachments": {},
   "cell_type": "markdown",
   "metadata": {},
   "source": [
    "# __Assignment 13__\n",
    "### *__Q.1:- What advantages do Excel spreadsheets have over CSV spreadsheets?__*\n",
    "### __*Ans:-*__ "
   ]
  },
  {
   "attachments": {},
   "cell_type": "markdown",
   "metadata": {},
   "source": [
    "* Advantages of Excel Spreadsheet over CSV Spreadsheet is as follows :->\n",
    "    * Excel (XLS and XLSX) file formats are better for storing and analysing complex data.\n",
    "    * An Excel not only stores data but can also do operations on the data using macros, formulas etc\n",
    "    * CSV files are plain-text files, Does not contain formatting, formulas, macros, etc. It is also known as flat files\n"
   ]
  },
  {
   "attachments": {},
   "cell_type": "markdown",
   "metadata": {},
   "source": [
    "### *__Q.2:- What do you pass to csv.reader() and csv.writer() to create reader and writer objects?__*\n",
    "### __*Ans:-*__ "
   ]
  },
  {
   "cell_type": "code",
   "execution_count": 22,
   "metadata": {},
   "outputs": [
    {
     "name": "stdout",
     "output_type": "stream",
     "text": [
      "['Year', 'Industry_aggregation_NZSIOC', 'Industry_code_NZSIOC', 'Industry_name_NZSIOC', 'Units', 'Variable_code', '', '', '']\n",
      "['2021', 'Level 1', '99999', 'All industries', 'Dollars (millions)', 'H01', '', '', '']\n",
      "['2021', 'Level 1', '99999', 'All industries', 'Dollars (millions)', 'H04', '', '', '']\n"
     ]
    }
   ],
   "source": [
    "import csv\n",
    "with open('text.csv','r') as file:\n",
    "    csv_file = csv.reader(file,delimiter=',')\n",
    "    for ele in csv_file:\n",
    "        print(ele)"
   ]
  },
  {
   "attachments": {},
   "cell_type": "markdown",
   "metadata": {},
   "source": [
    "### *__Q.3:- What modes do File objects for reader and writer objects need to be opened in?__*\n",
    "### __*Ans:-*__ "
   ]
  },
  {
   "attachments": {},
   "cell_type": "markdown",
   "metadata": {},
   "source": [
    "* For ```csv.reader``` (iterable_file_object), the file objects needed to be opened in read mode ```mode='r'```.\n",
    "* For ```csv.write``` (iterable_file_object) the file objects needed to be opened in write mode ```mode='w'```."
   ]
  },
  {
   "attachments": {},
   "cell_type": "markdown",
   "metadata": {},
   "source": [
    "### *__Q.4:- What method takes a list argument and writes it to a CSV file?__*\n",
    "### __*Ans:-*__ "
   ]
  },
  {
   "attachments": {},
   "cell_type": "markdown",
   "metadata": {},
   "source": [
    "* ```csv.writer``` class provides two methods for writing to CSV. \n",
    "    * ```writerow()``` and ```writerows()```.\n",
    "        * ```writerow()``` method writes a single row at a time.\n",
    "        * ```writerows()``` method is used to write multiple rows at a time."
   ]
  },
  {
   "cell_type": "code",
   "execution_count": 23,
   "metadata": {},
   "outputs": [],
   "source": [
    "import csv      \n",
    "Headline = ['Name', 'Middle_Name', 'Surname', 'AGE'] #column names \n",
    "details = [ \n",
    "            ['Puneet', 'Naresh', 'Sharma', '24'],  # data rows of csv file \n",
    "            ['Sanjiv', 'Naresh', 'Sharma', '27']\n",
    "       ] \n",
    "with open(\"Assignment_13_test.csv\", 'w') as csvfile: \n",
    "    csvwriter = csv.writer(csvfile) # creating a csv writer object \n",
    "    csvwriter.writerow(Headline) # writing the Headlines\n",
    "    csvwriter.writerows(details) # writing the details rows "
   ]
  },
  {
   "attachments": {},
   "cell_type": "markdown",
   "metadata": {},
   "source": [
    "### *__Q.5:- What do the keyword arguments delimiter and line terminator do?__*\n",
    "### __*Ans:-*__ "
   ]
  },
  {
   "attachments": {},
   "cell_type": "markdown",
   "metadata": {},
   "source": [
    "* In any ```CSV``` file '```,```' is ```Delimiter.```\n",
    "* We can use any Character as per our needs if required. \n",
    "* Similarly Line ```Terminator``` comes at end of line by ```default``` it is ```newline``` and can be changed accourding to Requirement.\n",
    "\n"
   ]
  },
  {
   "attachments": {},
   "cell_type": "markdown",
   "metadata": {},
   "source": [
    "### *__Q.6:- What function takes a string of JSON data and returns a Python data structure?__*\n",
    "### __*Ans:-*__ "
   ]
  },
  {
   "attachments": {},
   "cell_type": "markdown",
   "metadata": {},
   "source": [
    "* ```loads()``` method takes a string of JSON data and returns a Python data structure."
   ]
  },
  {
   "cell_type": "code",
   "execution_count": 24,
   "metadata": {},
   "outputs": [
    {
     "name": "stdout",
     "output_type": "stream",
     "text": [
      "{\n",
      "    \"Name\": \"Puneet Sharma\",\n",
      "    \"age\": \"24\"\n",
      "}\n",
      "Type of my_details_json is <class 'str'>\n",
      "{'Name': 'Puneet Sharma', 'age': '24'}\n",
      "Type of my_details is <class 'dict'>\n"
     ]
    }
   ],
   "source": [
    "import json\n",
    "my_name_json ='''{\n",
    "    \"Name\": \"Puneet Sharma\",\n",
    "    \"age\": \"24\"\n",
    "}'''\n",
    "print(my_name_json)\n",
    "print(f'Type of my_details_json is {type(my_name_json)}')\n",
    "JASON = json.loads(my_name_json)\n",
    "print(JASON)\n",
    "print(f'Type of my_details is {type(JASON)}')"
   ]
  },
  {
   "attachments": {},
   "cell_type": "markdown",
   "metadata": {},
   "source": [
    "### *__Q.7:- What function takes a Python data structure and returns a string of JSON data?__*\n",
    "### __*Ans:-*__ "
   ]
  },
  {
   "attachments": {},
   "cell_type": "markdown",
   "metadata": {},
   "source": [
    "* ```dumps()``` method takes a python data structure and returns a string of JSON data."
   ]
  },
  {
   "cell_type": "code",
   "execution_count": 25,
   "metadata": {},
   "outputs": [
    {
     "name": "stdout",
     "output_type": "stream",
     "text": [
      "{\n",
      "    \"Name\": \"Puneet Sharma\",\n",
      "    \"age\": \"24\"\n",
      "}\n",
      "Type of my_details is <class 'str'>\n",
      "Type of my_details_json is <class 'str'>\n"
     ]
    }
   ],
   "source": [
    "import json\n",
    "my_name_json ='''{\n",
    "    \"Name\": \"Puneet Sharma\",\n",
    "    \"age\": \"24\"\n",
    "}'''\n",
    "print(my_name_json)\n",
    "print(f'Type of my_details is {type(my_name_json)}')\n",
    "my_details_json = json.dumps(my_name_json, indent=4, sort_keys=True)\n",
    "print(f'Type of my_details_json is {type(my_details_json)}')"
   ]
  },
  {
   "attachments": {},
   "cell_type": "markdown",
   "metadata": {},
   "source": [
    "# __Assignment complete.__"
   ]
  }
 ],
 "metadata": {
  "kernelspec": {
   "display_name": "base",
   "language": "python",
   "name": "python3"
  },
  "language_info": {
   "codemirror_mode": {
    "name": "ipython",
    "version": 3
   },
   "file_extension": ".py",
   "mimetype": "text/x-python",
   "name": "python",
   "nbconvert_exporter": "python",
   "pygments_lexer": "ipython3",
   "version": "3.9.12"
  },
  "orig_nbformat": 4,
  "vscode": {
   "interpreter": {
    "hash": "ad2bdc8ecc057115af97d19610ffacc2b4e99fae6737bb82f5d7fb13d2f2c186"
   }
  }
 },
 "nbformat": 4,
 "nbformat_minor": 2
}

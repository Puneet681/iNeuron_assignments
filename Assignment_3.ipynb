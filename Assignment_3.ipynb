{
 "cells": [
  {
   "cell_type": "markdown",
   "metadata": {},
   "source": [
    "# __Assignment 3__\n",
    "### *__Q.1:- Why are functions advantageous to have in your programs?__*\n",
    "### __*Ans:-*__ \n",
    "* Following are thge reasons for having ```fuctions``` in your programs:-\n",
    "    1. ```fuctions``` make your code moduler.\n",
    "    1. ```fuctions``` makes the code small.\n",
    "    1. ```fuctions``` makes code easy to understand.\n",
    "    1. ```fuctions``` makes code easy to write the script as you don't have to write the body of the fuction over again.\n",
    "    "
   ]
  },
  {
   "cell_type": "markdown",
   "metadata": {},
   "source": [
    "### *__Q.2:- When does the code in a function run: when it's specified or when it's called?__*\n",
    "### __*Ans:-*__ \n",
    "* The code in a fuction run : when the fuction is called."
   ]
  },
  {
   "cell_type": "markdown",
   "metadata": {},
   "source": [
    "### *__Q.3:- What statement creates a function?__*\n",
    "### __*Ans:-*__\n",
    "* The statment that creats the fuction is as follows:-"
   ]
  },
  {
   "cell_type": "code",
   "execution_count": 3,
   "metadata": {},
   "outputs": [],
   "source": [
    "def test(x,y):\n",
    "    return x+y"
   ]
  },
  {
   "cell_type": "markdown",
   "metadata": {},
   "source": [
    "* in the above example the statment ```def test(x,y)``` is what creats the fuction ```test```.\n",
    "* and the code ```return x=y``` is the body of the fuction\n",
    "* The fuction ```test``` is called and used as follows:-"
   ]
  },
  {
   "cell_type": "code",
   "execution_count": 4,
   "metadata": {},
   "outputs": [
    {
     "data": {
      "text/plain": [
       "9"
      ]
     },
     "execution_count": 4,
     "metadata": {},
     "output_type": "execute_result"
    }
   ],
   "source": [
    "test(4,5)"
   ]
  },
  {
   "cell_type": "markdown",
   "metadata": {},
   "source": [
    "### *__Q.4:- What is the difference between a function and a function call?__*\n",
    "### __*Ans:-*__\n",
    "* the diffrence between a fuction a call fuction call is as follows:-\n",
    "\n",
    "| A Fuction                  | Fuction Call                                                  |\n",
    "| -------------------------- | ------------------------------------------------------------- |\n",
    "| it is an statment          | it is an expression                                           |\n",
    "| it is an block of code     | it is an expression that runs the code in the defined fuction |\n",
    "| it does not give an output | it Gives an output                                            |\n"
   ]
  },
  {
   "cell_type": "markdown",
   "metadata": {},
   "source": [
    "### *__Q.5:- How many Global scopes are there in a Python program? How many Local scopes?__*\n",
    "### __*Ans:-*__"
   ]
  },
  {
   "cell_type": "markdown",
   "metadata": {},
   "source": [
    "* There are only __One Global Scope__ in Python\n",
    "* There are totally __Four__ scopes locally active in python thus there are __Four Local Scopes__ and those are:-\n",
    "    * Globle Scope\n",
    "    * Local Scope\n",
    "    * Built-in Scope\n",
    "    * Enclosing Scope"
   ]
  },
  {
   "cell_type": "markdown",
   "metadata": {},
   "source": [
    "### *__Q.6:- What happens to variables in a local scope when the function call returns?__*\n",
    "### __*Ans:-*__"
   ]
  },
  {
   "cell_type": "markdown",
   "metadata": {},
   "source": [
    "* When the function call returns the __Local Variables__ are destroyed"
   ]
  },
  {
   "cell_type": "markdown",
   "metadata": {},
   "source": [
    "### *__Q.7:- What is the concept of a return value? Is it possible to have a return value in an expression?__*\n",
    "### __*Ans:-*__"
   ]
  },
  {
   "cell_type": "markdown",
   "metadata": {},
   "source": [
    "* A return is a value that a fuction returns after the complete Exicution of a fuction or a script.\n",
    "* __Yes!__, it is possible to return an Expression as a return value from a fuction."
   ]
  },
  {
   "cell_type": "markdown",
   "metadata": {},
   "source": [
    "### *__Q.8:- If a function does not have a return statement, what is the return value of a call to that function?__*\n",
    "### __*Ans:-*__"
   ]
  },
  {
   "cell_type": "markdown",
   "metadata": {},
   "source": [
    "* If do not use return statment is a fuction it does not return any value.\n",
    "* It can be seen in the following example"
   ]
  },
  {
   "cell_type": "code",
   "execution_count": 5,
   "metadata": {},
   "outputs": [],
   "source": [
    "def test(x,y):\n",
    "    x=x\n",
    "    y=y\n",
    "    \n",
    "    x+y\n",
    "    \n",
    "test(4,5)"
   ]
  },
  {
   "cell_type": "markdown",
   "metadata": {},
   "source": [
    "### *__Q.9:- How do you make a function variable refer to the global variable?__*\n",
    "### __*Ans:-*__"
   ]
  },
  {
   "cell_type": "markdown",
   "metadata": {},
   "source": [
    "* Any variable that is used inside a fuction can not be used outside of that fuction.\n",
    "* If you want to use a variable inside a fuction __Globally__ you can use __globle keyword__"
   ]
  },
  {
   "cell_type": "markdown",
   "metadata": {},
   "source": [
    "### *__Q.10:- What is the data type of None?__*\n",
    "### __*Ans:-*__"
   ]
  },
  {
   "cell_type": "markdown",
   "metadata": {},
   "source": [
    "* The __None__ have it's own data type called __nonetype.__"
   ]
  },
  {
   "cell_type": "markdown",
   "metadata": {},
   "source": [
    "### *__Q.11:- What does the sentence import areallyourpetsnamederic do?__*\n",
    "### __*Ans:-*__"
   ]
  },
  {
   "cell_type": "markdown",
   "metadata": {},
   "source": [
    "* What The sentence import areallyourpetsnamederic does, it __import__ the module named __areallyourpetsnamederic__(This is not a python Built-in Module)."
   ]
  },
  {
   "cell_type": "markdown",
   "metadata": {},
   "source": []
  },
  {
   "cell_type": "markdown",
   "metadata": {},
   "source": [
    "### *__Q.12:- If you had a bacon() feature in a spam module, what would you call it after importing spam?__*\n",
    "### __*Ans:-*__"
   ]
  },
  {
   "cell_type": "markdown",
   "metadata": {},
   "source": [
    "* If i have __bacon()__ feature in a __spam__ module,after importing __spam__,\n",
    "* I will call __spam.bacon()__"
   ]
  },
  {
   "cell_type": "markdown",
   "metadata": {},
   "source": [
    "### *__Q.13:- What can you do to save a programme from crashing if it encounters an error?__*\n",
    "### __*Ans:-*__"
   ]
  },
  {
   "cell_type": "markdown",
   "metadata": {},
   "source": [
    "* To save a program from crashing we can use methode __Exception handling__.\n",
    "* In __Exception handling__ we write the suspecious code in the __try__ block, so if it fails it will go into __except__ block.\n",
    "* In _except__ block we write a code that will handle the program in case the code in __try__ block fails."
   ]
  },
  {
   "cell_type": "markdown",
   "metadata": {},
   "source": [
    "### *__Q.14:- What is the purpose of the try clause? What is the purpose of the except clause?__*\n",
    "### __*Ans:-*__"
   ]
  },
  {
   "cell_type": "markdown",
   "metadata": {},
   "source": [
    "* In the __try__ block, so if it fails it will go into __except__ block.\n",
    "* In __except__ block we write a code that will handle the program in case the code in __try__ block fails."
   ]
  },
  {
   "cell_type": "markdown",
   "metadata": {},
   "source": [
    "# __Assignment complete.__"
   ]
  }
 ],
 "metadata": {
  "kernelspec": {
   "display_name": "Python 3.9.12 ('base')",
   "language": "python",
   "name": "python3"
  },
  "language_info": {
   "codemirror_mode": {
    "name": "ipython",
    "version": 3
   },
   "file_extension": ".py",
   "mimetype": "text/x-python",
   "name": "python",
   "nbconvert_exporter": "python",
   "pygments_lexer": "ipython3",
   "version": "3.9.12"
  },
  "orig_nbformat": 4,
  "vscode": {
   "interpreter": {
    "hash": "ad2bdc8ecc057115af97d19610ffacc2b4e99fae6737bb82f5d7fb13d2f2c186"
   }
  }
 },
 "nbformat": 4,
 "nbformat_minor": 2
}

{
 "cells": [
  {
   "attachments": {},
   "cell_type": "markdown",
   "metadata": {},
   "source": [
    "# __Programming Assignment 10__\n",
    "### *__Q.1:- Write a Python program to find sum of elements in list?__*\n",
    "### __*Ans:-*__ "
   ]
  },
  {
   "cell_type": "code",
   "execution_count": 13,
   "metadata": {},
   "outputs": [
    {
     "name": "stdout",
     "output_type": "stream",
     "text": [
      "input list is[1, 2, 3, 55, 45]\n",
      "Sum of Elements: 106\n"
     ]
    }
   ],
   "source": [
    "def sumofList(list):\n",
    "    print(f'input list is{list}')\n",
    "    output = 0\n",
    "    for i in list:\n",
    "        output = output+i\n",
    "        \n",
    "    print(f'Sum of Elements: {output}')\n",
    "\n",
    "sumofList([1,2,3,55,45])"
   ]
  },
  {
   "attachments": {},
   "cell_type": "markdown",
   "metadata": {},
   "source": [
    "### *__Q.2:- Write a Python program to  Multiply all numbers in the list?__*\n",
    "### __*Ans:-*__ "
   ]
  },
  {
   "cell_type": "code",
   "execution_count": 15,
   "metadata": {},
   "outputs": [
    {
     "name": "stdout",
     "output_type": "stream",
     "text": [
      "input list is[1, 2, 3, 55, 45]\n",
      "multiplication of Elements: 14850\n"
     ]
    }
   ],
   "source": [
    "def multiplication_List(list):\n",
    "    print(f'input list is{list}')\n",
    "    output = 1\n",
    "    for i in list:\n",
    "        output = output*i\n",
    "        \n",
    "    print(f'multiplication of Elements: {output}')\n",
    "\n",
    "multiplication_List([1,2,3,55,45])"
   ]
  },
  {
   "attachments": {},
   "cell_type": "markdown",
   "metadata": {},
   "source": [
    "### *__Q.3:- Write a Python program to find smallest number in a list?__*\n",
    "### __*Ans:-*__ "
   ]
  },
  {
   "cell_type": "code",
   "execution_count": 26,
   "metadata": {},
   "outputs": [
    {
     "name": "stdout",
     "output_type": "stream",
     "text": [
      "input list is [20, 10, 30, 55, 45, 11]\n",
      "multiplication of Elements: 10\n"
     ]
    }
   ],
   "source": [
    "def smallest_ele_List(list):\n",
    "    print(f'input list is {list}')\n",
    "    list.sort()\n",
    "\n",
    "    print(f'multiplication of Elements: {list[0]}')\n",
    "    \n",
    "multiplication_List([20,10,30,55,45,11])"
   ]
  },
  {
   "attachments": {},
   "cell_type": "markdown",
   "metadata": {},
   "source": [
    "### *__Q.4:- Write a Python program to find largest number in a list?__*\n",
    "### __*Ans:-*__ "
   ]
  },
  {
   "cell_type": "code",
   "execution_count": 28,
   "metadata": {},
   "outputs": [
    {
     "name": "stdout",
     "output_type": "stream",
     "text": [
      "input list is [20, 10, 30, 55, 45, 11]\n",
      "multiplication of Elements: 55\n"
     ]
    }
   ],
   "source": [
    "def largest_ele_List(list):\n",
    "    print(f'input list is {list}')\n",
    "    list.sort()\n",
    "\n",
    "    print(f'largest elements: {list[len(list)-1]}')\n",
    "    \n",
    "largest_ele_List([20,10,30,55,45,11])"
   ]
  },
  {
   "attachments": {},
   "cell_type": "markdown",
   "metadata": {},
   "source": [
    "### *__Q.5:- Write a Python program to find second largest number in a list?__*\n",
    "### __*Ans:-*__ "
   ]
  },
  {
   "cell_type": "code",
   "execution_count": 29,
   "metadata": {},
   "outputs": [
    {
     "name": "stdout",
     "output_type": "stream",
     "text": [
      "input list is [20, 10, 30, 55, 45, 11]\n",
      "multiplication of Elements: 45\n"
     ]
    }
   ],
   "source": [
    "def second_largest_ele_List(list):\n",
    "    print(f'input list is {list}')\n",
    "    list.sort()\n",
    "\n",
    "    print(f'second largest elements: {list[len(list)-2]}')\n",
    "    \n",
    "second_largest_ele_List([20,10,30,55,45,11])"
   ]
  },
  {
   "attachments": {},
   "cell_type": "markdown",
   "metadata": {},
   "source": [
    "### *__Q.6:- Write a Python program to find N largest elements from a list?__*\n",
    "### __*Ans:-*__ "
   ]
  },
  {
   "cell_type": "code",
   "execution_count": 32,
   "metadata": {},
   "outputs": [
    {
     "name": "stdout",
     "output_type": "stream",
     "text": [
      "input list is [20, 10, 30, 55, 45, 11]\n",
      "3 largest elements: 20\n"
     ]
    }
   ],
   "source": [
    "def N_largest_ele_List(list,N):\n",
    "    print(f'input list is {list}')\n",
    "    list.sort()\n",
    "\n",
    "    print(f'{N} largest elements: {list[len(list)-(N+1)]}')\n",
    "    \n",
    "N_largest_ele_List([20,10,30,55,45,11],3)"
   ]
  },
  {
   "attachments": {},
   "cell_type": "markdown",
   "metadata": {},
   "source": [
    "### *__Q.7:- Write a Python program to print even numbers in a list?__*\n",
    "### __*Ans:-*__ "
   ]
  },
  {
   "cell_type": "code",
   "execution_count": 34,
   "metadata": {},
   "outputs": [
    {
     "name": "stdout",
     "output_type": "stream",
     "text": [
      "list of even numbers [20, 10, 30, 55, 45, 11] is :- [20, 10, 30]\n"
     ]
    }
   ],
   "source": [
    "def even_numbers_list(list):\n",
    "    output = []\n",
    "    for i in list:\n",
    "        if i%2==0:\n",
    "            output.append(i)\n",
    "\n",
    "    print(f'list of even numbers {list} is :- {output}')\n",
    "    \n",
    "even_numbers_list([20,10,30,55,45,11])"
   ]
  },
  {
   "attachments": {},
   "cell_type": "markdown",
   "metadata": {},
   "source": [
    "### *__Q.8:- Write a Python program to print odd numbers in a List?__*\n",
    "### __*Ans:-*__ "
   ]
  },
  {
   "cell_type": "code",
   "execution_count": 35,
   "metadata": {},
   "outputs": [
    {
     "name": "stdout",
     "output_type": "stream",
     "text": [
      "list of odd numbers [20, 10, 30, 55, 45, 11] is :- [55, 45, 11]\n"
     ]
    }
   ],
   "source": [
    "def odd_numbers_list(list):\n",
    "    output = []\n",
    "    for i in list:\n",
    "        if i%2!=0:\n",
    "            output.append(i)\n",
    "\n",
    "    print(f'list of odd numbers {list} is :- {output}')\n",
    "    \n",
    "odd_numbers_list([20,10,30,55,45,11])"
   ]
  },
  {
   "attachments": {},
   "cell_type": "markdown",
   "metadata": {},
   "source": [
    "### *__Q.9:- Write a Python program to Remove empty List from List?__*\n",
    "### __*Ans:-*__ "
   ]
  },
  {
   "cell_type": "code",
   "execution_count": 40,
   "metadata": {},
   "outputs": [
    {
     "name": "stdout",
     "output_type": "stream",
     "text": [
      "There is an Empty list in [[], 4, 5, [], 54] at Position 0\n",
      "There is an Empty list in [4, 5, [], 54] at Position 2\n",
      "The List after removing [] is [4, 5, 54]\n"
     ]
    }
   ],
   "source": [
    "def Remove_Empty_List():\n",
    "    list = eval(input('Enter all elements of the list: '))\n",
    "    for i in list:\n",
    "        if [] in list:\n",
    "            print(f'There is an Empty list in {list} at Position {list.index([])}')\n",
    "            list.remove([])\n",
    "    print(f'The List after removing [] is {list}')\n",
    "        \n",
    "Remove_Empty_List()"
   ]
  },
  {
   "attachments": {},
   "cell_type": "markdown",
   "metadata": {},
   "source": [
    "### *__Q.10:- Write a Python program to Cloning or Copying a list?__*\n",
    "### __*Ans:-*__ "
   ]
  },
  {
   "cell_type": "code",
   "execution_count": 42,
   "metadata": {},
   "outputs": [
    {
     "name": "stdout",
     "output_type": "stream",
     "text": [
      "[1, 2, 5, 85, 874, 56, 5] 2910109169856\n",
      "[1, 2, 5, 85, 874, 56, 5] 2910109668928\n"
     ]
    }
   ],
   "source": [
    "import copy\n",
    "\n",
    "def clone_List():\n",
    "    list = eval(input('Enter a list'))\n",
    "    print(list, id(list))\n",
    "    cloned_list = list.copy()\n",
    "    print(cloned_list, id(cloned_list))\n",
    "\n",
    "clone_List()"
   ]
  },
  {
   "attachments": {},
   "cell_type": "markdown",
   "metadata": {},
   "source": [
    "### *__Q.11:- Write a Python program to Count occurrences of an element in a list?__*\n",
    "### __*Ans:-*__ "
   ]
  },
  {
   "cell_type": "code",
   "execution_count": 45,
   "metadata": {},
   "outputs": [
    {
     "name": "stdout",
     "output_type": "stream",
     "text": [
      "There are 4 occurences of 2 in [1, 1, 2, 2, 2, 2, 5, 5]\n"
     ]
    }
   ],
   "source": [
    "def checkOccurence():\n",
    "    list = eval(input('Enter the elements of the list: '))\n",
    "    num = eval(input('Enter the element to find: '))\n",
    "    count = 0\n",
    "    if num in list:\n",
    "        for i in list:\n",
    "            if i == num:\n",
    "                count = count+1\n",
    "    print(f'There are {count} occurences of {num} in {list}')\n",
    "    \n",
    "checkOccurence()\n"
   ]
  },
  {
   "attachments": {},
   "cell_type": "markdown",
   "metadata": {},
   "source": [
    "# __Assignment complete.__"
   ]
  }
 ],
 "metadata": {
  "kernelspec": {
   "display_name": "base",
   "language": "python",
   "name": "python3"
  },
  "language_info": {
   "codemirror_mode": {
    "name": "ipython",
    "version": 3
   },
   "file_extension": ".py",
   "mimetype": "text/x-python",
   "name": "python",
   "nbconvert_exporter": "python",
   "pygments_lexer": "ipython3",
   "version": "3.9.12"
  },
  "orig_nbformat": 4
 },
 "nbformat": 4,
 "nbformat_minor": 2
}

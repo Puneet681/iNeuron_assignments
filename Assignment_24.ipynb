{
 "cells": [
  {
   "attachments": {},
   "cell_type": "markdown",
   "metadata": {},
   "source": [
    "# __Assignment 24__\n",
    "### *__Q.1:- What is the relationship between def statements and lambda expressions ?__*\n",
    "### __*Ans:-*__ "
   ]
  },
  {
   "attachments": {},
   "cell_type": "markdown",
   "metadata": {},
   "source": [
    "* ```def``` statement is used to create a normal function.\n",
    "* where as ```lamba``` expressions are used to create Anonymous functions. which can be ```assigned``` to a variable and can be called using the variable later in function.\n",
    "* Lambda's body is a ```single expression``` and not a block of statements like def statement.\n",
    "* The lambda expression's body is similar to what we'd put in a ```def``` body's return statement."
   ]
  },
  {
   "attachments": {},
   "cell_type": "markdown",
   "metadata": {},
   "source": [
    "### *__Q.2:- What is the benefit of lambda?__*\n",
    "### __*Ans:-*__ "
   ]
  },
  {
   "attachments": {},
   "cell_type": "markdown",
   "metadata": {},
   "source": [
    "* The following are some of the benefits of ```lambda``` expressions:\n",
    "    1. Can be used to create ```Nameless/Anonymous``` functions inside some complex functions if we are planning to use it only once.\n",
    "    2. Moderate to small functions can be created in a single line\n",
    "    3. Fuctions created using ```lambda``` expressions can be assigned to a variable and can be used by simply calling the variable."
   ]
  },
  {
   "attachments": {},
   "cell_type": "markdown",
   "metadata": {},
   "source": [
    "### *__Q.3:- Compare and contrast map, filter, and reduce.__*\n",
    "### __*Ans:-*__ "
   ]
  },
  {
   "attachments": {},
   "cell_type": "markdown",
   "metadata": {},
   "source": [
    "* ```Map``` operation takes a mapping function and a vector of data as arguments and returns a new vector, which is the result of applying the mapping function on each element of the vector independently. The returned value from ```map() (map object)``` then can be passed to functions like ```list()``` (to create a list), ```set()``` (to create a set) and so on.\n",
    "\n",
    "* The ```filter``` function operates on a list and returns a subset of that list after applying the filtering rule.\n",
    "\n",
    "* The ```reduce``` function will transform a given list into a single value by applying a given function continuously to all the elements. It basically keeps operating on pairs of elements until there are no more elements left."
   ]
  },
  {
   "cell_type": "code",
   "execution_count": 5,
   "metadata": {},
   "outputs": [
    {
     "name": "stdout",
     "output_type": "stream",
     "text": [
      "map :- [2, 4, 6, 8]\n",
      "filter :- [1, 3]\n",
      "reduce :- 21\n"
     ]
    }
   ],
   "source": [
    "from functools import reduce\n",
    "# map function\n",
    "print('map :-',list(map(lambda x:x+x, [1,2,3,4])))\n",
    "# fitler function\n",
    "print('filter :-',list(filter(lambda x:x%2 !=0, [1,2,3,4])))\n",
    "# reduce function\n",
    "print('reduce :-',reduce(lambda x,y:x+y, [1,2,3,4,5,6]))"
   ]
  },
  {
   "attachments": {},
   "cell_type": "markdown",
   "metadata": {},
   "source": [
    "### *__Q.4:- What are function annotations, and how are they used?__*\n",
    "### __*Ans:-*__ "
   ]
  },
  {
   "attachments": {},
   "cell_type": "markdown",
   "metadata": {},
   "source": [
    "* Function annotations provide a way of associating various parts of a function with arbitrary pythoncexpressions at compile time.\n",
    "* Annotations of simple parameters ```def func(x: expression, y: expression = 20):```\n",
    "* Whereas the annotations for excess parameters are as − ```def func (**args: expression, **kwargs: expression):```"
   ]
  },
  {
   "attachments": {},
   "cell_type": "markdown",
   "metadata": {},
   "source": [
    "### *__Q.5:- What are recursive functions, and how are they used?__*\n",
    "### __*Ans:-*__ "
   ]
  },
  {
   "attachments": {},
   "cell_type": "markdown",
   "metadata": {},
   "source": [
    "* A ```recursive``` function is a function that calls itself during its execution. The process may repeat several times, outputting the result and the end of each iteration.\n",
    "* Example of ```recursive``` fuction is as follows"
   ]
  },
  {
   "cell_type": "code",
   "execution_count": 6,
   "metadata": {},
   "outputs": [
    {
     "name": "stdout",
     "output_type": "stream",
     "text": [
      "Recursion Example\n",
      "1\n",
      "3\n",
      "6\n",
      "10\n",
      "15\n",
      "21\n"
     ]
    },
    {
     "data": {
      "text/plain": [
       "21"
      ]
     },
     "execution_count": 6,
     "metadata": {},
     "output_type": "execute_result"
    }
   ],
   "source": [
    "def recursion(x):\n",
    "  if(x>0):\n",
    "    result = x+recursion(x-1)\n",
    "    print(result)\n",
    "  else:\n",
    "    result = 0\n",
    "  return result\n",
    "\n",
    "print(\"Recursion Example\")\n",
    "recursion(6)"
   ]
  },
  {
   "attachments": {},
   "cell_type": "markdown",
   "metadata": {},
   "source": [
    "### *__Q.6:- What are some general design guidelines for coding functions?__*\n",
    "### __*Ans:-*__ "
   ]
  },
  {
   "attachments": {},
   "cell_type": "markdown",
   "metadata": {},
   "source": [
    "* Use 4-space indentation and no tabs.\n",
    "* Use docstrings\n",
    "* Wrap lines so that they don’t exceed 79 characters\n",
    "* Use of regular and updated comments are valuable to both the coders and users"
   ]
  },
  {
   "cell_type": "markdown",
   "metadata": {},
   "source": [
    "### *__Q.7:- Name three or more ways that functions can communicate results to a caller.__*\n",
    "### __*Ans:-*__ "
   ]
  },
  {
   "attachments": {},
   "cell_type": "markdown",
   "metadata": {},
   "source": [
    "* To call a function, we specify the function name with the round brackets.\n",
    "* Use of return keyword inside function which returns the results to the caller.\n",
    "* Use of print statement inside function which prints the results to the caller."
   ]
  },
  {
   "attachments": {},
   "cell_type": "markdown",
   "metadata": {},
   "source": [
    "# __Assignment complete.__"
   ]
  }
 ],
 "metadata": {
  "kernelspec": {
   "display_name": "base",
   "language": "python",
   "name": "python3"
  },
  "language_info": {
   "codemirror_mode": {
    "name": "ipython",
    "version": 3
   },
   "file_extension": ".py",
   "mimetype": "text/x-python",
   "name": "python",
   "nbconvert_exporter": "python",
   "pygments_lexer": "ipython3",
   "version": "3.9.12"
  },
  "orig_nbformat": 4
 },
 "nbformat": 4,
 "nbformat_minor": 2
}

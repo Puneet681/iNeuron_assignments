{
 "cells": [
  {
   "cell_type": "markdown",
   "metadata": {},
   "source": [
    "# __Assignment 6__\n",
    "### *__Q.1:- What are escape characters, and how do you use them?__*\n",
    "### __*Ans:-*__ "
   ]
  },
  {
   "cell_type": "markdown",
   "metadata": {},
   "source": [
    "* The characters that are not supposed to used in a ```string``` are knows as escape characters.\n",
    "* to use characters we use ```'/'``` before the desied character that we intend to use in ```string```."
   ]
  },
  {
   "cell_type": "markdown",
   "metadata": {},
   "source": [
    "### *__Q.2:- What do the escape characters n and t stand for?__*\n",
    "### __*Ans:-*__ "
   ]
  },
  {
   "cell_type": "markdown",
   "metadata": {},
   "source": [
    "* The escape charater ```'n'``` is used to add a new line in a string.\n",
    "* The escape charater ```'t'``` is used to add ```'tab'``` in a string."
   ]
  },
  {
   "cell_type": "markdown",
   "metadata": {},
   "source": [
    "### *__Q.3:- What is the way to include backslash characters in a string?__*\n",
    "### __*Ans:-*__ "
   ]
  },
  {
   "cell_type": "markdown",
   "metadata": {},
   "source": [
    "* To include backslash characters in a string we use ```\\\\```."
   ]
  },
  {
   "cell_type": "markdown",
   "metadata": {},
   "source": [
    "### *__Q.4:- The string \"Howl's Moving Castle\" is a correct value. Why isn't the single quote character in the word Howl's not escaped a problem?__*\n",
    "### __*Ans:-*__ "
   ]
  },
  {
   "cell_type": "markdown",
   "metadata": {},
   "source": [
    "* The string \"Howl's Moving Castle\" is a correct value because we have used ```double quotes(\")``` in the begining and the end."
   ]
  },
  {
   "cell_type": "markdown",
   "metadata": {},
   "source": [
    "### *__Q.5:- How do you write a string of newlines if you don't want to use the n character?__*\n",
    "### __*Ans:-*__ "
   ]
  },
  {
   "cell_type": "markdown",
   "metadata": {},
   "source": [
    "* You can use ```end=<character>``` in print fuction."
   ]
  },
  {
   "cell_type": "markdown",
   "metadata": {},
   "source": [
    "### *__Q.6:- What are the values of the given expressions?__*\n",
    "### *__'Hello, world!'[1]__*\n",
    "### *__'Hello, world!'[0:5]__*\n",
    "### *__'Hello, world!'[:5]__*\n",
    "### *__'Hello, world!'[3:]__*\n",
    "### __*Ans:-*__ "
   ]
  },
  {
   "cell_type": "markdown",
   "metadata": {},
   "source": [
    "* the value of ```'Hello, world!'[1]``` is ```'e'```.\n",
    "* the value of ```'Hello, world!'[0:5]``` is ```'Hello '```.\n",
    "* the value of ```'Hello, world!'[:5]``` is ```'Hello '```.\n",
    "* the value of ```'Hello, world!'[3:]``` is ```'llow wrold'```.\n"
   ]
  },
  {
   "cell_type": "markdown",
   "metadata": {},
   "source": [
    "### *__Q.7:- What are the values of the following expressions?__*\n",
    "### *__'Hello'.upper()__*\n",
    "### *__''Hello'.upper().isupper()__*\n",
    "### *__'Hello'.upper().lower()__*\n",
    "### __*Ans:-*__ "
   ]
  },
  {
   "cell_type": "markdown",
   "metadata": {},
   "source": [
    "* the value of ```'Hello'.upper()``` is ```'HELLO'```.\n",
    "* the value of ```'Hello'.upper().isupper()``` is ```'True'```.\n",
    "* the value of ```'Hello'.upper().lower()``` is ```'True'```."
   ]
  },
  {
   "cell_type": "markdown",
   "metadata": {},
   "source": [
    "### *__Q.8:-What are the values of the following expressions?__*\n",
    "### *__'Remember, remember, the fifth of July.'.split()__*\n",
    "### *__'-'.join('There can only one.'.split())__*\n",
    "### __*Ans:-*__ "
   ]
  },
  {
   "cell_type": "markdown",
   "metadata": {},
   "source": [
    "* the value of ```'Remember, remember, the fifth of July.'.split()``` is ```'['Remember,', 'remember,', 'the', 'fifth', 'of', 'July.']'```.\n",
    "* the value of ```'-'.join('There can only one.'.split())``` is ```'There-can-only-one.'```."
   ]
  },
  {
   "cell_type": "markdown",
   "metadata": {},
   "source": [
    "### *__Q.9:- What are the methods for right-justifying, left-justifying, and centering a string?__*\n",
    "### __*Ans:-*__ "
   ]
  },
  {
   "cell_type": "markdown",
   "metadata": {},
   "source": [
    "* the methode used for right-justifying ```'rjust()'```.\n",
    "* the methode used for left-justifying ```'ljust()'```.\n",
    "* the methode used for centering a string ```'center()'```."
   ]
  },
  {
   "cell_type": "markdown",
   "metadata": {},
   "source": [
    "### *__Q.10:- What is the best way to remove whitespace characters from the start or end?__*\n",
    "### __*Ans:-*__ "
   ]
  },
  {
   "cell_type": "markdown",
   "metadata": {},
   "source": [
    "* to remove whitespaces from both the begining and the end we can use ```<string>.strip```.\n",
    "* to remove whitespaces from both only the end we can use ```<string>.rstrip```.\n",
    "* to remove whitespaces from only the begining we can use ```<string>.lstrip```."
   ]
  },
  {
   "cell_type": "markdown",
   "metadata": {},
   "source": [
    "# __Assignment complete.__"
   ]
  },
  {
   "cell_type": "markdown",
   "metadata": {},
   "source": []
  }
 ],
 "metadata": {
  "kernelspec": {
   "display_name": "Python 3.9.12 ('base')",
   "language": "python",
   "name": "python3"
  },
  "language_info": {
   "codemirror_mode": {
    "name": "ipython",
    "version": 3
   },
   "file_extension": ".py",
   "mimetype": "text/x-python",
   "name": "python",
   "nbconvert_exporter": "python",
   "pygments_lexer": "ipython3",
   "version": "3.9.12"
  },
  "orig_nbformat": 4,
  "vscode": {
   "interpreter": {
    "hash": "ad2bdc8ecc057115af97d19610ffacc2b4e99fae6737bb82f5d7fb13d2f2c186"
   }
  }
 },
 "nbformat": 4,
 "nbformat_minor": 2
}

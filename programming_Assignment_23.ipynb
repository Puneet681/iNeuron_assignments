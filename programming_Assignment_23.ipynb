{
 "cells": [
  {
   "attachments": {},
   "cell_type": "markdown",
   "metadata": {},
   "source": [
    "# __Programming Assignment 23__\n",
    "### *__Q.1:- Create a function that takes a number as an argument and returns True or False depending on whether the number is symmetrical or not. A number is symmetrical when it is the same as its reverse.__*\n",
    "```\n",
    "Examples\n",
    "is_symmetrical(7227) ➞ True\n",
    "\n",
    "is_symmetrical(12567) ➞ False\n",
    "\n",
    "is_symmetrical(44444444) ➞ True\n",
    "\n",
    "is_symmetrical(9939) ➞ False\n",
    "\n",
    "is_symmetrical(1112111) ➞ True\n",
    "```\n",
    "### __*Ans:-*__ "
   ]
  },
  {
   "cell_type": "code",
   "execution_count": 1,
   "metadata": {},
   "outputs": [
    {
     "name": "stdout",
     "output_type": "stream",
     "text": [
      "True\n",
      "False\n",
      "True\n",
      "False\n",
      "True\n"
     ]
    }
   ],
   "source": [
    "import copy\n",
    "def is_symmetrical(n):\n",
    "    s = str(n)\n",
    "    s_new = copy.deepcopy(s)[::-1]\n",
    "    if s==s_new:\n",
    "        return True\n",
    "    return False\n",
    "\n",
    "# Example Usage\n",
    "\n",
    "print(is_symmetrical(7227))\n",
    "\n",
    "print(is_symmetrical(12567))\n",
    "\n",
    "print(is_symmetrical(44444444))\n",
    "\n",
    "print(is_symmetrical(9939))\n",
    "\n",
    "print(is_symmetrical(1112111))"
   ]
  },
  {
   "attachments": {},
   "cell_type": "markdown",
   "metadata": {},
   "source": [
    "### *__Q.2:- Given a string of numbers separated by a comma and space, return the product of the numbers.__*\n",
    "```\n",
    "Examples\n",
    "multiply_nums(\"2, 3\") ➞ 6\n",
    "\n",
    "multiply_nums(\"1, 2, 3, 4\") ➞ 24\n",
    "\n",
    "multiply_nums(\"54, 75, 453, 0\") ➞ 0\n",
    "\n",
    "multiply_nums(\"10, -2\") ➞ -20\n",
    "```\n",
    "### __*Ans:-*__ "
   ]
  },
  {
   "cell_type": "code",
   "execution_count": 2,
   "metadata": {},
   "outputs": [
    {
     "name": "stdout",
     "output_type": "stream",
     "text": [
      "6\n",
      "24\n",
      "0\n",
      "-20\n"
     ]
    }
   ],
   "source": [
    "def multiply_nums(n):\n",
    "    n_lst = [int(i) for i in n.split(\", \")]\n",
    "    product = 1\n",
    "    for i in n_lst:\n",
    "        product = product * i\n",
    "    \n",
    "    return product\n",
    "\n",
    "# Example Usage\n",
    "\n",
    "print(multiply_nums(\"2, 3\"))\n",
    "\n",
    "print(multiply_nums(\"1, 2, 3, 4\"))\n",
    "\n",
    "print(multiply_nums(\"54, 75, 453, 0\"))\n",
    "\n",
    "print(multiply_nums(\"10, -2\"))"
   ]
  },
  {
   "attachments": {},
   "cell_type": "markdown",
   "metadata": {},
   "source": [
    "### *__Q.3:- Create a function that squares every digit of a number.__*\n",
    "```\n",
    "Examples\n",
    "square_digits(9119) ➞ 811181\n",
    "\t\n",
    "square_digits(2483) ➞ 416649\n",
    "\n",
    "square_digits(3212) ➞ 9414\n",
    "Notes\n",
    "The function receives an integer and must return an integer.\n",
    "```\n",
    "### __*Ans:-*__ "
   ]
  },
  {
   "cell_type": "code",
   "execution_count": 3,
   "metadata": {},
   "outputs": [
    {
     "name": "stdout",
     "output_type": "stream",
     "text": [
      "811181\n",
      "416649\n",
      "9414\n"
     ]
    }
   ],
   "source": [
    "def square_digits(n):\n",
    "    n_lst = [int(i) for i in str(n)]\n",
    "    return int(''.join([str(i*i) for i in n_lst]))\n",
    "\n",
    "# Example Usage\n",
    "\n",
    "print(square_digits(9119))\n",
    "\n",
    "print(square_digits(2483))\n",
    "\n",
    "print(square_digits(3212))"
   ]
  },
  {
   "attachments": {},
   "cell_type": "markdown",
   "metadata": {},
   "source": [
    "### *__Q.4:- Create a function that sorts a list and removes all duplicate items from it.__*\n",
    "```\n",
    "Examples\n",
    "setify([1, 3, 3, 5, 5]) ➞ [1, 3, 5]\n",
    "\n",
    "setify([4, 4, 4, 4]) ➞ [4]\n",
    "\n",
    "setify([5, 7, 8, 9, 10, 15]) ➞ [5, 7, 8, 9, 10, 15]\n",
    "\n",
    "setify([3, 3, 3, 2, 1]) ➞ [1, 2, 3]\n",
    "```\n",
    "### __*Ans:-*__ "
   ]
  },
  {
   "cell_type": "code",
   "execution_count": 4,
   "metadata": {},
   "outputs": [
    {
     "name": "stdout",
     "output_type": "stream",
     "text": [
      "[1, 3, 5]\n",
      "[4]\n",
      "[5, 7, 8, 9, 10, 15]\n",
      "[1, 2, 3]\n"
     ]
    }
   ],
   "source": [
    "def setify(l = list):\n",
    "    l.sort()\n",
    "    l_new = []\n",
    "    for i in l:\n",
    "        if i not in l_new:\n",
    "            l_new.append(i)\n",
    "    return l_new\n",
    "\n",
    "# Example Usage\n",
    "\n",
    "print(setify([1, 3, 3, 5, 5]))\n",
    "\n",
    "print(setify([4, 4, 4, 4]))\n",
    "\n",
    "print(setify([5, 7, 8, 9, 10, 15]))\n",
    "\n",
    "print(setify([3, 3, 3, 2, 1]))"
   ]
  },
  {
   "attachments": {},
   "cell_type": "markdown",
   "metadata": {},
   "source": [
    "### *__Q.5:- Create a function that returns the mean of all digits.__*\n",
    "```\n",
    "Examples\n",
    "mean(42) ➞ 3\n",
    "\n",
    "mean(12345) ➞ 3\n",
    "\n",
    "mean(666) ➞ 6\n",
    "```\n",
    "Notes\n",
    "### *__•\tThe mean of all digits is the sum of digits / how many digits there are (e.g. mean of digits in 512 is (5+1+2)/3(number of digits) = 8/3=2).__*\n",
    "### *__•\tThe mean will always be an integer.__*\n",
    "### __*Ans:-*__ "
   ]
  },
  {
   "cell_type": "code",
   "execution_count": 5,
   "metadata": {},
   "outputs": [
    {
     "name": "stdout",
     "output_type": "stream",
     "text": [
      "3\n",
      "3\n",
      "6\n"
     ]
    }
   ],
   "source": [
    "def mean(n):\n",
    "    n_lst = [int(i) for i in str(n)]\n",
    "    return round(sum(n_lst)/len(n_lst))\n",
    "\n",
    "# Example Usage\n",
    "\n",
    "print(mean(42))\n",
    "\n",
    "print(mean(12345))\n",
    "\n",
    "print(mean(666))"
   ]
  },
  {
   "attachments": {},
   "cell_type": "markdown",
   "metadata": {},
   "source": [
    "# __Assignment complete.__"
   ]
  }
 ],
 "metadata": {
  "kernelspec": {
   "display_name": "base",
   "language": "python",
   "name": "python3"
  },
  "language_info": {
   "codemirror_mode": {
    "name": "ipython",
    "version": 3
   },
   "file_extension": ".py",
   "mimetype": "text/x-python",
   "name": "python",
   "nbconvert_exporter": "python",
   "pygments_lexer": "ipython3",
   "version": "3.9.13"
  },
  "orig_nbformat": 4
 },
 "nbformat": 4,
 "nbformat_minor": 2
}

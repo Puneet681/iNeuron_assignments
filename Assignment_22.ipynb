{
 "cells": [
  {
   "attachments": {},
   "cell_type": "markdown",
   "metadata": {},
   "source": [
    "# __Assignment 22__\n",
    "### *__Q.1:- What is the result of the code, and explain?__*\n",
    "   * ```X = 'iNeuron'```\n",
    "   * ```def func():```\n",
    "   *    ```print(X)```\n",
    "   * ```func()```"
   ]
  },
  {
   "attachments": {},
   "cell_type": "markdown",
   "metadata": {},
   "source": [
    "### __*Ans:-*__ \n",
    "* in the above code before defining the ```func()``` variable ```X='iNeuron'```.\n",
    "* The fuction of the fuction ```func()``` is to ```print the value of X```.\n",
    "* thus, we get output as \"```iNeuron```\"."
   ]
  },
  {
   "attachments": {},
   "cell_type": "markdown",
   "metadata": {},
   "source": [
    "### __*Example code*__ "
   ]
  },
  {
   "cell_type": "code",
   "execution_count": 7,
   "metadata": {},
   "outputs": [
    {
     "name": "stdout",
     "output_type": "stream",
     "text": [
      "iNeuron\n"
     ]
    }
   ],
   "source": [
    "X = 'iNeuron'\n",
    "def func():\n",
    "    print(X)\n",
    "func()"
   ]
  },
  {
   "attachments": {},
   "cell_type": "markdown",
   "metadata": {},
   "source": [
    "### *__Q.2:- What is the result of the code, and explain?__*\n",
    "* ```X = 'iNeuron'```\n",
    "* ```def func():```\n",
    "* ```X = 'NI!'```\n",
    "* ```func()```\n",
    "* ```print(X)```"
   ]
  },
  {
   "attachments": {},
   "cell_type": "markdown",
   "metadata": {},
   "source": [
    "### __*Ans:-*__ \n",
    "* in above code the value of variable ```X='Neuron'```, however its the value of ```X='NI!'``` inside the fuction ```func()```\n",
    "* meaning the variable ```X``` outside the fuction ```func()``` is a ```GLOBAL Variable``` and the variable ```X``` inside the fuction ```func()``` is ```LOCAL Variable```.\n",
    "* and the fuction of fuction ```func()``` is to print the value of ```LOCAL Variable X```.\n",
    "* thus we get the out put as \"```NI!```\"."
   ]
  },
  {
   "attachments": {},
   "cell_type": "markdown",
   "metadata": {},
   "source": [
    "### __*Example code*__ "
   ]
  },
  {
   "cell_type": "code",
   "execution_count": 8,
   "metadata": {},
   "outputs": [
    {
     "name": "stdout",
     "output_type": "stream",
     "text": [
      "NI!\n"
     ]
    }
   ],
   "source": [
    "X = 'iNeuron'\n",
    "def func():\n",
    "    X = 'NI!'\n",
    "    print(X)\n",
    "func()"
   ]
  },
  {
   "attachments": {},
   "cell_type": "markdown",
   "metadata": {},
   "source": [
    "### *__Q.3:- What does this code print, and why?__*\n",
    "* ```X = 'iNeuron'```\n",
    "* ```def func():```\n",
    "* ```X = 'NI'```\n",
    "* ```print(X)```\n",
    "* ```func()```\n",
    "* ```print(X)```"
   ]
  },
  {
   "attachments": {},
   "cell_type": "markdown",
   "metadata": {},
   "source": [
    "### __*Ans:-*__ \n",
    "* in above code there is a ```GLOBLE variable X='Neuron'```, and a ```LOCAL Variable X='NI!'```.\n",
    "* the fuction of fuction ```func()``` is to print the value of ```LOCAL Variable X```.\n",
    "* and the fuction of ```print(X)``` at ```line_6``` is to prine the value of ```GLOBAL Variable X```.\n",
    "* thus, we get output as \"```NI```\", and \"```iNeuron```\" on ```frist line``` and ```second line``` repectively."
   ]
  },
  {
   "attachments": {},
   "cell_type": "markdown",
   "metadata": {},
   "source": [
    "### __*Example code*__ "
   ]
  },
  {
   "cell_type": "code",
   "execution_count": 9,
   "metadata": {},
   "outputs": [
    {
     "name": "stdout",
     "output_type": "stream",
     "text": [
      "NI\n",
      "iNeuron\n"
     ]
    }
   ],
   "source": [
    "X = 'iNeuron'\n",
    "def func():\n",
    "    X = 'NI'\n",
    "    print(X)\n",
    "func()\n",
    "print(X)"
   ]
  },
  {
   "attachments": {},
   "cell_type": "markdown",
   "metadata": {},
   "source": [
    "### *__Q.4:- What output does this code produce? Why?__*\n",
    "* ```X = 'iNeuron'```\n",
    "* ```def func():```\n",
    "* ```global X```\n",
    "* ```X = 'NI'```\n",
    "* ```func()```\n",
    "* ```print(X)```"
   ]
  },
  {
   "attachments": {},
   "cell_type": "markdown",
   "metadata": {},
   "source": [
    "### __*Ans:-*__ \n",
    "* in above fuction the fuction of ```func()``` is to change the value of ```GLOBLE Variable X``` from ```iNeuron``` to \"```NI```\".\n",
    "* thus, we get the output as \"```NI```\"."
   ]
  },
  {
   "attachments": {},
   "cell_type": "markdown",
   "metadata": {},
   "source": [
    "### __*Example code*__ "
   ]
  },
  {
   "cell_type": "code",
   "execution_count": 10,
   "metadata": {},
   "outputs": [
    {
     "name": "stdout",
     "output_type": "stream",
     "text": [
      "NI\n"
     ]
    }
   ],
   "source": [
    "X = 'iNeuron'\n",
    "def func():\n",
    "    global X\n",
    "    X = 'NI'\n",
    "func()\n",
    "print(X)"
   ]
  },
  {
   "attachments": {},
   "cell_type": "markdown",
   "metadata": {},
   "source": [
    "### *__Q.5:- What about this code—what’s the output, and why?__*\n",
    "* ```X = 'iNeuron'```\n",
    "* ```def func():```\n",
    "* ```X = 'NI'```\n",
    "* ```def nested():```\n",
    "* ```print(X)```\n",
    "* ```nested()```\n",
    "* ```func()```\n",
    "* ```X```"
   ]
  },
  {
   "attachments": {},
   "cell_type": "markdown",
   "metadata": {},
   "source": [
    "### __*Ans:-*__ \n",
    "* in the above code there are two fuctions as follows:-\n",
    "    * ```func()``` which is the main fuction.\n",
    "        * it's fuction is to define ```Local variable X```.\n",
    "        * and define and call the ```nested fuction```.\n",
    "    * ```nested()``` which is a nested fuction in the main fuction.\n",
    "        * it's fuction is to print the ```Local variable X``` created by the main fuction.\n",
    "* thus, we get output as \"```NI```\", and \"```'iNeuron'```\" on ```frist line``` and ```second line``` repectively."
   ]
  },
  {
   "attachments": {},
   "cell_type": "markdown",
   "metadata": {},
   "source": [
    "### __*Example code*__ "
   ]
  },
  {
   "cell_type": "code",
   "execution_count": 11,
   "metadata": {},
   "outputs": [
    {
     "name": "stdout",
     "output_type": "stream",
     "text": [
      "NI\n"
     ]
    },
    {
     "data": {
      "text/plain": [
       "'iNeuron'"
      ]
     },
     "execution_count": 11,
     "metadata": {},
     "output_type": "execute_result"
    }
   ],
   "source": [
    "X = 'iNeuron'\n",
    "def func():\n",
    "    X = 'NI'\n",
    "    def nested():\n",
    "        print(X)\n",
    "    nested()\n",
    "func()\n",
    "X"
   ]
  },
  {
   "attachments": {},
   "cell_type": "markdown",
   "metadata": {},
   "source": [
    "### *__Q.6:- How about this code: what is its output in Python 3, and explain?__*\n",
    "* ```def func():```\n",
    "* ```X = 'NI'```\n",
    "* ```def nested():```\n",
    "* ```nonlocal X```\n",
    "* ```X = 'Spam'```\n",
    "* ```nested()```\n",
    "* ```print(X)```\n",
    "* ```func()```"
   ]
  },
  {
   "attachments": {},
   "cell_type": "markdown",
   "metadata": {},
   "source": [
    "### __*Ans:-*__ \n",
    "* in the above code there are two fuctions as follows:-\n",
    "    * ```func()``` which is the main fuction.\n",
    "        * it's fuction is to define ```Local variable X```.\n",
    "        * define and call the ```nested fuction```.\n",
    "        * print the ```Local Variable X```\n",
    "    * ```nested()``` which is a nested fuction in the main fuction.\n",
    "        * change the value of ```Local variable X``` from ```NI``` to \"```Spam```\".\n",
    "* thus, we get output as \"```Spam```\"."
   ]
  },
  {
   "attachments": {},
   "cell_type": "markdown",
   "metadata": {},
   "source": [
    "### __*Example code*__ "
   ]
  },
  {
   "cell_type": "code",
   "execution_count": 12,
   "metadata": {},
   "outputs": [
    {
     "name": "stdout",
     "output_type": "stream",
     "text": [
      "Spam\n"
     ]
    }
   ],
   "source": [
    "def func():\n",
    "    X = 'NI'\n",
    "    def nested():\n",
    "        nonlocal X\n",
    "        X = 'Spam'\n",
    "    nested()\n",
    "    print(X)\n",
    "func()"
   ]
  },
  {
   "attachments": {},
   "cell_type": "markdown",
   "metadata": {},
   "source": [
    "# __Assignment complete.__"
   ]
  }
 ],
 "metadata": {
  "kernelspec": {
   "display_name": "base",
   "language": "python",
   "name": "python3"
  },
  "language_info": {
   "codemirror_mode": {
    "name": "ipython",
    "version": 3
   },
   "file_extension": ".py",
   "mimetype": "text/x-python",
   "name": "python",
   "nbconvert_exporter": "python",
   "pygments_lexer": "ipython3",
   "version": "3.9.12"
  },
  "orig_nbformat": 4
 },
 "nbformat": 4,
 "nbformat_minor": 2
}

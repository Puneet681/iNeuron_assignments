{
 "cells": [
  {
   "attachments": {},
   "cell_type": "markdown",
   "metadata": {},
   "source": [
    "# __Programming Assignment 4__\n",
    "### *__Q.1:- Write a Python Program to Find the Factorial of a Number?__*\n",
    "### __*Ans:-*__ "
   ]
  },
  {
   "cell_type": "code",
   "execution_count": 3,
   "metadata": {},
   "outputs": [
    {
     "name": "stdout",
     "output_type": "stream",
     "text": [
      "The Factorial of {num} is {value}\n"
     ]
    }
   ],
   "source": [
    "def factorial(num):\n",
    "    if (num < 1):\n",
    "        return 1\n",
    "    else:\n",
    "        return num*factorial(num-1)\n",
    "num = int(input('Enter a number: '))\n",
    "value = factorial(num)\n",
    "print(f'The Factorial of {num} is {value}')"
   ]
  },
  {
   "attachments": {},
   "cell_type": "markdown",
   "metadata": {},
   "source": [
    "### *__Q.2:- Write a Python Program to Display the multiplication Table?__*\n",
    "### __*Ans:-*__ "
   ]
  },
  {
   "cell_type": "code",
   "execution_count": 6,
   "metadata": {},
   "outputs": [
    {
     "name": "stdout",
     "output_type": "stream",
     "text": [
      "10 X 1 = 10\n",
      "10 X 2 = 20\n",
      "10 X 3 = 30\n",
      "10 X 4 = 40\n",
      "10 X 5 = 50\n",
      "10 X 6 = 60\n",
      "10 X 7 = 70\n",
      "10 X 8 = 80\n",
      "10 X 9 = 90\n",
      "10 X 10 = 100\n"
     ]
    }
   ],
   "source": [
    "def generateTable(base,entries):\n",
    "    for x in range(1,entries+1):\n",
    "        print(f'{base} X {x} = {base*x}')\n",
    "\n",
    "num = int(input('Enter a number: '))\n",
    "values = int(input('Enter no of entries: '))\n",
    "generateTable(num,values)"
   ]
  },
  {
   "attachments": {},
   "cell_type": "markdown",
   "metadata": {},
   "source": [
    "### *__Q.3:- Write a Python Program to Print the Fibonacci sequence?__*\n",
    "### __*Ans:-*__ "
   ]
  },
  {
   "cell_type": "code",
   "execution_count": 7,
   "metadata": {},
   "outputs": [
    {
     "name": "stdout",
     "output_type": "stream",
     "text": [
      "The First 5 fibonacci series are:  [0, 1, 1, 2, 3]\n"
     ]
    }
   ],
   "source": [
    "count = int(input('Enter the no of fibonacci sequences you want? '))\n",
    "initial_list = [0,1]\n",
    "if count < 0:\n",
    "    print('Fibonacci Numbers are not available for Negative Numbers')\n",
    "elif count <= 2 and count >= 0:\n",
    "    print(initial_list)\n",
    "else:\n",
    "    for i in range(count):\n",
    "        if i >= 2:\n",
    "            initial_list.append(initial_list[i-1]+initial_list[i-2])\n",
    "    print(f'The First {count} fibonacci series are: ',initial_list)"
   ]
  },
  {
   "attachments": {},
   "cell_type": "markdown",
   "metadata": {},
   "source": [
    "### *__Q.4:- Write a Python Program to Check Armstrong Number?__*\n",
    "### __*Ans:-*__ "
   ]
  },
  {
   "cell_type": "code",
   "execution_count": 15,
   "metadata": {},
   "outputs": [
    {
     "name": "stdout",
     "output_type": "stream",
     "text": [
      "5 is a Not Armstrong Number\n"
     ]
    }
   ],
   "source": [
    "def checkArmstrongNumber(r):\n",
    "    for x in range(r):\n",
    "        in_num = input('Enter a number: ')\n",
    "        sum = 0\n",
    "        for char in range(len(in_num)):\n",
    "            sum = sum + pow(int(in_num[char]),3)\n",
    "        if sum == int(in_num):\n",
    "            print(f'{in_num} is a Armstrong Number')\n",
    "            break\n",
    "        else:\n",
    "            print(f'{in_num} is a Not Armstrong Number')\n",
    "            break\n",
    "\n",
    "\n",
    "checkArmstrongNumber(r=2)"
   ]
  },
  {
   "attachments": {},
   "cell_type": "markdown",
   "metadata": {},
   "source": [
    "### *__Q.5:- Write a Python Program to Find Armstrong Number in an Interval?__*\n",
    "### __*Ans:-*__ "
   ]
  },
  {
   "cell_type": "code",
   "execution_count": 19,
   "metadata": {},
   "outputs": [
    {
     "name": "stdout",
     "output_type": "stream",
     "text": [
      "The Armstrong numbers between 100 and 1000 are [153, 370, 371, 407]\n"
     ]
    }
   ],
   "source": [
    "def checkArmstrongNumber(in_num, storage):\n",
    "    sum = 0\n",
    "    for char in range(len(in_num)):\n",
    "        sum = sum + pow(int(in_num[char]),3)\n",
    "    if sum == int(in_num):\n",
    "        storage.append(int(in_num))\n",
    "\n",
    "start_interval = int(input('Enter the Start of the Interval: '))\n",
    "end_interval = int(input('Enter the End of the Interval: '))\n",
    "list_of_armstrong = []\n",
    "\n",
    "if start_interval > end_interval:\n",
    "    print(\"Start Interval Cannot be Greater than End Interval\")\n",
    "else:\n",
    "    for number in range(start_interval,end_interval+1):\n",
    "        checkArmstrongNumber(str(number),list_of_armstrong)\n",
    "    print(f'The Armstrong numbers between {start_interval} and {end_interval} are {list_of_armstrong}')"
   ]
  },
  {
   "attachments": {},
   "cell_type": "markdown",
   "metadata": {},
   "source": [
    "### *__Q.6:- Write a Python Program to Find the Sum of Natural Numbers?__*\n",
    "### __*Ans:-*__ "
   ]
  },
  {
   "cell_type": "code",
   "execution_count": 20,
   "metadata": {},
   "outputs": [
    {
     "name": "stdout",
     "output_type": "stream",
     "text": [
      "Sum of 100 natural numbers is 5050.0\n"
     ]
    }
   ],
   "source": [
    "def sumOfNaturalNumbers(num):\n",
    "    sum = num*((num+1)/2)\n",
    "    print(f'Sum of {num} natural numbers is {sum}')\n",
    "    \n",
    "num = int(input('Enter a number: '))\n",
    "sumOfNaturalNumbers(num)"
   ]
  },
  {
   "attachments": {},
   "cell_type": "markdown",
   "metadata": {},
   "source": [
    "# __Assignment complete.__"
   ]
  }
 ],
 "metadata": {
  "kernelspec": {
   "display_name": "base",
   "language": "python",
   "name": "python3"
  },
  "language_info": {
   "codemirror_mode": {
    "name": "ipython",
    "version": 3
   },
   "file_extension": ".py",
   "mimetype": "text/x-python",
   "name": "python",
   "nbconvert_exporter": "python",
   "pygments_lexer": "ipython3",
   "version": "3.9.12"
  },
  "orig_nbformat": 4
 },
 "nbformat": 4,
 "nbformat_minor": 2
}

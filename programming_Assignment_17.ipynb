{
 "cells": [
  {
   "attachments": {},
   "cell_type": "markdown",
   "metadata": {},
   "source": [
    "# __Programming Assignment 17__\n",
    "### *__Q.1:- Question1. Create a function that takes three arguments a, b, c and returns the sum of the numbers that are evenly divided by c from the range a, b inclusive.__*\n",
    "```\n",
    "Examples\n",
    "evenly_divisible(1, 10, 20) ➞ 0\n",
    "# No number between 1 and 10 can be evenly divided by 20.\n",
    "\n",
    "evenly_divisible(1, 10, 2) ➞ 30\n",
    "# 2 + 4 + 6 + 8 + 10 = 30\n",
    "\n",
    "evenly_divisible(1, 10, 3) ➞ 18\n",
    "# 3 + 6 + 9 = 18\n",
    "```\n",
    "### __*Ans:-*__ "
   ]
  },
  {
   "cell_type": "code",
   "execution_count": 13,
   "metadata": {},
   "outputs": [
    {
     "name": "stdout",
     "output_type": "stream",
     "text": [
      "No number between 1 and 10 can be evenly divided by 20. \n",
      "\n",
      "2 + 4 + 6 + 8 + 10 = 30 \n",
      "\n",
      "3 + 6 + 9 = 18\n"
     ]
    }
   ],
   "source": [
    "def evenly_divisible(a,b,c):\n",
    "    even_nums = []\n",
    "    for i in range(a,b+1):\n",
    "        if i % c == 0:\n",
    "            even_nums.append(i)\n",
    "    if sum(even_nums) == 0:\n",
    "         return (f\"No number between {a} and {b} can be evenly divided by {c}.\")\n",
    "    else:\n",
    "        return (' + '.join(str(i) for i in even_nums) + ' = ' + str(sum(even_nums)))\n",
    "\n",
    "# example usage\n",
    "\n",
    "print(evenly_divisible(1, 10, 20), \"\\n\")\n",
    "print(evenly_divisible(1, 10, 2), \"\\n\")\n",
    "print(evenly_divisible(1, 10, 3))"
   ]
  },
  {
   "attachments": {},
   "cell_type": "markdown",
   "metadata": {},
   "source": [
    "### *__Q.2:- Create a function that returns True if a given inequality expression is correct and False otherwise.__*\n",
    "```\n",
    "Examples\n",
    "correct_signs(\"3 < 7 < 11\") ➞ True\n",
    "\n",
    "correct_signs(\"13 > 44 > 33 > 1\") ➞ False\n",
    "\n",
    "correct_signs(\"1 < 2 < 6 < 9 > 3\") ➞ True\n",
    "```\n",
    "### __*Ans:-*__ "
   ]
  },
  {
   "cell_type": "code",
   "execution_count": 14,
   "metadata": {},
   "outputs": [
    {
     "name": "stdout",
     "output_type": "stream",
     "text": [
      "True\n",
      "False\n",
      "True\n"
     ]
    }
   ],
   "source": [
    "def correct_signs(txt):\n",
    "    # Split the string into individual parts\n",
    "    parts = txt.split()\n",
    "\n",
    "    # Iterate over the parts and check if the inequality holds\n",
    "    for i in range(0, len(parts) - 2, 2):\n",
    "        a = int(parts[i])\n",
    "        b = int(parts[i + 2])\n",
    "        op = parts[i + 1]\n",
    "\n",
    "        if op == '>' and a <= b:\n",
    "            return False\n",
    "        elif op == '<' and a >= b:\n",
    "            return False\n",
    "\n",
    "    return True\n",
    "\n",
    "# example Usage\n",
    "\n",
    "print(correct_signs(\"3 < 7 < 11\"))\n",
    "print(correct_signs(\"13 > 44 > 33 > 1\"))\n",
    "print(correct_signs(\"1 < 2 < 6 < 9 > 3\"))"
   ]
  },
  {
   "attachments": {},
   "cell_type": "markdown",
   "metadata": {},
   "source": [
    "### *__Q.3:- Create a function that replaces all the vowels in a string with a specified character.__*\n",
    "```Examples\n",
    "replace_vowels(\"the aardvark\", \"#\") ➞ \"th# ##rdv#rk\"\n",
    "\n",
    "replace_vowels(\"minnie mouse\", \"?\") ➞ \"m?nn?? m??s?\"\n",
    "\n",
    "replace_vowels(\"shakespeare\", \"*\") ➞ \"sh*k*sp**r*\"\n",
    "```\n",
    "### __*Ans:-*__ "
   ]
  },
  {
   "cell_type": "code",
   "execution_count": 35,
   "metadata": {},
   "outputs": [
    {
     "name": "stdout",
     "output_type": "stream",
     "text": [
      "th# ##rdv#rk\n",
      "m?nn?? m??s?\n",
      "sh*k*sp**r*\n"
     ]
    }
   ],
   "source": [
    "def replace_vowels(s,special):\n",
    "    vowles = (\"a\",\"e\",\"i\",\"o\",\"u\")\n",
    "    new_parts =[]\n",
    "    for i in s:\n",
    "        if i in vowles:\n",
    "            i = special\n",
    "            new_parts.append(i)\n",
    "        else:\n",
    "            new_parts.append(i)\n",
    "        \n",
    "    return (''.join(str(i) for i in new_parts))\n",
    "\n",
    "# Example Usage\n",
    "\n",
    "print(replace_vowels(\"the aardvark\", \"#\"))\n",
    "\n",
    "print(replace_vowels(\"minnie mouse\", \"?\"))\n",
    "\n",
    "print(replace_vowels(\"shakespeare\", \"*\"))"
   ]
  },
  {
   "attachments": {},
   "cell_type": "markdown",
   "metadata": {},
   "source": [
    "### *__Q.4:- Question4. Write a function that calculates the factorial of a number recursively.__*\n",
    "```\n",
    "Examples\n",
    "factorial(5) ➞ 120\n",
    "\n",
    "factorial(3) ➞ 6\n",
    "\n",
    "factorial(1) ➞ 1\n",
    "\n",
    "factorial(0) ➞ 1\n",
    "```\n",
    "### __*Ans:-*__ "
   ]
  },
  {
   "cell_type": "code",
   "execution_count": 2,
   "metadata": {},
   "outputs": [
    {
     "name": "stdout",
     "output_type": "stream",
     "text": [
      "120\n",
      "6\n",
      "1\n",
      "1\n"
     ]
    }
   ],
   "source": [
    "def factorial(n):\n",
    "    if n == 0:\n",
    "        return 1\n",
    "    elif n < 0:\n",
    "        raise ValueError(\"Factorial is not defined for negative numbers.\")\n",
    "    else:\n",
    "        return n * factorial(n-1)\n",
    "    \n",
    "# Example Usage \n",
    "\n",
    "print(factorial(5))\n",
    "\n",
    "print(factorial(3))\n",
    "\n",
    "print(factorial(1))\n",
    "\n",
    "print(factorial(0))"
   ]
  },
  {
   "attachments": {},
   "cell_type": "markdown",
   "metadata": {},
   "source": [
    "### *__Q.5:- Hamming distance is the number of characters that differ between two strings.__*\n",
    "```\n",
    "To illustrate:\n",
    "String1: \"abcbba\"\n",
    "String2: \"abcbda\"\n",
    "\n",
    "Hamming Distance: 1 - \"b\" vs. \"d\" is the only difference.\n",
    "Create a function that computes the hamming distance between two strings.\n",
    "Examples\n",
    "hamming_distance(\"abcde\", \"bcdef\") ➞ 5\n",
    "\n",
    "hamming_distance(\"abcde\", \"abcde\") ➞ 0\n",
    "\n",
    "hamming_distance(\"strong\", \"strung\") ➞ 1\n",
    "```\n",
    "### __*Ans:-*__ "
   ]
  },
  {
   "cell_type": "code",
   "execution_count": 7,
   "metadata": {},
   "outputs": [
    {
     "name": "stdout",
     "output_type": "stream",
     "text": [
      "5\n",
      "0\n",
      "1\n"
     ]
    }
   ],
   "source": [
    "def hamming_distance(s1,s2):\n",
    "    s1_parts = [i for i in s1]\n",
    "    s2_parts = [i for i in s2]\n",
    "    distance = 0\n",
    "\n",
    "    for i in range(len(s1_parts)):\n",
    "        if s1_parts[i] != s2_parts[i]:\n",
    "            distance = distance+1\n",
    "    return distance\n",
    "\n",
    "# Example Usage\n",
    "\n",
    "print(hamming_distance(\"abcde\", \"bcdef\"))\n",
    "\n",
    "print(hamming_distance(\"abcde\", \"abcde\"))\n",
    "\n",
    "print(hamming_distance(\"strong\", \"strung\"))"
   ]
  },
  {
   "attachments": {},
   "cell_type": "markdown",
   "metadata": {},
   "source": [
    "# __Assignment complete.__"
   ]
  }
 ],
 "metadata": {
  "kernelspec": {
   "display_name": "base",
   "language": "python",
   "name": "python3"
  },
  "language_info": {
   "codemirror_mode": {
    "name": "ipython",
    "version": 3
   },
   "file_extension": ".py",
   "mimetype": "text/x-python",
   "name": "python",
   "nbconvert_exporter": "python",
   "pygments_lexer": "ipython3",
   "version": "3.9.13"
  },
  "orig_nbformat": 4
 },
 "nbformat": 4,
 "nbformat_minor": 2
}

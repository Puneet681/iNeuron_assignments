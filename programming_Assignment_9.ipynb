{
 "cells": [
  {
   "attachments": {},
   "cell_type": "markdown",
   "metadata": {},
   "source": [
    "# __Programming Assignment 9__\n",
    "### *__Q.1:- Write a Python program to check if the given number is a Disarium Number?__*\n",
    "### __*Ans:-*__ "
   ]
  },
  {
   "cell_type": "code",
   "execution_count": 5,
   "metadata": {},
   "outputs": [
    {
     "name": "stdout",
     "output_type": "stream",
     "text": [
      "Input number is 5\n",
      "5 is a Disarium Number\n",
      "Input number is 100\n",
      "100 is a Not Disarium Number\n"
     ]
    }
   ],
   "source": [
    "def DisariumNumber():\n",
    "    num = input('Enter a Number: ')\n",
    "    print(f'Input number is {num}')\n",
    "    sum = 0\n",
    "    for item in range(len(num)):\n",
    "        sum = sum + int(num[item])**(item+1)\n",
    "    if sum == int(num):\n",
    "        print(f'{num} is a Disarium Number')\n",
    "    else:\n",
    "        print(f'{num} is a Not Disarium Number') \n",
    "\n",
    "DisariumNumber()\n",
    "DisariumNumber()"
   ]
  },
  {
   "attachments": {},
   "cell_type": "markdown",
   "metadata": {},
   "source": [
    "### *__Q.2:- Write a Python program to print all disarium numbers between 1 to 100?__*\n",
    "### __*Ans:-*__ "
   ]
  },
  {
   "cell_type": "code",
   "execution_count": 10,
   "metadata": {},
   "outputs": [
    {
     "name": "stdout",
     "output_type": "stream",
     "text": [
      "input range is from 1 to 100\n"
     ]
    },
    {
     "data": {
      "text/plain": [
       "[1, 2, 3, 4, 5, 6, 7, 8, 9, 89]"
      ]
     },
     "execution_count": 10,
     "metadata": {},
     "output_type": "execute_result"
    }
   ],
   "source": [
    "def Disarium_Numbers_in_range(start,end):\n",
    "    print(f'input range is from {start} to {end}')\n",
    "    output = []\n",
    "    for num in range(start,end+1):\n",
    "        sum = 0\n",
    "        for item in range(len(str(num))):\n",
    "            sum = sum + int(str(num)[item])**(item+1)\n",
    "        if sum == num:\n",
    "            output.append(num)\n",
    "    return output\n",
    "            \n",
    "        \n",
    "Disarium_Numbers_in_range(1,100)"
   ]
  },
  {
   "attachments": {},
   "cell_type": "markdown",
   "metadata": {},
   "source": [
    "### *__Q.3:- Write a Python program to check if the given number is Happy Number?__*\n",
    "### __*Ans:-*__ "
   ]
  },
  {
   "cell_type": "code",
   "execution_count": 12,
   "metadata": {},
   "outputs": [
    {
     "name": "stdout",
     "output_type": "stream",
     "text": [
      "10 is a Happy Number\n",
      "55 is not a Happy Number\n"
     ]
    }
   ],
   "source": [
    "def Happy_Number():\n",
    "    num = input('Enter a Number: ')\n",
    "    num_duplicate = num\n",
    "    trackNumber = set()   \n",
    "    while True:\n",
    "        if num != '1' and str(num) not in trackNumber:\n",
    "            trackNumber.add(num)\n",
    "            sum = 0\n",
    "            for i in range(len((num))):\n",
    "                sum = sum + int(num[i])**2\n",
    "            num = str(sum)\n",
    "        elif str(num) in trackNumber:\n",
    "            print(f'{num_duplicate} is not a Happy Number')\n",
    "            break\n",
    "        else:\n",
    "            print(f'{num_duplicate} is a Happy Number')\n",
    "            break\n",
    "\n",
    "Happy_Number()\n",
    "Happy_Number()"
   ]
  },
  {
   "attachments": {},
   "cell_type": "markdown",
   "metadata": {},
   "source": [
    "### *__Q.4:- Write a Python program to print all happy numbers between 1 and 100?__*\n",
    "### __*Ans:-*__ "
   ]
  },
  {
   "cell_type": "code",
   "execution_count": 16,
   "metadata": {},
   "outputs": [
    {
     "name": "stdout",
     "output_type": "stream",
     "text": [
      "The Happy Numbers between 0 and 100 are [1, 7, 10, 13, 19, 23, 28, 31, 32, 44, 49, 68, 70, 79, 82, 86, 91, 94, 97, 100]\n"
     ]
    }
   ],
   "source": [
    "def Happy_Number_in_range(start,end):\n",
    "    happyNumbersList = []\n",
    "    for num in range(start,end+1):\n",
    "        num = str(num)\n",
    "        num_holder = num\n",
    "        trackNumber = set()   \n",
    "        while True:\n",
    "            if num != '1' and str(num) not in trackNumber:\n",
    "                trackNumber.add(num)\n",
    "                sum = 0\n",
    "                for i in range(len((num))):\n",
    "                    sum = sum + int(num[i])**2\n",
    "                num = str(sum)\n",
    "            elif str(num) in trackNumber:\n",
    "                break\n",
    "            else:\n",
    "                happyNumbersList.append(int(num_holder))\n",
    "                break\n",
    "    \n",
    "    print(f'The Happy Numbers between {start} and {end} are {happyNumbersList}')\n",
    " \n",
    "Happy_Number_in_range(0,100)"
   ]
  },
  {
   "attachments": {},
   "cell_type": "markdown",
   "metadata": {},
   "source": [
    "### *__Q.5:- Write a Python program to determine whether the given number is a Harshad Number?__*\n",
    "### __*Ans:-*__ "
   ]
  },
  {
   "cell_type": "code",
   "execution_count": 17,
   "metadata": {},
   "outputs": [
    {
     "name": "stdout",
     "output_type": "stream",
     "text": [
      "55 is a Not Harshad Number\n",
      "684 is a Harshad Number\n"
     ]
    }
   ],
   "source": [
    "def Harshad_Number():\n",
    "    num = input('Enter a Number: ')\n",
    "    sum = 0\n",
    "    for item in range(len(num)):\n",
    "        sum = sum + int(num[item])\n",
    "    if int(num)%sum == 0:\n",
    "        print(f'{num} is a Harshad Number')\n",
    "    else:\n",
    "        print(f'{num} is a Not Harshad Number')\n",
    "        \n",
    "Harshad_Number()\n",
    "Harshad_Number()"
   ]
  },
  {
   "attachments": {},
   "cell_type": "markdown",
   "metadata": {},
   "source": [
    "### *__Q.6:- Write a Python program to print all pronic numbers between 1 and 100?__*\n",
    "### __*Ans:-*__ "
   ]
  },
  {
   "cell_type": "code",
   "execution_count": 19,
   "metadata": {},
   "outputs": [
    {
     "name": "stdout",
     "output_type": "stream",
     "text": [
      "[2, 6, 12, 20, 30, 42, 56, 72, 90, 110, 132, 156, 182, 210, 240, 272, 306, 342, 380, 420, 462, 506, 552, 600, 650, 702, 756, 812, 870, 930, 992, 1056, 1122, 1190, 1260, 1332, 1406, 1482, 1560, 1640, 1722, 1806, 1892, 1980, 2070, 2162, 2256, 2352, 2450, 2550, 2652, 2756, 2862, 2970, 3080, 3192, 3306, 3422, 3540, 3660, 3782, 3906, 4032, 4160, 4290, 4422, 4556, 4692, 4830, 4970, 5112, 5256, 5402, 5550, 5700, 5852, 6006, 6162, 6320, 6480, 6642, 6806, 6972, 7140, 7310, 7482, 7656, 7832, 8010, 8190, 8372, 8556, 8742, 8930, 9120, 9312, 9506, 9702, 9900, 10100]\n"
     ]
    }
   ],
   "source": [
    "def Pronic_Numbers_in_range(start,end):\n",
    "    outputList = []\n",
    "    for i in range(start,end+1):\n",
    "        outputList.append((i)*(i+1))\n",
    "    print(outputList)\n",
    "                   \n",
    "Pronic_Numbers_in_range(1,100)"
   ]
  },
  {
   "attachments": {},
   "cell_type": "markdown",
   "metadata": {},
   "source": [
    "# __Assignment complete.__"
   ]
  }
 ],
 "metadata": {
  "kernelspec": {
   "display_name": "base",
   "language": "python",
   "name": "python3"
  },
  "language_info": {
   "codemirror_mode": {
    "name": "ipython",
    "version": 3
   },
   "file_extension": ".py",
   "mimetype": "text/x-python",
   "name": "python",
   "nbconvert_exporter": "python",
   "pygments_lexer": "ipython3",
   "version": "3.9.12"
  },
  "orig_nbformat": 4
 },
 "nbformat": 4,
 "nbformat_minor": 2
}

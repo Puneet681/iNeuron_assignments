{
 "cells": [
  {
   "attachments": {},
   "cell_type": "markdown",
   "metadata": {},
   "source": [
    "# __Programming Assignment 7__\n",
    "### *__Q.1:- Write a Python Program to find sum of array?__*\n",
    "### __*Ans:-*__ "
   ]
  },
  {
   "cell_type": "code",
   "execution_count": 3,
   "metadata": {},
   "outputs": [
    {
     "name": "stdout",
     "output_type": "stream",
     "text": [
      "The sum of array [1, 2, 3, 4, 5] is 15\n"
     ]
    }
   ],
   "source": [
    "def sumOfArray():\n",
    "    array = eval(input(\"Enter the Array: \"))\n",
    "    print(f'The sum of array {array} is {sum(array)}')\n",
    "\n",
    "sumOfArray()"
   ]
  },
  {
   "attachments": {},
   "cell_type": "markdown",
   "metadata": {},
   "source": [
    "### *__Q.2:- Write a Python Program to find largest element in an array?__*\n",
    "### __*Ans:-*__ "
   ]
  },
  {
   "cell_type": "code",
   "execution_count": 5,
   "metadata": {},
   "outputs": [
    {
     "name": "stdout",
     "output_type": "stream",
     "text": [
      "The Largest Element in array [1, 2, 3, 4, 5] is 5\n"
     ]
    }
   ],
   "source": [
    "def largest_Ele():\n",
    "    array = eval(input(\"Enter the Array: \"))\n",
    "    print(f\"The Largest Element in array {array} is {sorted(array, reverse=True)[0]}\")\n",
    "    \n",
    "largest_Ele()"
   ]
  },
  {
   "attachments": {},
   "cell_type": "markdown",
   "metadata": {},
   "source": [
    "### *__Q.3:- Write a Python Program for array rotation?__*\n",
    "### __*Ans:-*__ "
   ]
  },
  {
   "cell_type": "code",
   "execution_count": 8,
   "metadata": {},
   "outputs": [
    {
     "name": "stdout",
     "output_type": "stream",
     "text": [
      "The Rotated of Array of Array:- [1, 2, 3, 4, 5] is [5, 4, 3, 2, 1]\n"
     ]
    }
   ],
   "source": [
    "def Array_Rotation():\n",
    "    array = eval(input(\"Enter the Array: \"))\n",
    "    print(f\"The Rotated of Array of Array:- {array} is {array[::-1]}\")\n",
    "    \n",
    "Array_Rotation()"
   ]
  },
  {
   "attachments": {},
   "cell_type": "markdown",
   "metadata": {},
   "source": [
    "### *__Q.4:- Write a Python Program to Split the array and add the first part to the end?__*\n",
    "### __*Ans:-*__ "
   ]
  },
  {
   "cell_type": "code",
   "execution_count": 10,
   "metadata": {},
   "outputs": [
    {
     "name": "stdout",
     "output_type": "stream",
     "text": [
      "The Sum of First and Last Elements of Array [1, 2, 3, 4, 50] is 51\n"
     ]
    }
   ],
   "source": [
    "def sumOfSplits():\n",
    "    array = eval(input(\"Enter the Array: \"))\n",
    "    print(f\"The Sum of First and Last Elements of Array {array} is {array[0]+array[-1]}\")\n",
    "    \n",
    "sumOfSplits()"
   ]
  },
  {
   "attachments": {},
   "cell_type": "markdown",
   "metadata": {},
   "source": [
    "### *__Q.5:- Write a Python Program to check if given array is Monotonic?__*\n",
    "### __*Ans:-*__ "
   ]
  },
  {
   "cell_type": "code",
   "execution_count": 11,
   "metadata": {},
   "outputs": [
    {
     "name": "stdout",
     "output_type": "stream",
     "text": [
      "Array [1, 2, 3, 4, 5] is Monotonic\n",
      "Array [1, 2, 3, 6, 5, 4] is Not Monotonic\n"
     ]
    }
   ],
   "source": [
    "def checkMonotonic():\n",
    "    array = eval(input(\"Enter the Array: \"))\n",
    "    if(all(array[i]<=array[i+1] for i in range(len(array)-1)) or all(array[i]>=array[i+1] for i in range(len(array)-1))):\n",
    "        print(f'Array {array} is Monotonic')\n",
    "    else:\n",
    "        print(f'Array {array} is Not Monotonic')\n",
    "\n",
    "checkMonotonic()\n",
    "checkMonotonic()"
   ]
  },
  {
   "attachments": {},
   "cell_type": "markdown",
   "metadata": {},
   "source": [
    "# __Assignment complete.__"
   ]
  }
 ],
 "metadata": {
  "kernelspec": {
   "display_name": "base",
   "language": "python",
   "name": "python3"
  },
  "language_info": {
   "codemirror_mode": {
    "name": "ipython",
    "version": 3
   },
   "file_extension": ".py",
   "mimetype": "text/x-python",
   "name": "python",
   "nbconvert_exporter": "python",
   "pygments_lexer": "ipython3",
   "version": "3.9.12"
  },
  "orig_nbformat": 4
 },
 "nbformat": 4,
 "nbformat_minor": 2
}

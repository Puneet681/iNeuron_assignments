{
 "cells": [
  {
   "cell_type": "markdown",
   "metadata": {},
   "source": [
    "# __Assignment 1__\n",
    "### *__Q.1:- In the below elements which of them are values or an expression? eg:- values can be integer or string and expressions will be mathematical operators.__*\n",
    "### __*Ans:-*__ \n",
    "* __'hello'__ is a string\n",
    "* __-87.8__  is a float variable\n",
    "* __-__ is a mathematical expression \n",
    "* __|__ is a mathematical expression\n",
    "* __+__ is a mathematical expression\n",
    "* __6__ is a integer"
   ]
  },
  {
   "cell_type": "markdown",
   "metadata": {},
   "source": [
    "### *__Q.2:-. What is the difference between string and variable?__*\n",
    "### __*Ans*__:-\n",
    "* __Variable__ is where we store the information and __String__ is a type of information that is stored in the ___variable__\n",
    "* It can also be said that all __strings__ are __variables__ but all __variables__ are not __string__ \n",
    "* As there are diffrent types of __variables__ such as *(integer, float, Boolean)*"
   ]
  },
  {
   "cell_type": "markdown",
   "metadata": {},
   "source": [
    "### *__Q.3:- Describe three different data types.__*\n",
    "### __*Ans:-*__\n",
    "* There are many types of data some of them are as following:-\n",
    "    * *Integer:-* Integer is a Numerical type data that is stored in the variable\n",
    "    * *list:-* List is a collection of Hetrogeneous type data stored in a sequntial way \n",
    "    * *string:-* String is a data type that stores Alphanumeric data which includes alphabets from a-z & A-Z and numbers from 0-9\n",
    "    * *Boolean:-* Boolean is a data type which stores only one value it can either be \"True\" or \"False\"\n",
    "         "
   ]
  },
  {
   "cell_type": "markdown",
   "metadata": {},
   "source": [
    "### *__Q.4:- What is an expression made up of? What do all expressions do?__*\n",
    "### *__Ans:-__*\n",
    "* __Expression:-__ \n",
    "    * Expression is made up of the combinations of variables, opretors.\n",
    "    * Expressions are the commands that produces the output."
   ]
  },
  {
   "cell_type": "markdown",
   "metadata": {},
   "source": [
    "### *__Q.5:- This assignment statements, like spam = 10. What is the difference between an expression and a statement?__*\n",
    "### *__Ans:-__*"
   ]
  },
  {
   "cell_type": "code",
   "execution_count": 13,
   "metadata": {},
   "outputs": [],
   "source": [
    "spam = 10"
   ]
  },
  {
   "cell_type": "markdown",
   "metadata": {},
   "source": [
    "* In the above assignment statment ```spam=10``` the output is not genrated.\n",
    "* The diffrence Between Expression and Statment is that the Expression Gives the output where as the statment do not give the output"
   ]
  },
  {
   "cell_type": "markdown",
   "metadata": {},
   "source": [
    "### *__Q.6:- After running the following code, what does the variable bacon contain?__*\n",
    "### *__bacon = 22__*\n",
    "### *__bacon + 1__*\n",
    "### *__Ans:-__*"
   ]
  },
  {
   "cell_type": "code",
   "execution_count": 14,
   "metadata": {},
   "outputs": [
    {
     "name": "stdout",
     "output_type": "stream",
     "text": [
      "22\n"
     ]
    }
   ],
   "source": [
    "bacon = 22\n",
    "bacon + 1\n",
    "print(bacon)"
   ]
  },
  {
   "cell_type": "markdown",
   "metadata": {},
   "source": [
    "* The variable \"bacon\" contains \"22\"\n",
    "* The resone to this is that in the above Statment the variable \"bacon\" is not reassigned and thus the value of the variable \"bacon\" stays the same as shown is above result."
   ]
  },
  {
   "cell_type": "markdown",
   "metadata": {},
   "source": [
    "### *__Q.7:- What should the values of the following two terms be?__*\n",
    "### *__'spam' + 'spamspam'__*\n",
    "### *__'spam' * 3__*\n",
    "### *__Ans:-__*\n"
   ]
  },
  {
   "cell_type": "code",
   "execution_count": 15,
   "metadata": {},
   "outputs": [
    {
     "data": {
      "text/plain": [
       "'spamspamspam'"
      ]
     },
     "execution_count": 15,
     "metadata": {},
     "output_type": "execute_result"
    }
   ],
   "source": [
    "'spam' + 'spamspam'"
   ]
  },
  {
   "cell_type": "code",
   "execution_count": 16,
   "metadata": {},
   "outputs": [
    {
     "data": {
      "text/plain": [
       "'spamspamspam'"
      ]
     },
     "execution_count": 16,
     "metadata": {},
     "output_type": "execute_result"
    }
   ],
   "source": [
    "'spam' * 3"
   ]
  },
  {
   "cell_type": "markdown",
   "metadata": {},
   "source": [
    "* ```'spam' + 'spamspam'``` the result is ```'spamspamspam'``` \n",
    "* ```'spam' * 3``` the result is also ```'spamspamspam'```\n",
    "    * The reason to this is than in ```spam' + 'spamspam``` the ```'spam'``` is being added to ```'spamspam'``` and it gives ```'spamspamspam'```,\n",
    "    * and in ```'spam' * 3``` the ```'spam'``` is being multiplied by \"3\" and it also gives ```'spamspamspam'```,\n",
    "    * although the output is the same but the fundamental opration being performed is diffrent."
   ]
  },
  {
   "cell_type": "markdown",
   "metadata": {},
   "source": [
    "### *__Q.8:- . Why is eggs a valid variable name while 100 is invalid?__*\n",
    "### *__Ans:-__*\n",
    "* #### __Rules for writing variables:-__\n",
    "    * The variable name can not start with Numbers.\n",
    "    * The variable Name can only start alphabates, & undersore.\n",
    "* The varable name \"100\" does not follow the frist rule as it statres with the Numeric value. "
   ]
  },
  {
   "cell_type": "markdown",
   "metadata": {},
   "source": [
    "### *__Q.9:- . What three functions can be used to get the integer, floating-point number, or string version of a value?__*\n",
    "### *__Ans:-__*\n",
    "* The three functions can be used to get the integer, floating-point number, or string version of a value are:-\n",
    "    - ```int()``` to get integer version of values.\n",
    "    - ```str()``` to get string version of values.\n",
    "    - ```float()``` to get floating-point number version of value."
   ]
  },
  {
   "cell_type": "markdown",
   "metadata": {},
   "source": [
    "### *__Q.10:- .Why does this expression cause an error? How can you fix it?__*\n",
    "### *__'I have eaten ' + 99 + ' burritos.'__*\n",
    "### *__Ans:-__*\n",
    " * __Cause:-__\n",
    "    * in the above expression the addition opration being preformed on string and integer which is not possible.\n",
    "* __solution:-__\n",
    "   * Solution to this error is to typecast the integer ```99``` to string ```str(99)```.\n",
    "   * the solved correct expression is as follows;"
   ]
  },
  {
   "cell_type": "code",
   "execution_count": 21,
   "metadata": {},
   "outputs": [
    {
     "data": {
      "text/plain": [
       "'I have eaten 99 burritos.'"
      ]
     },
     "execution_count": 21,
     "metadata": {},
     "output_type": "execute_result"
    }
   ],
   "source": [
    "'I have eaten ' + str(99) + ' burritos.'"
   ]
  },
  {
   "cell_type": "markdown",
   "metadata": {},
   "source": [
    "# __Assignment complete.__"
   ]
  },
  {
   "cell_type": "markdown",
   "metadata": {},
   "source": []
  }
 ],
 "metadata": {
  "kernelspec": {
   "display_name": "Python 3.9.12 ('base')",
   "language": "python",
   "name": "python3"
  },
  "language_info": {
   "codemirror_mode": {
    "name": "ipython",
    "version": 3
   },
   "file_extension": ".py",
   "mimetype": "text/x-python",
   "name": "python",
   "nbconvert_exporter": "python",
   "pygments_lexer": "ipython3",
   "version": "3.9.12"
  },
  "orig_nbformat": 4,
  "vscode": {
   "interpreter": {
    "hash": "ad2bdc8ecc057115af97d19610ffacc2b4e99fae6737bb82f5d7fb13d2f2c186"
   }
  }
 },
 "nbformat": 4,
 "nbformat_minor": 2
}

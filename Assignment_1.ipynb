{
 "cells": [
  {
   "cell_type": "markdown",
   "metadata": {},
   "source": [
    "# Assignment 1\n",
    "### Q.1:- *__In the below elements which of them are values or an expression? eg:- values can be integer or string and expressions will be mathematical operators.__*\n",
    "### Ans:- \n",
    "* __'hello'__ is a string\n",
    "* __-87.8__  is a float variable\n",
    "* __-__ is a mathematical expression \n",
    "* __|__ is a mathematical expression\n",
    "* __+__ is a mathematical expression\n",
    "* __6__ is a integer"
   ]
  },
  {
   "cell_type": "markdown",
   "metadata": {},
   "source": [
    "### *__Q.2:-. What is the difference between string and variable?__*\n",
    "### __*Ans*__:-\n",
    "* __Variable__ is where we store the information and __String__ is a type of information that is stored in the ___variable__\n",
    "* It can also be said that all __strings__ are __variables__ but all __variables__ are not __string__ \n",
    "* As there are diffrent types of __variables__ such as *(integer, float, Boolean)*"
   ]
  },
  {
   "cell_type": "markdown",
   "metadata": {},
   "source": [
    "### *__Q.3:- Describe three different data types.__*\n",
    "### __*Ans:-__*\n",
    "* There are many types of data some of them are as following:-\n",
    "    * dstgnljk\n",
    "     "
   ]
  }
 ],
 "metadata": {
  "kernelspec": {
   "display_name": "Python 3.9.12 ('base')",
   "language": "python",
   "name": "python3"
  },
  "language_info": {
   "name": "python",
   "version": "3.9.12"
  },
  "orig_nbformat": 4,
  "vscode": {
   "interpreter": {
    "hash": "ad2bdc8ecc057115af97d19610ffacc2b4e99fae6737bb82f5d7fb13d2f2c186"
   }
  }
 },
 "nbformat": 4,
 "nbformat_minor": 2
}

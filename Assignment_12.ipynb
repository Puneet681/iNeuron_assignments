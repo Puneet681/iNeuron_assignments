{
 "cells": [
  {
   "attachments": {},
   "cell_type": "markdown",
   "metadata": {},
   "source": [
    "# __Assignment 12__\n",
    "### *__Q.1:- In what modes should the PdfFileReader() and PdfFileWriter() File objects will be opened?__*\n",
    "### __*Ans:-*__ "
   ]
  },
  {
   "attachments": {},
   "cell_type": "markdown",
   "metadata": {},
   "source": [
    "* ```PdfFileReader()``` file objects should be opened in ```rb``` -> read binary.\n",
    "* ```PdfFileWriter()``` file objects should be opened in ```wb``` -> write binary mode."
   ]
  },
  {
   "attachments": {},
   "cell_type": "markdown",
   "metadata": {},
   "source": [
    "### *__Q.2:-  From a PdfFileReader object, how do you get a Page object for page 5?__*\n",
    "### __*Ans:-*__"
   ]
  },
  {
   "attachments": {},
   "cell_type": "markdown",
   "metadata": {},
   "source": [
    "* you can use ```getPage(<page no.>)``` from ```pdfFileReader``` class  in ```PyPDF2``` module.\n",
    "* Following code is an Example:->"
   ]
  },
  {
   "cell_type": "code",
   "execution_count": 17,
   "metadata": {},
   "outputs": [
    {
     "data": {
      "text/plain": [
       "{'/Type': '/Page',\n",
       " '/Resources': {'/ProcSet': ['/PDF', '/Text', '/ImageB', '/ImageC', '/ImageI'],\n",
       "  '/ExtGState': {'/G3': {'/ca': 1, '/BM': '/Normal'}},\n",
       "  '/Font': {'/F5': {'/Type': '/Font',\n",
       "    '/Subtype': '/Type0',\n",
       "    '/BaseFont': '/AAAAAA+ArialMT',\n",
       "    '/Encoding': '/Identity-H',\n",
       "    '/DescendantFonts': [IndirectObject(3213, 0, 2812076661152)],\n",
       "    '/ToUnicode': {'/Filter': '/FlateDecode'}}}},\n",
       " '/MediaBox': [0, 0, 594.95996, 841.91998],\n",
       " '/Contents': {'/Filter': '/FlateDecode'},\n",
       " '/StructParents': 5,\n",
       " '/Parent': {'/Type': '/Pages',\n",
       "  '/Count': 8,\n",
       "  '/Kids': [IndirectObject(2, 0, 2812076661152),\n",
       "   IndirectObject(8, 0, 2812076661152),\n",
       "   IndirectObject(10, 0, 2812076661152),\n",
       "   IndirectObject(12, 0, 2812076661152),\n",
       "   IndirectObject(14, 0, 2812076661152),\n",
       "   IndirectObject(16, 0, 2812076661152),\n",
       "   IndirectObject(18, 0, 2812076661152),\n",
       "   IndirectObject(20, 0, 2812076661152)],\n",
       "  '/Parent': {'/Type': '/Pages',\n",
       "   '/Count': 41,\n",
       "   '/Kids': [IndirectObject(88, 0, 2812076661152),\n",
       "    IndirectObject(89, 0, 2812076661152),\n",
       "    IndirectObject(90, 0, 2812076661152),\n",
       "    IndirectObject(91, 0, 2812076661152),\n",
       "    IndirectObject(92, 0, 2812076661152),\n",
       "    IndirectObject(86, 0, 2812076661152)]}}}"
      ]
     },
     "execution_count": 17,
     "metadata": {},
     "output_type": "execute_result"
    }
   ],
   "source": [
    "# Example Code:\n",
    "from PyPDF2 import PdfFileReader\n",
    "reader = PdfFileReader('D:\\\\python scripts\\\\interview\\\\24h03-justpasteit.pdf')\n",
    "reader.getPage(5)"
   ]
  },
  {
   "attachments": {},
   "cell_type": "markdown",
   "metadata": {},
   "source": [
    "### *__Q.3:- What PdfFileReader variable stores the number of pages in the PDF document?__*\n",
    "### __*Ans:-*__"
   ]
  },
  {
   "attachments": {},
   "cell_type": "markdown",
   "metadata": {},
   "source": [
    "* The ```getNumPages()``` fuction in ```PdfFileReader``` class in ```PyPDF2``` module stores the no pages in a PDF document.\n",
    "* The example code is as follows:->\n"
   ]
  },
  {
   "cell_type": "code",
   "execution_count": 21,
   "metadata": {},
   "outputs": [
    {
     "name": "stdout",
     "output_type": "stream",
     "text": [
      "Total Pages in the specified PDF is 41\n"
     ]
    }
   ],
   "source": [
    "from PyPDF2 import PdfFileReader\n",
    "reader = PdfFileReader('D:\\\\python scripts\\\\interview\\\\24h03-justpasteit.pdf')\n",
    "print(\"Total Pages in the specified PDF is\",reader.getNumPages())"
   ]
  },
  {
   "attachments": {},
   "cell_type": "markdown",
   "metadata": {},
   "source": [
    "### *__Q.4:- If a PdfFileReader object’s PDF is encrypted with the password swordfish, what must you do before you can obtain Page objects from it?__*\n",
    "### __*Ans:-*__"
   ]
  },
  {
   "attachments": {},
   "cell_type": "markdown",
   "metadata": {},
   "source": [
    "* If ```PdfFileReader``` object’s PDF is encrypted with the password ```swordfish```, you can use ```following``` code obtain Page objects from it?"
   ]
  },
  {
   "cell_type": "code",
   "execution_count": null,
   "metadata": {},
   "outputs": [],
   "source": [
    "from PyPDF2 import PdfFileReader\n",
    "reader = PdfFileReader(<file_path>)\n",
    "if reader.isEncrypted:                  # check if file is encrypted or not\n",
    "    print('encrypted')\n",
    "    try:\n",
    "        reader.decrypt(\"swordfish\")     # try to decrypt PDF with 'sworfish' password\n",
    "        for page in reader.pages:\n",
    "            print(page.extractText())\n",
    "    except Exception as e:              # if decryption fails it will print the error\n",
    "        print(e)\n",
    "else :\n",
    "    print('file is not encrypeted')     # if file is not enrypted it will print the fillowing massage"
   ]
  },
  {
   "attachments": {},
   "cell_type": "markdown",
   "metadata": {},
   "source": [
    "### *__Q.5:- What methods do you use to rotate a page?__*\n",
    "### __*Ans:-*__"
   ]
  },
  {
   "attachments": {},
   "cell_type": "markdown",
   "metadata": {},
   "source": [
    "* There are 2 methods to rotate a page in ```PyPDF2``` package:->\n",
    "    * ```rotateClockWise()``` :-> For Clockwise rotation\n",
    "    * ```rotateCounterClockWise()``` :-> For Counter Clockwise rotation\n",
    "\n"
   ]
  },
  {
   "attachments": {},
   "cell_type": "markdown",
   "metadata": {},
   "source": [
    "### *__Q.6:- What is the difference between a Run object and a Paragraph object?__*\n",
    "### __*Ans:-*__"
   ]
  },
  {
   "attachments": {},
   "cell_type": "markdown",
   "metadata": {},
   "source": [
    "* The ```Paragraph``` object is a member of the Paragraphs collection.\n",
    "* A ```Run``` object is a contiguous run of text with the same style."
   ]
  },
  {
   "attachments": {},
   "cell_type": "markdown",
   "metadata": {},
   "source": [
    "### *__Q.7:- How do you obtain a list of Paragraph objects for a Document object that’s stored in a variable named doc?__*\n",
    "### __*Ans:-*__"
   ]
  },
  {
   "attachments": {},
   "cell_type": "markdown",
   "metadata": {},
   "source": [
    "* In the following cell is the eample code that shows a list of Paragraph objects for a Document object that’s stored in a variable named doc."
   ]
  },
  {
   "cell_type": "code",
   "execution_count": 29,
   "metadata": {},
   "outputs": [
    {
     "name": "stdout",
     "output_type": "stream",
     "text": [
      "[<docx.text.paragraph.Paragraph object at 0x0000028EBE8B8400>, <docx.text.paragraph.Paragraph object at 0x0000028EBE8B83A0>, <docx.text.paragraph.Paragraph object at 0x0000028EBE8B8820>, <docx.text.paragraph.Paragraph object at 0x0000028EBE8B8430>, <docx.text.paragraph.Paragraph object at 0x0000028EBE8B84C0>, <docx.text.paragraph.Paragraph object at 0x0000028EBE8B81F0>, <docx.text.paragraph.Paragraph object at 0x0000028EBE8B8130>, <docx.text.paragraph.Paragraph object at 0x0000028EBE8B88E0>, <docx.text.paragraph.Paragraph object at 0x0000028EBE8B82E0>, <docx.text.paragraph.Paragraph object at 0x0000028EBE8B8880>, <docx.text.paragraph.Paragraph object at 0x0000028EBE8B87F0>, <docx.text.paragraph.Paragraph object at 0x0000028EBE8B89A0>, <docx.text.paragraph.Paragraph object at 0x0000028EBE8A9F70>]\n"
     ]
    }
   ],
   "source": [
    "from docx import Document\n",
    "doc = Document(\"D:\\\\python scripts\\\\iNeuron_assignments\\\\Assignments Questions\\\\Assignment_12.docx\") # Path of the Docx file\n",
    "print(doc.paragraphs) # Prints the list of Paragraph objects for a Document"
   ]
  },
  {
   "attachments": {},
   "cell_type": "markdown",
   "metadata": {},
   "source": [
    "### *__Q.8:- What type of object has bold, underline, italic, strike, and outline variables?__*\n",
    "### __*Ans:-*__"
   ]
  },
  {
   "attachments": {},
   "cell_type": "markdown",
   "metadata": {},
   "source": [
    "* ```Run``` object has bold, underline, italic, strike, and outline variables."
   ]
  },
  {
   "attachments": {},
   "cell_type": "markdown",
   "metadata": {},
   "source": [
    "### *__Q.9:- What is the difference between False, True, and None for the bold variable?__*\n",
    "### __*Ans:-*__"
   ]
  },
  {
   "cell_type": "markdown",
   "metadata": {},
   "source": []
  },
  {
   "attachments": {},
   "cell_type": "markdown",
   "metadata": {},
   "source": [
    "### *__Q.10:- How do you create a Document object for a new Word document?__*\n",
    "### __*Ans:-*__"
   ]
  },
  {
   "attachments": {},
   "cell_type": "markdown",
   "metadata": {},
   "source": [
    "* Following is the example code to show How to create a Document object for a new Word document."
   ]
  },
  {
   "cell_type": "code",
   "execution_count": 31,
   "metadata": {},
   "outputs": [],
   "source": [
    "from docx import Document\n",
    "doc = Document()\n",
    "doc.add_paragraph(\"Assignment 12 testing document\")\n",
    "doc.save('Assignment_12_test_doc.docx')"
   ]
  },
  {
   "cell_type": "code",
   "execution_count": null,
   "metadata": {},
   "outputs": [],
   "source": []
  }
 ],
 "metadata": {
  "kernelspec": {
   "display_name": "base",
   "language": "python",
   "name": "python3"
  },
  "language_info": {
   "codemirror_mode": {
    "name": "ipython",
    "version": 3
   },
   "file_extension": ".py",
   "mimetype": "text/x-python",
   "name": "python",
   "nbconvert_exporter": "python",
   "pygments_lexer": "ipython3",
   "version": "3.9.12"
  },
  "orig_nbformat": 4,
  "vscode": {
   "interpreter": {
    "hash": "ad2bdc8ecc057115af97d19610ffacc2b4e99fae6737bb82f5d7fb13d2f2c186"
   }
  }
 },
 "nbformat": 4,
 "nbformat_minor": 2
}

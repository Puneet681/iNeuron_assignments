{
 "cells": [
  {
   "attachments": {},
   "cell_type": "markdown",
   "metadata": {},
   "source": [
    "# __Programming Assignment 24__\n",
    "### *__Q.1:- Create a function that takes an integer and returns a list from 1 to the given number, where:__*\n",
    "### *__1.\tIf the number can be divided evenly by 4, amplify it by 10 (i.e. return 10 times the number).__*\n",
    "### *__2.\tIf the number cannot be divided evenly by 4, simply return the number.__*\n",
    "```\n",
    "Examples\n",
    "amplify(4) ➞ [1, 2, 3, 40]\n",
    "\n",
    "amplify(3) ➞ [1, 2, 3]\n",
    "\n",
    "amplify(25) ➞ [1, 2, 3, 40, 5, 6, 7, 80, 9, 10, 11, 120, 13, 14, 15, 160, 17, 18, 19, 200, 21, 22, 23, 240, 25]\n",
    "```\n",
    "### *__Notes__*\n",
    "### *__•\tThe given integer will always be equal to or greater than 1.__*\n",
    "### *__•\tInclude the number (see example above).__*\n",
    "### *__•\tTo perform this problem with its intended purpose, try doing it with list comprehensions. If that's too difficult, just solve the challenge any way you can.__*\n",
    "### __*Ans:-*__ "
   ]
  },
  {
   "cell_type": "code",
   "execution_count": 26,
   "metadata": {},
   "outputs": [
    {
     "name": "stdout",
     "output_type": "stream",
     "text": [
      "[1, 2, 3, 40]\n",
      "[1, 2, 3]\n",
      "[1, 2, 3, 40, 5, 6, 7, 80, 9, 10, 11, 120, 13, 14, 15, 160, 17, 18, 19, 200, 21, 22, 23, 240, 25]\n"
     ]
    }
   ],
   "source": [
    "def amplify(n):\n",
    "    # num_list = [i for i in range(1,n+1)]\n",
    "    # new_list = [j*10 if j % 4 ==0 else j for j in num_list]\n",
    "    # return new_list\n",
    "\n",
    "    return [j*10 if j % 4 ==0 else j for j in [i for i in range(1,n+1)]]\n",
    "\n",
    "# Example Usage\n",
    "\n",
    "print(amplify(4))\n",
    "\n",
    "print(amplify(3))\n",
    "\n",
    "print(amplify(25))"
   ]
  },
  {
   "attachments": {},
   "cell_type": "markdown",
   "metadata": {},
   "source": [
    "### *__Q.2:- Create a function that takes a list of numbers and return the number that's unique.__*\n",
    "```\n",
    "Examples\n",
    "unique([3, 3, 3, 7, 3, 3]) ➞ 7\n",
    "\n",
    "unique([0, 0, 0.77, 0, 0]) ➞ 0.77\n",
    "\n",
    "unique([0, 1, 1, 1, 1, 1, 1, 1]) ➞ 0\n",
    "```\n",
    "### *__Notes__*\n",
    "### *__Test cases will always have exactly one unique number while all others are the same.__*\n",
    "### __*Ans:-*__ "
   ]
  },
  {
   "cell_type": "code",
   "execution_count": 27,
   "metadata": {},
   "outputs": [
    {
     "name": "stdout",
     "output_type": "stream",
     "text": [
      "7\n",
      "0.77\n",
      "0\n"
     ]
    }
   ],
   "source": [
    "def unique(lst):\n",
    "    unique_lst = list(set(lst))\n",
    "    counts = [lst.count(num) for num in unique_lst]\n",
    "    return unique_lst[counts.index(1)]\n",
    "\n",
    "# Example Usage\n",
    "\n",
    "print(unique([3, 3, 3, 7, 3, 3]))\n",
    "\n",
    "print(unique([0, 0, 0.77, 0, 0]))\n",
    "\n",
    "print(unique([0, 1, 1, 1, 1, 1, 1, 1]))"
   ]
  },
  {
   "attachments": {},
   "cell_type": "markdown",
   "metadata": {},
   "source": [
    "### *__Q.3:- Your task is to create a Circle constructor that creates a circle with a radius provided by an argument. The circles constructed must have two getters getArea() (PIr^2) and getPerimeter() (2PI**r) which give both respective areas and perimeter (circumference).__*\n",
    "### *__For help with this class, I have provided you with a Rectangle constructor which you can use as a base example.__*\n",
    "```\n",
    "Examples\n",
    "circy = Circle(11)\n",
    "circy.getArea()\n",
    "\n",
    "# Should return 380.132711084365\n",
    "\n",
    "circy = Circle(4.44)\n",
    "circy.getPerimeter()\n",
    "\n",
    "# Should return 27.897342763877365\n",
    "Notes\n",
    "Round results up to the nearest integer.\n",
    "```\n",
    "### __*Ans:-*__ "
   ]
  },
  {
   "cell_type": "code",
   "execution_count": 28,
   "metadata": {},
   "outputs": [
    {
     "name": "stdout",
     "output_type": "stream",
     "text": [
      "381\n",
      "28\n"
     ]
    }
   ],
   "source": [
    "import math\n",
    "\n",
    "class Circle:\n",
    "    def __init__(self, radius):\n",
    "        self.radius = radius\n",
    "    \n",
    "    def getArea(self):\n",
    "        return math.ceil(math.pi * self.radius ** 2)\n",
    "    \n",
    "    def getPerimeter(self):\n",
    "        return math.ceil(2 * math.pi * self.radius)\n",
    "\n",
    "# Example Usage\n",
    "\n",
    "circy = Circle(11)\n",
    "print(circy.getArea())\n",
    "\n",
    "circy = Circle(4.44)\n",
    "print(circy.getPerimeter())"
   ]
  },
  {
   "attachments": {},
   "cell_type": "markdown",
   "metadata": {},
   "source": [
    "### *__Q.4:- Create a function that takes a list of strings and return a list, sorted from shortest to longest.__*\n",
    "```\n",
    "Examples\n",
    "sort_by_length([\"Google\", \"Apple\", \"Microsoft\"])\n",
    "➞ [\"Apple\", \"Google\", \"Microsoft\"]\n",
    "\n",
    "sort_by_length([\"Leonardo\", \"Michelangelo\", \"Raphael\", \"Donatello\"])\n",
    "➞ [\"Raphael\", \"Leonardo\", \"Donatello\", \"Michelangelo\"]\n",
    "\n",
    "sort_by_length([\"Turing\", \"Einstein\", \"Jung\"])\n",
    "➞ [\"Jung\", \"Turing\", \"Einstein\"]\n",
    "```\n",
    "### *__Notes__*\n",
    "### *__All test cases contain lists with strings of different lengths, so you won't have to deal with multiple strings of the same length.__*\n",
    "### __*Ans:-*__ "
   ]
  },
  {
   "cell_type": "code",
   "execution_count": 29,
   "metadata": {},
   "outputs": [
    {
     "name": "stdout",
     "output_type": "stream",
     "text": [
      "['Apple', 'Google', 'Microsoft']\n",
      "['Raphael', 'Leonardo', 'Donatello', 'Michelangelo']\n",
      "['Jung', 'Turing', 'Einstein']\n"
     ]
    }
   ],
   "source": [
    "def sort_by_length(lst):\n",
    "    return sorted(lst, key=len)\n",
    "\n",
    "# Example Usage\n",
    "\n",
    "print(sort_by_length([\"Google\", \"Apple\", \"Microsoft\"]))\n",
    "\n",
    "print(sort_by_length([\"Leonardo\", \"Michelangelo\", \"Raphael\", \"Donatello\"]))\n",
    "\n",
    "print(sort_by_length([\"Turing\", \"Einstein\", \"Jung\"]))"
   ]
  },
  {
   "attachments": {},
   "cell_type": "markdown",
   "metadata": {},
   "source": [
    "### *__Q.5:- Create a function that validates whether three given integers form a Pythagorean triplet. The sum of the squares of the two smallest integers must equal the square of the largest number to be validated.__*\n",
    "```\n",
    "Examples\n",
    "is_triplet(3, 4, 5) ➞ True\n",
    "# 3² + 4² = 25\n",
    "# 5² = 25\n",
    "\n",
    "is_triplet(13, 5, 12) ➞ True\n",
    "# 5² + 12² = 169\n",
    "# 13² = 169\n",
    "\n",
    "is_triplet(1, 2, 3) ➞ False\n",
    "# 1² + 2² = 5\n",
    "# 3² = 9\n",
    "```\n",
    "### *__Notes__*\n",
    "### *__Numbers may not be given in a sorted order.__*\n",
    "### __*Ans:-*__ "
   ]
  },
  {
   "cell_type": "code",
   "execution_count": 30,
   "metadata": {},
   "outputs": [
    {
     "name": "stdout",
     "output_type": "stream",
     "text": [
      "3² + 4² = 25 \n",
      "5² = 25\n",
      "True\n",
      "5² + 12² = 169 \n",
      "13² = 169\n",
      "True\n",
      "1² + 2² = 5 \n",
      "3² = 9\n",
      "False\n"
     ]
    }
   ],
   "source": [
    "import numpy as np\n",
    "def is_triplet(a=int,b=int,c=int):\n",
    "    num_lst = [a,b,c]\n",
    "    num_lst.sort()\n",
    "    print(f\"{num_lst[0]}² + {num_lst[1]}² = {(np.square(num_lst[0])+np.square(num_lst[1]))} \\n{num_lst[2]}² = {np.square(num_lst[2])}\")\n",
    "    if (np.square(num_lst[0])+np.square(num_lst[1]))==np.square(num_lst[2]):\n",
    "        return True\n",
    "    return False\n",
    "\n",
    "# Example usage\n",
    "\n",
    "print(is_triplet(3, 4, 5))\n",
    "\n",
    "print(is_triplet(13, 5, 12))\n",
    "\n",
    "print(is_triplet(1, 2, 3))"
   ]
  },
  {
   "attachments": {},
   "cell_type": "markdown",
   "metadata": {},
   "source": [
    "# __Assignment complete.__"
   ]
  }
 ],
 "metadata": {
  "kernelspec": {
   "display_name": "base",
   "language": "python",
   "name": "python3"
  },
  "language_info": {
   "codemirror_mode": {
    "name": "ipython",
    "version": 3
   },
   "file_extension": ".py",
   "mimetype": "text/x-python",
   "name": "python",
   "nbconvert_exporter": "python",
   "pygments_lexer": "ipython3",
   "version": "3.9.13"
  },
  "orig_nbformat": 4
 },
 "nbformat": 4,
 "nbformat_minor": 2
}

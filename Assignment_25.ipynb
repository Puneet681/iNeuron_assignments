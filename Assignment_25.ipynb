{
 "cells": [
  {
   "attachments": {},
   "cell_type": "markdown",
   "metadata": {},
   "source": [
    "# __Assignment __\n",
    "### *__Q.1:- . What is the difference between enclosing a list comprehension in square brackets and parentheses?__*\n",
    "### __*Ans:-*__ "
   ]
  },
  {
   "attachments": {},
   "cell_type": "markdown",
   "metadata": {},
   "source": [
    "* Enclosing a list comprehension in square brackets returns a list.\n",
    "* where as enclosing a list comprehension in parentheses returns a generator object."
   ]
  },
  {
   "cell_type": "code",
   "execution_count": 3,
   "metadata": {},
   "outputs": [
    {
     "name": "stdout",
     "output_type": "stream",
     "text": [
      "[0, 1, 2, 3, 4, 5, 6, 7, 8, 9] \n",
      " <class 'list'>\n",
      "<generator object <genexpr> at 0x000001E20D68D820> \n",
      " <class 'generator'>\n"
     ]
    }
   ],
   "source": [
    "list = [ele for ele in range(10)]\n",
    "print(list,\"\\n\",type(list))\n",
    "gen = (ele for ele in range(10))\n",
    "print(gen, \"\\n\",type(gen))"
   ]
  },
  {
   "attachments": {},
   "cell_type": "markdown",
   "metadata": {},
   "source": [
    "### *__Q.2:- What is the relationship between generators and iterators?__*\n",
    "### __*Ans:-*__ "
   ]
  },
  {
   "attachments": {},
   "cell_type": "markdown",
   "metadata": {},
   "source": [
    "* ```Generators``` : \n",
    "    * It is another way of creating iterators in a simple way where it uses the keyword \"```yield``\" instead of returning it in a defined function.\n",
    "    * Generators are implemented using a function. Just as iterators, generators also follow lazy evaluation. \n",
    "    * Here, the yield function returns the data without affecting or exiting the function. It will return a sequence of data in an iterable format where we need to iterate over the sequence to use the data as they won’t store the entire sequence in the memory.\n",
    "\n",
    "* ```Iterators``` : \n",
    "    * An iterator is an object which contains a countable number of values and it is used to iterate over iterable objects like list, tuples, sets, etc.\n",
    "    * Iterators are implemented using a class and a local variable for iterating is not required here, It follows lazy evaluation where the evaluation of the expression will be on hold and stored in the memory until the item is called specifically which helps us to avoid repeated evaluation.\n",
    "    * As lazy evaluation is implemented, it requires only 1 memory location to process the value and when we are using a large dataset then, wastage of RAM space will be reduced the need to load the entire dataset at the same time will not be there."
   ]
  },
  {
   "cell_type": "code",
   "execution_count": 1,
   "metadata": {},
   "outputs": [
    {
     "name": "stdout",
     "output_type": "stream",
     "text": [
      "<class 'list_iterator'>\n",
      "Puneet\n",
      "Naresh\n",
      "Sharma\n",
      "<list_iterator object at 0x000002AD6EF791F0>\n",
      "0\n",
      "1\n",
      "8\n",
      "27\n"
     ]
    }
   ],
   "source": [
    "# Example of iterartor\n",
    "iter = iter(['Puneet','Naresh','Sharma'])\n",
    "print(type(iter))\n",
    "print(next(iter))\n",
    "print(next(iter))\n",
    "print(next(iter))\n",
    "print(iter)\n",
    "\n",
    "# Example of Generator\n",
    "def cube_numbers(in_num):\n",
    "    for ele in range(in_num+1):\n",
    "        yield ele**3\n",
    "\n",
    "gen = cube_numbers(3)\n",
    "print(next(gen))\n",
    "print(next(gen))\n",
    "print(next(gen))\n",
    "print(next(gen))"
   ]
  },
  {
   "attachments": {},
   "cell_type": "markdown",
   "metadata": {},
   "source": [
    "### *__Q.3:- What is the relationship between generators and iterators?__*\n",
    "### __*Ans:-*__ "
   ]
  },
  {
   "attachments": {},
   "cell_type": "markdown",
   "metadata": {},
   "source": [
    "* In a ```generator``` function, a ```yield``` statement is used rather than a ```return``` statement."
   ]
  },
  {
   "attachments": {},
   "cell_type": "markdown",
   "metadata": {},
   "source": [
    "### *__Q.4:- What is the purpose of a yield statement?__*\n",
    "### __*Ans:-*__ "
   ]
  },
  {
   "attachments": {},
   "cell_type": "markdown",
   "metadata": {},
   "source": [
    "* ```Yield``` is a keyword in Python that is used to return from a function without destroying the states of its local variable and when the function is called, the ```execution``` starts from the last yield statement.\n",
    "* Any function that contains a ```yield``` keyword is termed as ```generator```.\n",
    "* Hence, ```yield``` is what makes a ```generator```."
   ]
  },
  {
   "attachments": {},
   "cell_type": "markdown",
   "metadata": {},
   "source": [
    "### *__Q.5:- What is the relationship between map calls and list comprehensions? Make a comparison and contrast between the two.__*\n",
    "### __*Ans:-*__ "
   ]
  },
  {
   "attachments": {},
   "cell_type": "markdown",
   "metadata": {},
   "source": [
    "* List comprehension is more concise and easier to read as compared to map.\n",
    "* List comprehension allows filtering.\n",
    "* In map, we have no such facility. For example, to print all odd numbers in range of 10, we can write ```[n for n in range(10) if n%2 != 0]```. There is no alternate for it in map.\n",
    "* List comprehension are used when a list of results is required as final output.but map only returns a map object. it needs to be explicitly coverted to desired datatype.\n",
    "* List comprehension is faster than map when we need to evaluate expressions that are too long or complicated to express\n",
    "* Map is faster in case of calling an already defined function on a set of values."
   ]
  },
  {
   "attachments": {},
   "cell_type": "markdown",
   "metadata": {},
   "source": [
    "# __Assignment complete.__"
   ]
  }
 ],
 "metadata": {
  "kernelspec": {
   "display_name": "base",
   "language": "python",
   "name": "python3"
  },
  "language_info": {
   "codemirror_mode": {
    "name": "ipython",
    "version": 3
   },
   "file_extension": ".py",
   "mimetype": "text/x-python",
   "name": "python",
   "nbconvert_exporter": "python",
   "pygments_lexer": "ipython3",
   "version": "3.9.12"
  },
  "orig_nbformat": 4
 },
 "nbformat": 4,
 "nbformat_minor": 2
}

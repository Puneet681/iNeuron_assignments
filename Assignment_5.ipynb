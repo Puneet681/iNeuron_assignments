{
 "cells": [
  {
   "cell_type": "markdown",
   "metadata": {},
   "source": [
    "# __Assignment 5__\n",
    "### *__Q.1:- What does an empty dictionary's code look like?__*\n",
    "### __*Ans:-*__ "
   ]
  },
  {
   "cell_type": "markdown",
   "metadata": {},
   "source": [
    "* The empty dictionary's code will look like ```{}``` this."
   ]
  },
  {
   "cell_type": "markdown",
   "metadata": {},
   "source": [
    "### *__Q.2:- What is the value of a dictionary value with the key 'foo' and the value 42?__*\n",
    "### __*Ans:-*__ "
   ]
  },
  {
   "cell_type": "markdown",
   "metadata": {},
   "source": [
    "* The value of the dictionary with the ___key = 'foo'__ and __value = 42__ will be ```{'foo':42}```."
   ]
  },
  {
   "cell_type": "markdown",
   "metadata": {},
   "source": [
    "### *__Q.3:- What is the most significant distinction between a dictionary and a list?__*\n",
    "### __*Ans:-*__ "
   ]
  },
  {
   "cell_type": "markdown",
   "metadata": {},
   "source": [
    "* The most natable diffrence between the __list__ and __dictionary__ is as follows:-\n",
    "\n",
    "|          __list__          |           __Dictionary__          |\n",
    "| -------------------------- | --------------------------------- |\n",
    "| The list can be written by writhing value saprated by '```,```' in '```[]```'.       | To writing a dictionary you must use __key value pair__ linked with '```:```' and saprated be '```,```' in '```{}```'.         |\n",
    "| To acess the value in list we use '```listname[index]```'. | To acess the value in dictionary we use '```dictionaryneme[key]```'.     |\n",
    "\n",
    "\n",
    "\n",
    "\n",
    "\n",
    "\n",
    "\n",
    "\n",
    "\n"
   ]
  },
  {
   "cell_type": "markdown",
   "metadata": {},
   "source": [
    "### *__Q.4:- What happens if you try to access spam['foo'] if spam is {'bar': 100}?__*\n",
    "### __*Ans:-*__ "
   ]
  },
  {
   "cell_type": "markdown",
   "metadata": {},
   "source": [
    "* If the value of __spam__ is ```{'bar': 100}``` nad you try to acess ```spam['foo']``` you will gwt __key error__.\n",
    "* Meaning that the given name/value of __key__ does not exist in the __dictionary__."
   ]
  },
  {
   "cell_type": "markdown",
   "metadata": {},
   "source": [
    "### *__Q.5:- If a dictionary is stored in spam, what is the difference between the expressions 'cat' in spam and 'cat' in spam.keys()?__*\n",
    "### __*Ans:-*__ "
   ]
  },
  {
   "cell_type": "markdown",
   "metadata": {},
   "source": [
    "* If the '```cat```' is __key__ :- \n",
    "    * in this case '```cat```' in __spam__ will be the __key__ given as '```{'cat':<value>}```',\n",
    "    * While the expression __spam.keys()__ will give the list of all the __keys__ in __spam__, thus in this case __spam.keys()__ will give '```['cat]```'.\n",
    "* If '```cat```' is __value__:-\n",
    "    * In this case '```cat```' in __spam__ will be the __value__ given as '```{<key>:'cat'}```',\n",
    "    * While the expression __spam.keys()__ will give the list of all the __keys__ in __spam__, thus in __spam.keys()__ will give '```[<key>]```'.\n",
    "* __NOTE:-__ \n",
    "    * ```<value>``` = value assigned to the key in the dictionary.\n",
    "    * ```<key>``` = key to the assigned value in the dictionary."
   ]
  },
  {
   "cell_type": "markdown",
   "metadata": {},
   "source": [
    "### *__Q.6:- If a dictionary is stored in spam, what is the difference between the expressions 'cat' in spam and 'cat' in spam.values()?__*\n",
    "### __*Ans:-*__ "
   ]
  },
  {
   "cell_type": "markdown",
   "metadata": {},
   "source": [
    "* If the '```cat```' is __key__ :- \n",
    "    * in this case '```cat```' in __spam__ will be the __key__ given as '```{'cat':<value>}```',\n",
    "    * While the expression __spam.values()__ will give the list of all the __values__ in __spam__, thus in this case __spam.values()__ will give '```[<value>]```'.\n",
    "* If '```cat```' is __value__:-\n",
    "    * In this case '```cat```' in __spam__ will be the __value__ given as '```{<key>:'cat'}```',\n",
    "    * While the expression __spam.values()__ will give the list of all the __values__ in __spam__, thus in __spam.values()__ will give '```['cat']```'.\n",
    "* __NOTE:-__ \n",
    "    * ```<value>``` = value assigned to the key in the dictionary.\n",
    "    * ```<key>``` = key to the assigned value in the dictionary."
   ]
  },
  {
   "cell_type": "markdown",
   "metadata": {},
   "source": [
    "### *__Q.7:- What is a shortcut for the following code?__*\n",
    "### __*if 'color' not in spam:*__\n",
    "### __*spam['color'] = 'black'*__\n",
    "\n",
    "### __*Ans:-*__ "
   ]
  },
  {
   "cell_type": "markdown",
   "metadata": {},
   "source": [
    "* You can directly us the statment ```spam['color'] = 'black'```, because if the __key__ ```'color'``` exists in __spam__ it will simply assign __value__ ```'black'```.\n",
    "* And if __key__ ```'color'``` do not exist in __spam__ it will creat a new __key__ named as ```'color'``` and will assign the __value__ ```'black'``` to it.\n",
    "* *__Assuming__ that we are only using ```'black'``` as __value__ to the __key__ ```'color'```.*"
   ]
  },
  {
   "cell_type": "markdown",
   "metadata": {},
   "source": [
    "### *__Q.8:- How do you \"pretty print\" dictionary values using which module and function?__*\n",
    "### __*Ans:-*__ "
   ]
  },
  {
   "cell_type": "markdown",
   "metadata": {},
   "source": [
    "* To __\"pretty print\"__ dictionary values we use ``'pprint'`` __module__ and __fuction__ ``'pprint'``, thus making trhe complete expression as ```'pprint.pprint(<dictionary_name>.values())'```."
   ]
  },
  {
   "cell_type": "code",
   "execution_count": 54,
   "metadata": {},
   "outputs": [
    {
     "name": "stdout",
     "output_type": "stream",
     "text": [
      "dict_values(['balck', 'test value'])\n"
     ]
    }
   ],
   "source": [
    "spam = {'color':'balck','test':'test value'}\n",
    "import pprint\n",
    "pprint.pprint(spam.values())"
   ]
  },
  {
   "cell_type": "markdown",
   "metadata": {},
   "source": [
    "# __Assignment complete.__"
   ]
  }
 ],
 "metadata": {
  "kernelspec": {
   "display_name": "Python 3.9.12 ('base')",
   "language": "python",
   "name": "python3"
  },
  "language_info": {
   "codemirror_mode": {
    "name": "ipython",
    "version": 3
   },
   "file_extension": ".py",
   "mimetype": "text/x-python",
   "name": "python",
   "nbconvert_exporter": "python",
   "pygments_lexer": "ipython3",
   "version": "3.9.12"
  },
  "orig_nbformat": 4,
  "vscode": {
   "interpreter": {
    "hash": "ad2bdc8ecc057115af97d19610ffacc2b4e99fae6737bb82f5d7fb13d2f2c186"
   }
  }
 },
 "nbformat": 4,
 "nbformat_minor": 2
}

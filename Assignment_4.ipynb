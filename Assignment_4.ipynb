{
 "cells": [
  {
   "cell_type": "markdown",
   "metadata": {},
   "source": [
    "# __Assignment 4__\n",
    "### *__Q.1:- What exactly is [ ]?__*\n",
    "### __*Ans:-*__ "
   ]
  },
  {
   "cell_type": "markdown",
   "metadata": {},
   "source": [
    "* In python [ ] is an __empty list__\n",
    "\n",
    "__note:-__ using [ ] insted of []."
   ]
  },
  {
   "cell_type": "markdown",
   "metadata": {},
   "source": [
    "### *__Q.2:- In a list of values stored in a variable called spam, how would you assign the value 'hello' as the third value? (Assume [2, 4, 6, 8, 10] are in spam.)__*\n",
    "### __*Ans:-*__ "
   ]
  },
  {
   "cell_type": "markdown",
   "metadata": {},
   "source": [
    "* Frist lets make the list"
   ]
  },
  {
   "cell_type": "code",
   "execution_count": 2,
   "metadata": {},
   "outputs": [],
   "source": [
    "spam = [2,4,6,8,10]"
   ]
  },
  {
   "cell_type": "markdown",
   "metadata": {},
   "source": [
    "* assign new value which is __'hello'__ to the third element of the list as follows."
   ]
  },
  {
   "cell_type": "code",
   "execution_count": 7,
   "metadata": {},
   "outputs": [],
   "source": [
    "spam[2] = 'hello'"
   ]
  },
  {
   "cell_type": "code",
   "execution_count": 6,
   "metadata": {},
   "outputs": [
    {
     "data": {
      "text/plain": [
       "[2, 4, 'hello', 8, 10]"
      ]
     },
     "execution_count": 6,
     "metadata": {},
     "output_type": "execute_result"
    }
   ],
   "source": [
    "spam"
   ]
  },
  {
   "cell_type": "markdown",
   "metadata": {},
   "source": [
    "#### __*Let's pretend the spam includes the list ['a', 'b', 'c', 'd'] for the next three queries.*__"
   ]
  },
  {
   "cell_type": "code",
   "execution_count": 1,
   "metadata": {},
   "outputs": [
    {
     "name": "stdout",
     "output_type": "stream",
     "text": [
      "['a', 'b', 'c', 'd']\n"
     ]
    }
   ],
   "source": [
    "spam = ['a','b','c','d']\n",
    "print(spam)"
   ]
  },
  {
   "cell_type": "markdown",
   "metadata": {},
   "source": [
    "### *__Q.3:- What is the value of spam[int(int('3' * 2) / 11)]?__*\n",
    "### __*Ans:-*__ "
   ]
  },
  {
   "cell_type": "markdown",
   "metadata": {},
   "source": [
    "* The value of __spam[int(int('3' * 2) / 11)]__ is __'d'__.\n",
    "* as shown below."
   ]
  },
  {
   "cell_type": "code",
   "execution_count": 2,
   "metadata": {},
   "outputs": [
    {
     "name": "stdout",
     "output_type": "stream",
     "text": [
      "d\n"
     ]
    }
   ],
   "source": [
    "print(spam[int(int('3' * 2)/11)])"
   ]
  },
  {
   "cell_type": "markdown",
   "metadata": {},
   "source": [
    "* __Explanation:-__\n",
    "    * '3' * 2 = '33'\n",
    "    * int('3' * 2) = 33 (which is an int)\n",
    "    * int('3' * 2)/11 = 3 (which is a float)\n",
    "    * int(int('3' * 2)/11) = 3 (which is now an int)\n",
    "    * Hence, __spam[int(int('3' * 2)/11)] = Spam[3] = 'd'__ "
   ]
  },
  {
   "cell_type": "markdown",
   "metadata": {},
   "source": [
    "### *__Q.4:- What is the value of spam[-1]?__*\n",
    "### __*Ans:-*__ "
   ]
  },
  {
   "cell_type": "markdown",
   "metadata": {},
   "source": [
    "* The value of __spam[-1]__ is __'d'__.\n",
    "* __Explanation__\n",
    "    * the __negative index__ means you count the indices from __right__ to __left__.\n",
    "    * __Negative Indices__ starts from __1__"
   ]
  },
  {
   "cell_type": "code",
   "execution_count": 3,
   "metadata": {},
   "outputs": [
    {
     "data": {
      "text/plain": [
       "'d'"
      ]
     },
     "execution_count": 3,
     "metadata": {},
     "output_type": "execute_result"
    }
   ],
   "source": [
    "spam[-1]"
   ]
  },
  {
   "cell_type": "markdown",
   "metadata": {},
   "source": [
    "### *__Q.5:- What is the value of spam[-2]?__*\n",
    "### __*Ans:-*__ "
   ]
  },
  {
   "cell_type": "markdown",
   "metadata": {},
   "source": [
    "* The value of __spam[-2]__ is __'c'__.\n",
    "* __Explanation__\n",
    "    * the __negative index__ means you count the indices from __right__ to __left__.\n",
    "    * __Negative Indices__ starts from __2__"
   ]
  },
  {
   "cell_type": "code",
   "execution_count": 4,
   "metadata": {},
   "outputs": [
    {
     "data": {
      "text/plain": [
       "'c'"
      ]
     },
     "execution_count": 4,
     "metadata": {},
     "output_type": "execute_result"
    }
   ],
   "source": [
    "spam[-2]"
   ]
  },
  {
   "cell_type": "markdown",
   "metadata": {},
   "source": [
    "#### __*#### __*Let's pretend bacon has the list [3.14, 'cat', 11, 'cat', True] for the next three questions.*__ 'd'] for the next three queries.?*__"
   ]
  },
  {
   "cell_type": "code",
   "execution_count": 18,
   "metadata": {},
   "outputs": [],
   "source": [
    "bacon = [3.14, 'cat', 11, 'cat', True]"
   ]
  },
  {
   "cell_type": "markdown",
   "metadata": {},
   "source": [
    "### *__Q.6:- What is the value of bacon.index('cat')?__*\n",
    "### __*Ans:-*__ "
   ]
  },
  {
   "cell_type": "markdown",
   "metadata": {},
   "source": [
    "* The Value of `bacon.index('cat)` is __1__.\n",
    "* __Explanation:-__\n",
    "    * The Built-in Fuction `index()` will only show the index of __frist__ occurrence of the __given value__ in the list.\n",
    "    * Meaning it will show the __Frist__ index of `'cat'` in the List __bacon__ which is __1__."
   ]
  },
  {
   "cell_type": "code",
   "execution_count": 11,
   "metadata": {},
   "outputs": [
    {
     "data": {
      "text/plain": [
       "1"
      ]
     },
     "execution_count": 11,
     "metadata": {},
     "output_type": "execute_result"
    }
   ],
   "source": [
    "bacon.index('cat')"
   ]
  },
  {
   "cell_type": "markdown",
   "metadata": {},
   "source": [
    "### *__Q.7:- How does bacon.append(99) change the look of the list value in bacon?__*\n",
    "### __*Ans:-*__ "
   ]
  },
  {
   "cell_type": "markdown",
   "metadata": {},
   "source": [
    "* The change in the look of the list value in `bacon` after using `bacon.append(99)` will be [3.14, 'cat', 11, 'cat', True, 99].\n",
    "* __Explanation:-__\n",
    "    * The Built-in Fuction `append()` will add the __given value__ after the __last index__ of the list.\n",
    "    * Thus `bacon.append(99)` will add the value __99__ after the __last index__ of the list `bacon` whisch is __True__ and we get `[3.14, 'cat', 11, 'cat', True, 99]`."
   ]
  },
  {
   "cell_type": "code",
   "execution_count": 19,
   "metadata": {},
   "outputs": [
    {
     "name": "stdout",
     "output_type": "stream",
     "text": [
      "[3.14, 'cat', 11, 'cat', True, 99]\n"
     ]
    }
   ],
   "source": [
    "bacon.append(99)\n",
    "print(bacon)"
   ]
  },
  {
   "cell_type": "markdown",
   "metadata": {},
   "source": [
    "### *__Q.8:- How does bacon.remove('cat') change the look of the list in bacon?__*\n",
    "### __*Ans:-*__ "
   ]
  },
  {
   "cell_type": "markdown",
   "metadata": {},
   "source": [
    "* After using `bacon.remove('cat')` will show follwing results:-\n",
    "    * `[3.14, 11, 'cat', True, 99]` considering __Q.7__ statment `bacon.append(99)` being valied.\n",
    "    * `[3.14, 11, 'cat', True]` considering __Q.7__ statment `bacon.appned(99)` being not valid.\n",
    "* __Explanation:-__\n",
    "    * The Built-in Fuction `remove()` removes the __Frist__ occurrence of the __Given Value__.\n",
    "    * Thus it removes The __Frist__ occurrence of `cat` from the list `bacon` and we get above __results__."
   ]
  },
  {
   "cell_type": "code",
   "execution_count": 20,
   "metadata": {},
   "outputs": [
    {
     "name": "stdout",
     "output_type": "stream",
     "text": [
      "[3.14, 11, 'cat', True, 99]\n"
     ]
    }
   ],
   "source": [
    "bacon.remove('cat')\n",
    "print(bacon)"
   ]
  },
  {
   "cell_type": "markdown",
   "metadata": {},
   "source": [
    "### *__Q.9:- What are the list concatenation and list replication operators?__*\n",
    "### __*Ans:-*__ "
   ]
  },
  {
   "cell_type": "markdown",
   "metadata": {},
   "source": [
    "* The oprator `+` is used for list __Concatination__.\n",
    "* The oprator `*` is used for list __Replication__."
   ]
  },
  {
   "cell_type": "code",
   "execution_count": 37,
   "metadata": {},
   "outputs": [
    {
     "name": "stdout",
     "output_type": "stream",
     "text": [
      "The concatination of list_B to List_A is\n",
      "[1, 2, 3, 4, 5, 6]\n",
      "The Replication of list_A Three times is\n",
      "[1, 2, 3, 1, 2, 3, 1, 2, 3]\n"
     ]
    }
   ],
   "source": [
    "list_A = [1 , 2 , 3]\n",
    "list_B = [4 , 5 , 6]\n",
    "\n",
    "print(\"The concatination of list_B to List_A is\")\n",
    "print(list_A + list_B)\n",
    "\n",
    "print(\"The Replication of list_A Three times is\")\n",
    "print(list_A * 3)"
   ]
  },
  {
   "cell_type": "markdown",
   "metadata": {},
   "source": [
    "### *__Q.10:- What is difference between the list methods append() and insert()?__*\n",
    "### __*Ans:-*__ "
   ]
  },
  {
   "cell_type": "markdown",
   "metadata": {},
   "source": [
    "* The Built-in Fuction `append()` will insert the __given value__ affter the last index of the __list__.\n",
    "* while the Built-in Fuction `insert` will insert the __given value__ at the __desierd index__ of the user of the __list__."
   ]
  },
  {
   "cell_type": "code",
   "execution_count": 42,
   "metadata": {},
   "outputs": [
    {
     "name": "stdout",
     "output_type": "stream",
     "text": [
      "Following is the result of the use of append() fuction\n",
      "[1, 2, 3, 4, 'append_test']\n",
      "Following is the result of the use of insert() fuction at the index 2 of the list\n",
      "[1, 2, 'insert_test at index 2', 3, 4, 'append_test']\n"
     ]
    }
   ],
   "source": [
    "Sample_list = [1 , 2 , 3 , 4]\n",
    "\n",
    "print(\"Following is the result of the use of append() fuction\")\n",
    "Sample_list.append(\"append_test\")\n",
    "print(Sample_list)\n",
    "\n",
    "print(\"Following is the result of the use of insert() fuction at the index 2 of the list\")\n",
    "Sample_list.insert(2,\"insert_test at index 2\")\n",
    "print(Sample_list)"
   ]
  },
  {
   "cell_type": "markdown",
   "metadata": {},
   "source": [
    "### *__Q.11:- What are the two methods for removing items from a list?__*\n",
    "### __*Ans:-*__ "
   ]
  },
  {
   "cell_type": "markdown",
   "metadata": {},
   "source": [
    "* Frist methode is to use Built-in Fuction `remove`.\n",
    "* Second methode is to use Built-in Fuction `pop`."
   ]
  },
  {
   "cell_type": "markdown",
   "metadata": {},
   "source": [
    "### *__Q.12:- Describe how list values and string values are identical.__*\n",
    "### __*Ans:-*__ "
   ]
  },
  {
   "cell_type": "markdown",
   "metadata": {},
   "source": [
    "* The __List Values__ and __String Values__ are both sequences.\n",
    "* Thus you can Built-in Fuction like `index()` can be used both __List__ and __string__."
   ]
  },
  {
   "cell_type": "markdown",
   "metadata": {},
   "source": [
    "### *__Q.13:- What's the difference between tuples and lists?__*\n",
    "### __*Ans:-*__"
   ]
  },
  {
   "cell_type": "markdown",
   "metadata": {},
   "source": [
    "* __Lists__ are Mutable where as __Tuples__ are Inmutable."
   ]
  },
  {
   "cell_type": "markdown",
   "metadata": {},
   "source": [
    "### *__Q.14:- How do you type a tuple value that only contains the integer 42?__*\n",
    "### __*Ans:-*__"
   ]
  },
  {
   "cell_type": "markdown",
   "metadata": {},
   "source": [
    "* To creat the tupal with only one value which is __integer 42__ you type `(42,)`."
   ]
  },
  {
   "cell_type": "code",
   "execution_count": 49,
   "metadata": {},
   "outputs": [
    {
     "name": "stdout",
     "output_type": "stream",
     "text": [
      "<class 'tuple'>\n"
     ]
    }
   ],
   "source": [
    "print(type((42,)))"
   ]
  },
  {
   "cell_type": "markdown",
   "metadata": {},
   "source": [
    "### *__Q.15:- How do you get a list value's tuple form? How do you get a tuple value's list form?__*\n",
    "### __*Ans:-*__"
   ]
  },
  {
   "cell_type": "markdown",
   "metadata": {},
   "source": [
    "* To get __list Value's__ from a __tuple__ you use built-in fuction `list`.\n",
    "* To get __tuple Value's__ from a __list__ you use built-in fuction `tuple`."
   ]
  },
  {
   "cell_type": "code",
   "execution_count": 55,
   "metadata": {},
   "outputs": [
    {
     "name": "stdout",
     "output_type": "stream",
     "text": [
      "<class 'list'>\n",
      "<class 'tuple'>\n",
      "<class 'list'>\n"
     ]
    }
   ],
   "source": [
    "print(type(list_A))\n",
    "a=tuple(list_A)\n",
    "print(type(a))\n",
    "\n",
    "b = list(a)\n",
    "print(type(b))"
   ]
  },
  {
   "cell_type": "markdown",
   "metadata": {},
   "source": [
    "### *__Q.16:- Variables that \"contain\" list values are not necessarily lists themselves. Instead, what do they contain?__*\n",
    "### __*Ans:-*__"
   ]
  },
  {
   "cell_type": "markdown",
   "metadata": {},
   "source": [
    "* The __Variables__ that contain list values are refrences to the list values called index."
   ]
  },
  {
   "cell_type": "markdown",
   "metadata": {},
   "source": [
    "### *__Q.17:- How do you distinguish between copy.copy() and copy.deepcopy()?__*\n",
    "### __*Ans:-*__"
   ]
  },
  {
   "cell_type": "markdown",
   "metadata": {},
   "source": [
    "* The fuction ```copy.copy()``` create the refrence to the orignal.\n",
    "* Meaning if you make changes into the copied list the orignal list gets changed too.\n",
    "* while ```copy.deepcopy()``` creates a whole new list with the exact same values as the orignal one.\n",
    "* This means that if you make changes to the copied list it does not affect the orignal list in anyway."
   ]
  },
  {
   "cell_type": "markdown",
   "metadata": {},
   "source": [
    "# __Assignment complete.__"
   ]
  },
  {
   "cell_type": "markdown",
   "metadata": {},
   "source": []
  }
 ],
 "metadata": {
  "kernelspec": {
   "display_name": "Python 3.9.12 ('base')",
   "language": "python",
   "name": "python3"
  },
  "language_info": {
   "codemirror_mode": {
    "name": "ipython",
    "version": 3
   },
   "file_extension": ".py",
   "mimetype": "text/x-python",
   "name": "python",
   "nbconvert_exporter": "python",
   "pygments_lexer": "ipython3",
   "version": "3.9.12"
  },
  "orig_nbformat": 4,
  "vscode": {
   "interpreter": {
    "hash": "ad2bdc8ecc057115af97d19610ffacc2b4e99fae6737bb82f5d7fb13d2f2c186"
   }
  }
 },
 "nbformat": 4,
 "nbformat_minor": 2
}

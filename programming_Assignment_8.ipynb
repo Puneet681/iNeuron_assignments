{
 "cells": [
  {
   "attachments": {},
   "cell_type": "markdown",
   "metadata": {},
   "source": [
    "# __Programming Assignment 8__\n",
    "### *__Q.1:- Write a Python Program to Add Two Matrices?__*\n",
    "### __*Ans:-*__ "
   ]
  },
  {
   "cell_type": "code",
   "execution_count": 7,
   "metadata": {},
   "outputs": [
    {
     "name": "stdout",
     "output_type": "stream",
     "text": [
      "1st Input array :  \n",
      " [[1 2 3]\n",
      " [4 5 6]\n",
      " [7 8 9]]\n",
      "2nd Input array :  \n",
      " [[9 8 7]\n",
      " [6 5 4]\n",
      " [3 2 1]]\n",
      "output added array :  \n",
      " [[10 10 10]\n",
      " [10 10 10]\n",
      " [10 10 10]]\n",
      "\n",
      "\n",
      "1st Input array :  \n",
      " [[2 3 5]\n",
      " [1 1 1]\n",
      " [2 2 2]]\n",
      "2nd Input array :  \n",
      " [[4 3 5]\n",
      " [1 2 3]\n",
      " [3 2 1]]\n",
      "output added array :  \n",
      " [[ 6  6 10]\n",
      " [ 2  3  4]\n",
      " [ 5  4  3]]\n"
     ]
    }
   ],
   "source": [
    "import numpy as np\n",
    "\n",
    "def addMatrices(a,b):\n",
    "\n",
    "    arr1 = np.array(a)\n",
    "    arr2 = np.array(b)\n",
    "\n",
    "    out_arr = np.add(arr1, arr2)\n",
    "    \n",
    "    print (\"1st Input array : \",\"\\n\", arr1)\n",
    "    print (\"2nd Input array : \",\"\\n\", arr2)\n",
    "    print (\"output added array : \",\"\\n\", out_arr)\n",
    "    \n",
    "addMatrices([[1,2,3],[4,5,6],[7,8,9]],[[9,8,7],[6,5,4],[3,2,1]])\n",
    "print(\"\\n\")\n",
    "addMatrices([[2,3,5],[1,1,1],[2,2,2]],[[4,3,5],[1,2,3],[3,2,1]])"
   ]
  },
  {
   "attachments": {},
   "cell_type": "markdown",
   "metadata": {},
   "source": [
    "### *__Q.2:- Write a Python Program to Multiply Two Matrices?__*\n",
    "### __*Ans:-*__ "
   ]
  },
  {
   "cell_type": "code",
   "execution_count": 12,
   "metadata": {},
   "outputs": [
    {
     "name": "stdout",
     "output_type": "stream",
     "text": [
      "1st Input array :  \n",
      " [[1 2 3]\n",
      " [4 5 6]\n",
      " [7 8 9]]\n",
      "2nd Input array :  \n",
      " [[1 4 7]\n",
      " [2 5 8]\n",
      " [3 6 9]]\n",
      "output added array :  \n",
      " [[ 14  32  50]\n",
      " [ 32  77 122]\n",
      " [ 50 122 194]]\n",
      "\n",
      "\n",
      "1st Input array :  \n",
      " [[2 3 5]\n",
      " [1 1 1]\n",
      " [2 2 2]]\n",
      "2nd Input array :  \n",
      " [[4 3 5]\n",
      " [1 2 3]\n",
      " [3 2 1]]\n",
      "output added array :  \n",
      " [[26 22 24]\n",
      " [ 8  7  9]\n",
      " [16 14 18]]\n"
     ]
    }
   ],
   "source": [
    "import numpy as np\n",
    "\n",
    "def addMatrices(a,b):\n",
    "\n",
    "    arr1 = np.array(a)\n",
    "    arr2 = np.array(b)\n",
    "\n",
    "    print (\"1st Input array : \",\"\\n\", arr1)\n",
    "    print (\"2nd Input array : \",\"\\n\", arr2)\n",
    "\n",
    "    if len(a[0]) == len(b):\n",
    "        out_arr = np.dot(arr1, arr2)\n",
    "        print (\"output added array : \",\"\\n\", out_arr)\n",
    "    \n",
    "    else:\n",
    "        print('Matrix Multiplication is Not Possible')\n",
    "    \n",
    "addMatrices([[1,2,3],[4,5,6],[7,8,9]],[[1,4,7],[2,5,8],[3,6,9]])\n",
    "print(\"\\n\")\n",
    "addMatrices([[2,3,5],[1,1,1],[2,2,2]],[[4,3,5],[1,2,3],[3,2,1]])\n"
   ]
  },
  {
   "attachments": {},
   "cell_type": "markdown",
   "metadata": {},
   "source": [
    "### *__Q.3:- Write a Python Program to Transpose a Matrix?__*\n",
    "### __*Ans:-*__ "
   ]
  },
  {
   "cell_type": "code",
   "execution_count": 14,
   "metadata": {},
   "outputs": [
    {
     "name": "stdout",
     "output_type": "stream",
     "text": [
      "Input array :  \n",
      " [[1 2 3]\n",
      " [4 5 6]\n",
      " [7 8 9]]\n",
      "output added array :  \n",
      " [[1 4 7]\n",
      " [2 5 8]\n",
      " [3 6 9]]\n",
      "\n",
      "\n",
      "Input array :  \n",
      " [[2 3 5]\n",
      " [1 1 1]\n",
      " [2 2 2]]\n",
      "output added array :  \n",
      " [[2 1 2]\n",
      " [3 1 2]\n",
      " [5 1 2]]\n"
     ]
    }
   ],
   "source": [
    "import numpy as np\n",
    "\n",
    "def addMatrices(a):\n",
    "\n",
    "    arr = np.array(a)\n",
    "\n",
    "    print (\"Input array : \",\"\\n\", arr)\n",
    "\n",
    "    out_arr = np.transpose(arr)\n",
    "    print (\"output added array : \",\"\\n\", out_arr)\n",
    "    \n",
    "    \n",
    "addMatrices([[1,2,3],[4,5,6],[7,8,9]])\n",
    "print(\"\\n\")\n",
    "addMatrices([[2,3,5],[1,1,1],[2,2,2]])\n"
   ]
  },
  {
   "attachments": {},
   "cell_type": "markdown",
   "metadata": {},
   "source": [
    "### *__Q.4:- Write a Python Program to Sort Words in Alphabetic Order?__*\n",
    "### __*Ans:-*__ "
   ]
  },
  {
   "cell_type": "code",
   "execution_count": 21,
   "metadata": {},
   "outputs": [
    {
     "name": "stdout",
     "output_type": "stream",
     "text": [
      "Gagan Puneet Sachin Sanjib\n"
     ]
    }
   ],
   "source": [
    "def sort_String():\n",
    "    in_string = input(\"Enter a String: \").title()\n",
    "    sorted_list = sorted(in_string.split(' '))\n",
    "    print(' '.join(sorted_list))\n",
    "\n",
    "sort_String()"
   ]
  },
  {
   "attachments": {},
   "cell_type": "markdown",
   "metadata": {},
   "source": [
    "### *__Q.5:- Write a Python Program to Remove Punctuation From a String?__*\n",
    "### __*Ans:-*__ "
   ]
  },
  {
   "cell_type": "code",
   "execution_count": 24,
   "metadata": {},
   "outputs": [
    {
     "name": "stdout",
     "output_type": "stream",
     "text": [
      "p.n.sharma1049@gmail.com\n",
      "pnsharma1049gmailcom\n"
     ]
    }
   ],
   "source": [
    "def remove_Pun():\n",
    "    Pun = '''!()-[]{};:'\"\\,<>./?@#$%^&*_~'''\n",
    "    in_string = input('Enter a String: ')\n",
    "    print(in_string)\n",
    "    out_string = ''\n",
    "    for i in in_string:\n",
    "        if i not in Pun:\n",
    "            out_string += i\n",
    "    print(out_string)\n",
    "    \n",
    "remove_Pun()"
   ]
  },
  {
   "attachments": {},
   "cell_type": "markdown",
   "metadata": {},
   "source": [
    "# __Assignment complete.__"
   ]
  }
 ],
 "metadata": {
  "kernelspec": {
   "display_name": "base",
   "language": "python",
   "name": "python3"
  },
  "language_info": {
   "codemirror_mode": {
    "name": "ipython",
    "version": 3
   },
   "file_extension": ".py",
   "mimetype": "text/x-python",
   "name": "python",
   "nbconvert_exporter": "python",
   "pygments_lexer": "ipython3",
   "version": "3.9.12"
  },
  "orig_nbformat": 4
 },
 "nbformat": 4,
 "nbformat_minor": 2
}

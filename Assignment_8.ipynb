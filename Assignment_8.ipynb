{
 "cells": [
  {
   "attachments": {},
   "cell_type": "markdown",
   "metadata": {},
   "source": [
    "# __Assignment 8__\n",
    "### *__Q.1:- Is the Python Standard Library included with PyInputPlus?__*\n",
    "### __*Ans:-*__ "
   ]
  },
  {
   "attachments": {},
   "cell_type": "markdown",
   "metadata": {},
   "source": [
    "* No, ```PyInputPlus``` is not a part of Python Standard Library, it needs to be installed explicitly using the command ```!pip install PyInputPlus```."
   ]
  },
  {
   "attachments": {},
   "cell_type": "markdown",
   "metadata": {},
   "source": [
    "### *__Q.2:-  Why is PyInputPlus commonly imported with import pyinputplus as pypi?__*\n",
    "### __*Ans:-*__ "
   ]
  },
  {
   "attachments": {},
   "cell_type": "markdown",
   "metadata": {},
   "source": [
    "* ```PyInputPlus``` commonly imported with import pyinputplus as ```pypi``` so that you can enter a shorter name when calling the module's functions."
   ]
  },
  {
   "attachments": {},
   "cell_type": "markdown",
   "metadata": {},
   "source": [
    "### *__Q.3:-  How do you distinguish between inputInt() and inputFloat()?__*\n",
    "### __*Ans:-*__ "
   ]
  },
  {
   "attachments": {},
   "cell_type": "markdown",
   "metadata": {},
   "source": [
    "* ```inputInt()``` function Accepts an ```integer``` value. This also takes additional parameters ```min, max, greaterThan``` and ```lessThan``` for bounds. And it always returns an ```int```.\n",
    "\n",
    "* ```inputFloat()``` function Accepts a ```floating-point``` numeric value. this also takes additional ```min, max, greaterThan``` and ```lessThan``` parameters. and always returns a ```float```."
   ]
  },
  {
   "attachments": {},
   "cell_type": "markdown",
   "metadata": {},
   "source": [
    "### *__Q.4:-  Using PyInputPlus, how do you ensure that the user enters a whole number between 0 and 99?__*\n",
    "### __*Ans:-*__ "
   ]
  },
  {
   "attachments": {},
   "cell_type": "markdown",
   "metadata": {},
   "source": [
    "* Following is an example to ensure that the user enters a whole number between 0 and 99."
   ]
  },
  {
   "cell_type": "code",
   "execution_count": 9,
   "metadata": {},
   "outputs": [
    {
     "name": "stdout",
     "output_type": "stream",
     "text": [
      "Enter a number: Number must be at maximum 99.\n",
      "Enter a number: 99\n"
     ]
    }
   ],
   "source": [
    "import pyinputplus as pyip\n",
    "int = pyip.inputInt(prompt='Enter a number: ', min=0, max=99)\n",
    "print(int)"
   ]
  },
  {
   "attachments": {},
   "cell_type": "markdown",
   "metadata": {},
   "source": [
    "### *__Q.5:-   What is transferred to the keyword arguments allowRegexes and blockRegexes??__*\n",
    "### __*Ans:-*__ "
   ]
  },
  {
   "attachments": {},
   "cell_type": "markdown",
   "metadata": {},
   "source": [
    "* you can use  keyword arguments like ```allowRegexes``` and ```blockRegexes``` to take list of regular expression strings to determine what the pyinputplus function will accept or reject respectively."
   ]
  },
  {
   "attachments": {},
   "cell_type": "markdown",
   "metadata": {},
   "source": [
    "### *__Q.6:-   If a blank input is entered three times, what does inputStr(limit=3) do?__*\n",
    "### __*Ans:-*__ "
   ]
  },
  {
   "attachments": {},
   "cell_type": "markdown",
   "metadata": {},
   "source": [
    "* if a blank input is entered three times the ```inputstr(limit=3)``` will do as follows:-\n",
    "    * it will show ```Blank values are not allowed.``` for 1st blank input.\n",
    "    * it will do same for 2nd blank input\n",
    "    * however for 3rd blank input it will show ```Blank values are not allowed.```\n",
    "    * then, will prompt an error as ```RetryLimitException:```\n",
    "* Following is an example code with the error prompt"
   ]
  },
  {
   "cell_type": "code",
   "execution_count": 11,
   "metadata": {},
   "outputs": [
    {
     "name": "stdout",
     "output_type": "stream",
     "text": [
      "Blank values are not allowed.\n",
      "Blank values are not allowed.\n",
      "Blank values are not allowed.\n"
     ]
    },
    {
     "ename": "RetryLimitException",
     "evalue": "",
     "output_type": "error",
     "traceback": [
      "\u001b[1;31m---------------------------------------------------------------------------\u001b[0m",
      "\u001b[1;31mValidationException\u001b[0m                       Traceback (most recent call last)",
      "File \u001b[1;32m~\\AppData\\Roaming\\Python\\Python39\\site-packages\\pyinputplus\\__init__.py:167\u001b[0m, in \u001b[0;36m_genericInput\u001b[1;34m(prompt, default, timeout, limit, applyFunc, validationFunc, postValidateApplyFunc, passwordMask)\u001b[0m\n\u001b[0;32m    166\u001b[0m \u001b[39mtry\u001b[39;00m:\n\u001b[1;32m--> 167\u001b[0m     possibleNewUserInput \u001b[39m=\u001b[39m validationFunc(\n\u001b[0;32m    168\u001b[0m         userInput\n\u001b[0;32m    169\u001b[0m     )  \u001b[39m# If validation fails, this function will raise an exception. Returns an updated value to use as user input (e.g. stripped of whitespace, etc.)\u001b[39;00m\n\u001b[0;32m    170\u001b[0m     \u001b[39mif\u001b[39;00m possibleNewUserInput \u001b[39mis\u001b[39;00m \u001b[39mnot\u001b[39;00m \u001b[39mNone\u001b[39;00m:\n",
      "File \u001b[1;32m~\\AppData\\Roaming\\Python\\Python39\\site-packages\\pyinputplus\\__init__.py:243\u001b[0m, in \u001b[0;36minputStr.<locals>.<lambda>\u001b[1;34m(value)\u001b[0m\n\u001b[0;32m    241\u001b[0m pysv\u001b[39m.\u001b[39m_validateGenericParameters(blank, strip, allowRegexes, blockRegexes)\n\u001b[1;32m--> 243\u001b[0m validationFunc \u001b[39m=\u001b[39m \u001b[39mlambda\u001b[39;00m value: pysv\u001b[39m.\u001b[39;49m_prevalidationCheck(\n\u001b[0;32m    244\u001b[0m     value, blank\u001b[39m=\u001b[39;49mblank, strip\u001b[39m=\u001b[39;49mstrip, allowRegexes\u001b[39m=\u001b[39;49mallowRegexes, blockRegexes\u001b[39m=\u001b[39;49mblockRegexes, excMsg\u001b[39m=\u001b[39;49m\u001b[39mNone\u001b[39;49;00m,\n\u001b[0;32m    245\u001b[0m )[\u001b[39m1\u001b[39m]\n\u001b[0;32m    247\u001b[0m \u001b[39mreturn\u001b[39;00m _genericInput(\n\u001b[0;32m    248\u001b[0m     prompt\u001b[39m=\u001b[39mprompt,\n\u001b[0;32m    249\u001b[0m     default\u001b[39m=\u001b[39mdefault,\n\u001b[1;32m   (...)\u001b[0m\n\u001b[0;32m    254\u001b[0m     validationFunc\u001b[39m=\u001b[39mvalidationFunc,\n\u001b[0;32m    255\u001b[0m )\n",
      "File \u001b[1;32m~\\AppData\\Roaming\\Python\\Python39\\site-packages\\pysimplevalidate\\__init__.py:250\u001b[0m, in \u001b[0;36m_prevalidationCheck\u001b[1;34m(value, blank, strip, allowRegexes, blockRegexes, excMsg)\u001b[0m\n\u001b[0;32m    248\u001b[0m \u001b[39mif\u001b[39;00m \u001b[39mnot\u001b[39;00m blank \u001b[39mand\u001b[39;00m value \u001b[39m==\u001b[39m \u001b[39m\"\u001b[39m\u001b[39m\"\u001b[39m:\n\u001b[0;32m    249\u001b[0m     \u001b[39m# value is blank but blanks aren't allowed.\u001b[39;00m\n\u001b[1;32m--> 250\u001b[0m     _raiseValidationException(_(\u001b[39m\"\u001b[39;49m\u001b[39mBlank values are not allowed.\u001b[39;49m\u001b[39m\"\u001b[39;49m), excMsg)\n\u001b[0;32m    251\u001b[0m \u001b[39melif\u001b[39;00m blank \u001b[39mand\u001b[39;00m value \u001b[39m==\u001b[39m \u001b[39m\"\u001b[39m\u001b[39m\"\u001b[39m:\n",
      "File \u001b[1;32m~\\AppData\\Roaming\\Python\\Python39\\site-packages\\pysimplevalidate\\__init__.py:222\u001b[0m, in \u001b[0;36m_raiseValidationException\u001b[1;34m(standardExcMsg, customExcMsg)\u001b[0m\n\u001b[0;32m    221\u001b[0m \u001b[39mif\u001b[39;00m customExcMsg \u001b[39mis\u001b[39;00m \u001b[39mNone\u001b[39;00m:\n\u001b[1;32m--> 222\u001b[0m     \u001b[39mraise\u001b[39;00m ValidationException(\u001b[39mstr\u001b[39m(standardExcMsg))\n\u001b[0;32m    223\u001b[0m \u001b[39melse\u001b[39;00m:\n",
      "\u001b[1;31mValidationException\u001b[0m: Blank values are not allowed.",
      "\nDuring handling of the above exception, another exception occurred:\n",
      "\u001b[1;31mRetryLimitException\u001b[0m                       Traceback (most recent call last)",
      "\u001b[1;32md:\\python scripts\\iNeuron_assignments\\Assignment_8.ipynb Cell 14\u001b[0m in \u001b[0;36m<cell line: 3>\u001b[1;34m()\u001b[0m\n\u001b[0;32m      <a href='vscode-notebook-cell:/d%3A/python%20scripts/iNeuron_assignments/Assignment_8.ipynb#X21sZmlsZQ%3D%3D?line=0'>1</a>\u001b[0m \u001b[39m# example code for Que. 5\u001b[39;00m\n\u001b[0;32m      <a href='vscode-notebook-cell:/d%3A/python%20scripts/iNeuron_assignments/Assignment_8.ipynb#X21sZmlsZQ%3D%3D?line=1'>2</a>\u001b[0m \u001b[39mimport\u001b[39;00m \u001b[39mpyinputplus\u001b[39;00m \u001b[39mas\u001b[39;00m \u001b[39mpyip\u001b[39;00m\n\u001b[1;32m----> <a href='vscode-notebook-cell:/d%3A/python%20scripts/iNeuron_assignments/Assignment_8.ipynb#X21sZmlsZQ%3D%3D?line=2'>3</a>\u001b[0m test \u001b[39m=\u001b[39m pyip\u001b[39m.\u001b[39;49minputStr(limit\u001b[39m=\u001b[39;49m\u001b[39m3\u001b[39;49m)\n\u001b[0;32m      <a href='vscode-notebook-cell:/d%3A/python%20scripts/iNeuron_assignments/Assignment_8.ipynb#X21sZmlsZQ%3D%3D?line=3'>4</a>\u001b[0m \u001b[39mprint\u001b[39m(test)\n",
      "File \u001b[1;32m~\\AppData\\Roaming\\Python\\Python39\\site-packages\\pyinputplus\\__init__.py:247\u001b[0m, in \u001b[0;36minputStr\u001b[1;34m(prompt, default, blank, timeout, limit, strip, allowRegexes, blockRegexes, applyFunc, postValidateApplyFunc)\u001b[0m\n\u001b[0;32m    241\u001b[0m pysv\u001b[39m.\u001b[39m_validateGenericParameters(blank, strip, allowRegexes, blockRegexes)\n\u001b[0;32m    243\u001b[0m validationFunc \u001b[39m=\u001b[39m \u001b[39mlambda\u001b[39;00m value: pysv\u001b[39m.\u001b[39m_prevalidationCheck(\n\u001b[0;32m    244\u001b[0m     value, blank\u001b[39m=\u001b[39mblank, strip\u001b[39m=\u001b[39mstrip, allowRegexes\u001b[39m=\u001b[39mallowRegexes, blockRegexes\u001b[39m=\u001b[39mblockRegexes, excMsg\u001b[39m=\u001b[39m\u001b[39mNone\u001b[39;00m,\n\u001b[0;32m    245\u001b[0m )[\u001b[39m1\u001b[39m]\n\u001b[1;32m--> 247\u001b[0m \u001b[39mreturn\u001b[39;00m _genericInput(\n\u001b[0;32m    248\u001b[0m     prompt\u001b[39m=\u001b[39;49mprompt,\n\u001b[0;32m    249\u001b[0m     default\u001b[39m=\u001b[39;49mdefault,\n\u001b[0;32m    250\u001b[0m     timeout\u001b[39m=\u001b[39;49mtimeout,\n\u001b[0;32m    251\u001b[0m     limit\u001b[39m=\u001b[39;49mlimit,\n\u001b[0;32m    252\u001b[0m     applyFunc\u001b[39m=\u001b[39;49mapplyFunc,\n\u001b[0;32m    253\u001b[0m     postValidateApplyFunc\u001b[39m=\u001b[39;49mpostValidateApplyFunc,\n\u001b[0;32m    254\u001b[0m     validationFunc\u001b[39m=\u001b[39;49mvalidationFunc,\n\u001b[0;32m    255\u001b[0m )\n",
      "File \u001b[1;32m~\\AppData\\Roaming\\Python\\Python39\\site-packages\\pyinputplus\\__init__.py:188\u001b[0m, in \u001b[0;36m_genericInput\u001b[1;34m(prompt, default, timeout, limit, applyFunc, validationFunc, postValidateApplyFunc, passwordMask)\u001b[0m\n\u001b[0;32m    185\u001b[0m         \u001b[39mreturn\u001b[39;00m default\n\u001b[0;32m    186\u001b[0m     \u001b[39melse\u001b[39;00m:\n\u001b[0;32m    187\u001b[0m         \u001b[39m# If there is no default, then raise the timeout/limit exception.\u001b[39;00m\n\u001b[1;32m--> 188\u001b[0m         \u001b[39mraise\u001b[39;00m limitOrTimeoutException\n\u001b[0;32m    189\u001b[0m \u001b[39melse\u001b[39;00m:\n\u001b[0;32m    190\u001b[0m     \u001b[39m# If there was no timeout/limit exceeded, let the user enter input again.\u001b[39;00m\n\u001b[0;32m    191\u001b[0m     \u001b[39mcontinue\u001b[39;00m\n",
      "\u001b[1;31mRetryLimitException\u001b[0m: "
     ]
    }
   ],
   "source": [
    "# example code for Que. 6\n",
    "import pyinputplus as pyip\n",
    "test = pyip.inputStr(limit=3)\n",
    "print(test)"
   ]
  },
  {
   "attachments": {},
   "cell_type": "markdown",
   "metadata": {},
   "source": [
    "### *__Q.7:- If blank input is entered three times, what does inputStr(limit=3, default='hello') do?__*\n",
    "### __*Ans:-*__ "
   ]
  },
  {
   "attachments": {},
   "cell_type": "markdown",
   "metadata": {},
   "source": [
    "* if a blank input is entered three times the ```inputstr(limit=3,default='hello')``` will do as follows:-\n",
    "    * it will show ```Blank values are not allowed.``` for 1st blank input.\n",
    "    * it will do same for 2nd blank input\n",
    "    * however for 3rd blank input it will show ```Blank values are not allowed.```\n",
    "    * then, will return defauld value wich is ```'hello'```\n",
    "* Following is an example code:-"
   ]
  },
  {
   "cell_type": "code",
   "execution_count": 13,
   "metadata": {},
   "outputs": [
    {
     "name": "stdout",
     "output_type": "stream",
     "text": [
      "Blank values are not allowed.\n",
      "Blank values are not allowed.\n",
      "Blank values are not allowed.\n",
      "hello\n"
     ]
    }
   ],
   "source": [
    "# example code for Que. 7\n",
    "import pyinputplus as pyip\n",
    "test = pyip.inputStr(limit=3,default='hello')\n",
    "print(test)"
   ]
  },
  {
   "attachments": {},
   "cell_type": "markdown",
   "metadata": {},
   "source": [
    "# __Assignment complete.__ "
   ]
  },
  {
   "cell_type": "markdown",
   "metadata": {},
   "source": []
  }
 ],
 "metadata": {
  "kernelspec": {
   "display_name": "base",
   "language": "python",
   "name": "python3"
  },
  "language_info": {
   "codemirror_mode": {
    "name": "ipython",
    "version": 3
   },
   "file_extension": ".py",
   "mimetype": "text/x-python",
   "name": "python",
   "nbconvert_exporter": "python",
   "pygments_lexer": "ipython3",
   "version": "3.9.12"
  },
  "orig_nbformat": 4,
  "vscode": {
   "interpreter": {
    "hash": "ad2bdc8ecc057115af97d19610ffacc2b4e99fae6737bb82f5d7fb13d2f2c186"
   }
  }
 },
 "nbformat": 4,
 "nbformat_minor": 2
}

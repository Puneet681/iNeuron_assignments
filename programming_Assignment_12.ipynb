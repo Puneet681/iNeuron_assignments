{
 "cells": [
  {
   "attachments": {},
   "cell_type": "markdown",
   "metadata": {},
   "source": [
    "# __Programming Assignment 12__\n",
    "### *__Q.1:- Write a Python program to Extract Unique values dictionary values?__*\n",
    "### __*Ans:-*__ "
   ]
  },
  {
   "cell_type": "code",
   "execution_count": 10,
   "metadata": {},
   "outputs": [
    {
     "name": "stdout",
     "output_type": "stream",
     "text": [
      "Dictionary: {'a': 1, 'b': 2, 'c': 3, 'd': 2, 'e': 1}\n",
      "Unique values: [1, 2, 3]\n"
     ]
    }
   ],
   "source": [
    "def extract_unique_values(d):\n",
    "    unique_values = []\n",
    "    for value in d.values():\n",
    "        if value not in unique_values:\n",
    "            unique_values.append(value)\n",
    "    return unique_values\n",
    "\n",
    "\n",
    "# Example usage\n",
    "d = {'a': 1, 'b': 2, 'c': 3, 'd': 2, 'e': 1}\n",
    "\n",
    "unique_values = extract_unique_values(d)\n",
    "\n",
    "print(f\"Dictionary: {d}\")\n",
    "print(f\"Unique values: {unique_values}\")\n"
   ]
  },
  {
   "attachments": {},
   "cell_type": "markdown",
   "metadata": {},
   "source": [
    "### *__Q.2:- Write a Python program to find the sum of all items in a dictionary?__*\n",
    "### __*Ans:-*__ "
   ]
  },
  {
   "cell_type": "code",
   "execution_count": 11,
   "metadata": {},
   "outputs": [
    {
     "name": "stdout",
     "output_type": "stream",
     "text": [
      "Dictionary: {'a': 1, 'b': 2, 'c': 3, 'd': 2, 'e': 1}\n",
      "Sum of values: 9\n"
     ]
    }
   ],
   "source": [
    "def sum_dict_values(d):\n",
    "    return sum(d.values())\n",
    "\n",
    "# Example usage\n",
    "d = {'a': 1, 'b': 2, 'c': 3, 'd': 2, 'e': 1}\n",
    "\n",
    "sum_values = sum_dict_values(d)\n",
    "\n",
    "print(f\"Dictionary: {d}\")\n",
    "print(f\"Sum of values: {sum_values}\")\n"
   ]
  },
  {
   "attachments": {},
   "cell_type": "markdown",
   "metadata": {},
   "source": [
    "### *__Q.3:- Write a Python program to Merging two Dictionaries?__*\n",
    "### __*Ans:-*__ "
   ]
  },
  {
   "cell_type": "code",
   "execution_count": 12,
   "metadata": {},
   "outputs": [
    {
     "name": "stdout",
     "output_type": "stream",
     "text": [
      "Dictionary 1: {'a': 1, 'b': 2, 'c': 3}\n",
      "Dictionary 2: {'d': 4, 'e': 5, 'f': 6}\n",
      "Merged dictionary: {'a': 1, 'b': 2, 'c': 3, 'd': 4, 'e': 5, 'f': 6}\n"
     ]
    }
   ],
   "source": [
    "def merge_dicts(d1, d2):\n",
    "    merged_dict = d1.copy()\n",
    "    merged_dict.update(d2)\n",
    "    return merged_dict\n",
    "\n",
    "# Example usage\n",
    "d1 = {'a': 1, 'b': 2, 'c': 3}\n",
    "d2 = {'d': 4, 'e': 5, 'f': 6}\n",
    "\n",
    "merged_dict = merge_dicts(d1, d2)\n",
    "\n",
    "print(f\"Dictionary 1: {d1}\")\n",
    "print(f\"Dictionary 2: {d2}\")\n",
    "print(f\"Merged dictionary: {merged_dict}\")\n"
   ]
  },
  {
   "attachments": {},
   "cell_type": "markdown",
   "metadata": {},
   "source": [
    "### *__Q.4:- Write a Python program to convert key-values list to flat dictionary?__*\n",
    "### __*Ans:-*__ "
   ]
  },
  {
   "cell_type": "code",
   "execution_count": 13,
   "metadata": {},
   "outputs": [
    {
     "name": "stdout",
     "output_type": "stream",
     "text": [
      "List: [('a', 1), ('b', 2), ('c', 3)]\n",
      "Flat dictionary: {'a': 1, 'b': 2, 'c': 3}\n"
     ]
    }
   ],
   "source": [
    "def list_to_dict(list):\n",
    "    flat_dict = {}\n",
    "    for key, value in list:\n",
    "        flat_dict[key] = value\n",
    "    return flat_dict\n",
    "\n",
    "# Example usage\n",
    "list = [('a', 1), ('b', 2), ('c', 3)]\n",
    "flat_dict = list_to_dict(list)\n",
    "\n",
    "print(f\"List: {list}\")\n",
    "print(f\"Flat dictionary: {flat_dict}\")\n"
   ]
  },
  {
   "attachments": {},
   "cell_type": "markdown",
   "metadata": {},
   "source": [
    "### *__Q.5:- Write a Python program to insertion at the beginning in OrderedDict?__*\n",
    "### __*Ans:-*__ "
   ]
  },
  {
   "cell_type": "code",
   "execution_count": 14,
   "metadata": {},
   "outputs": [
    {
     "name": "stdout",
     "output_type": "stream",
     "text": [
      "Original OrderedDict:\n",
      "OrderedDict([('a', 1), ('b', 2), ('c', 3)])\n",
      "Modified OrderedDict:\n",
      "OrderedDict([('d', 4), ('a', 1), ('b', 2), ('c', 3)])\n"
     ]
    }
   ],
   "source": [
    "from collections import OrderedDict\n",
    "\n",
    "# Create an OrderedDict\n",
    "od = OrderedDict({'a': 1, 'b': 2, 'c': 3})\n",
    "\n",
    "# Print the original OrderedDict\n",
    "print(\"Original OrderedDict:\")\n",
    "print(od)\n",
    "\n",
    "# Insert a new key-value pair at the beginning\n",
    "od.update({'d': 4})\n",
    "od.move_to_end('d', last=False)\n",
    "\n",
    "# Print the modified OrderedDict\n",
    "print(\"Modified OrderedDict:\")\n",
    "print(od)\n"
   ]
  },
  {
   "attachments": {},
   "cell_type": "markdown",
   "metadata": {},
   "source": [
    "### *__Q.6:- Write a Python program to check order of character in string using OrderedDict()?__*\n",
    "### __*Ans:-*__ "
   ]
  },
  {
   "cell_type": "code",
   "execution_count": 15,
   "metadata": {},
   "outputs": [
    {
     "name": "stdout",
     "output_type": "stream",
     "text": [
      "String: Hello world\n",
      "Pattern: Hel\n",
      "Characters appear in order: True\n"
     ]
    }
   ],
   "source": [
    "from collections import OrderedDict\n",
    "\n",
    "def check_order(string, pattern):\n",
    "    pattern_dict = OrderedDict.fromkeys(pattern)\n",
    "    pattern = pattern_dict.keys()\n",
    "    char_exist = []\n",
    "    for i in string:\n",
    "        if i in pattern:\n",
    "            if len(char_exist)<len(pattern):\n",
    "                char_exist.append(i)\n",
    "    char_exist = OrderedDict.fromkeys(char_exist)\n",
    "    char_exist = char_exist.keys()\n",
    "    return pattern == char_exist\n",
    "\n",
    "# Example usage\n",
    "string = \"Hello world\"\n",
    "pattern = \"Hel\"\n",
    "\n",
    "result = check_order(string, pattern)\n",
    "\n",
    "print(f\"String: {string}\")\n",
    "print(f\"Pattern: {pattern}\")\n",
    "print(f\"Characters appear in order: {result}\")\n"
   ]
  },
  {
   "attachments": {},
   "cell_type": "markdown",
   "metadata": {},
   "source": [
    "### *__Q.7:- Write a Python program to sort Python Dictionaries by Key or Value?__*\n",
    "### __*Ans:-*__ "
   ]
  },
  {
   "cell_type": "code",
   "execution_count": 16,
   "metadata": {},
   "outputs": [
    {
     "name": "stdout",
     "output_type": "stream",
     "text": [
      "Original dictionary: {'c': 1, 'a': 3, 'b': 2}\n",
      "Sorted by key: {'a': 3, 'b': 2, 'c': 1}\n",
      "Sorted by value: {'c': 1, 'b': 2, 'a': 3}\n"
     ]
    }
   ],
   "source": [
    "# Example dictionary\n",
    "d = {'c': 1, 'a': 3, 'b': 2}\n",
    "\n",
    "# Sort by key\n",
    "sorted_by_key = dict(sorted(d.items()))\n",
    "\n",
    "# Sort by value\n",
    "d_key = (lambda x: x[1])\n",
    "sorted_by_value = dict(sorted(d.items(), key=d_key))\n",
    "\n",
    "# Print results\n",
    "print(f\"Original dictionary: {d}\")\n",
    "print(f\"Sorted by key: {sorted_by_key}\")\n",
    "print(f\"Sorted by value: {sorted_by_value}\")\n"
   ]
  },
  {
   "attachments": {},
   "cell_type": "markdown",
   "metadata": {},
   "source": [
    "# __Assignment complete.__"
   ]
  }
 ],
 "metadata": {
  "kernelspec": {
   "display_name": "base",
   "language": "python",
   "name": "python3"
  },
  "language_info": {
   "codemirror_mode": {
    "name": "ipython",
    "version": 3
   },
   "file_extension": ".py",
   "mimetype": "text/x-python",
   "name": "python",
   "nbconvert_exporter": "python",
   "pygments_lexer": "ipython3",
   "version": "3.9.13"
  },
  "orig_nbformat": 4
 },
 "nbformat": 4,
 "nbformat_minor": 2
}

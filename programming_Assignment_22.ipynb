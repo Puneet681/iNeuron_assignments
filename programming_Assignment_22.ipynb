{
 "cells": [
  {
   "attachments": {},
   "cell_type": "markdown",
   "metadata": {},
   "source": [
    "# __Programming Assignment 22__\n",
    "### *__Q.1:- Create a function that takes three parameters where:__*\n",
    "### *__•\tx is the start of the range (inclusive).__*\n",
    "### *__•\ty is the end of the range (inclusive).__*\n",
    "### *__•\tn is the divisor to be checked against.__*\n",
    "### *__Return an ordered list with numbers in the range that are divisible by the third parameter n. Return an empty list if there are no numbers that are divisible by n.__*\n",
    "```\n",
    "Examples\n",
    "list_operation(1, 10, 3) ➞ [3, 6, 9]\n",
    "\n",
    "list_operation(7, 9, 2) ➞ [8]\n",
    "\n",
    "list_operation(15, 20, 7) ➞ []\n",
    "```\n",
    "### __*Ans:-*__ "
   ]
  },
  {
   "cell_type": "code",
   "execution_count": 93,
   "metadata": {},
   "outputs": [
    {
     "name": "stdout",
     "output_type": "stream",
     "text": [
      "[3, 6, 9]\n",
      "[8]\n",
      "[]\n"
     ]
    }
   ],
   "source": [
    "def list_operation(x=int,y=int,n=int):\n",
    "    return [i for i in range (x,y+1) if i%n == 0]\n",
    "\n",
    "# Example Usage \n",
    "\n",
    "print(list_operation(1, 10, 3))\n",
    "\n",
    "print(list_operation(7, 9, 2))\n",
    "\n",
    "print(list_operation(15, 20, 7))"
   ]
  },
  {
   "attachments": {},
   "cell_type": "markdown",
   "metadata": {},
   "source": [
    "### *__Q.2:- Create a function that takes in two lists and returns True if the second list follows the first list by one element, and False otherwise. In other words, determine if the second list is the first list shifted to the right by 1.__*\n",
    "```\n",
    "Examples\n",
    "simon_says([1, 2], [5, 1]) ➞ True\n",
    "\t\n",
    "simon_says([1, 2], [5, 5]) ➞ False\n",
    "\n",
    "simon_says([1, 2, 3, 4, 5], [0, 1, 2, 3, 4]) ➞ True\n",
    "\n",
    "simon_says([1, 2, 3, 4, 5], [5, 5, 1, 2, 3]) ➞ False\n",
    "```\n",
    "### *__Notes__*\n",
    "### *__•\tBoth input lists will be of the same length, and will have a minimum length of 2.__*\n",
    "### *__•\tThe values of the 0-indexed element in the second list and the n-1th indexed element in the first list do not matter.__*\n",
    "### __*Ans:-*__ "
   ]
  },
  {
   "cell_type": "code",
   "execution_count": 94,
   "metadata": {},
   "outputs": [
    {
     "name": "stdout",
     "output_type": "stream",
     "text": [
      "True\n",
      "False\n",
      "True\n",
      "False\n"
     ]
    }
   ],
   "source": [
    "def simon_says(l1 = list, l2 = list):\n",
    "    if len(l1)==len(l2):\n",
    "        l2_new = l2[1::]\n",
    "        l1_new = l1[0:(len(l2)-1):]\n",
    "\n",
    "        if l1_new == l2_new:\n",
    "            return True\n",
    "        else:\n",
    "            return False\n",
    "    else:\n",
    "        return \"Length of input Lists are not same\"\n",
    "\n",
    "print(simon_says([1, 2], [5, 1]))\n",
    "\n",
    "print(simon_says([1, 2], [5, 5]))\n",
    "\n",
    "print(simon_says([1, 2, 3, 4, 5], [0, 1, 2, 3, 4]))\n",
    "\n",
    "print(simon_says([1, 2, 3, 4, 5], [5, 5, 1, 2, 3]))\n"
   ]
  },
  {
   "attachments": {},
   "cell_type": "markdown",
   "metadata": {},
   "source": [
    "### *__Q.3:- A group of friends have decided to start a secret society. The name will be the first letter of each of their names, sorted in alphabetical order.__*\n",
    "### *__Create a function that takes in a list of names and returns the name of the secret society.__*\n",
    "```\n",
    "Examples\n",
    "society_name([\"Adam\", \"Sarah\", \"Malcolm\"]) ➞ \"AMS\"\n",
    "\n",
    "society_name([\"Harry\", \"Newt\", \"Luna\", \"Cho\"]) ➞ \"CHLN\"\n",
    "\n",
    "society_name([\"Phoebe\", \"Chandler\", \"Rachel\", \"Ross\", \"Monica\", \"Joey\"])\n",
    "```\n",
    "### __*Ans:-*__ "
   ]
  },
  {
   "cell_type": "code",
   "execution_count": 95,
   "metadata": {},
   "outputs": [
    {
     "name": "stdout",
     "output_type": "stream",
     "text": [
      "AMS\n",
      "CHLN\n",
      "CJMPRR\n"
     ]
    }
   ],
   "source": [
    "def society_name(l = list):\n",
    "    l.sort()\n",
    "    return ''.join((i[0] for i in l))\n",
    "\n",
    "# Example Usage\n",
    "\n",
    "print(society_name([\"Adam\", \"Sarah\", \"Malcolm\"]))\n",
    "\n",
    "print(society_name([\"Harry\", \"Newt\", \"Luna\", \"Cho\"]))\n",
    "\n",
    "print(society_name([\"Phoebe\", \"Chandler\", \"Rachel\", \"Ross\", \"Monica\", \"Joey\"]))"
   ]
  },
  {
   "attachments": {},
   "cell_type": "markdown",
   "metadata": {},
   "source": [
    "### *__Q.4:- An isogram is a word that has no duplicate letters. Create a function that takes a string and returns either True or False depending on whether or not it's an \"isogram\".__*\n",
    "```\n",
    "Examples\n",
    "is_isogram(\"Algorism\") ➞ True\n",
    "\n",
    "is_isogram(\"PasSword\") ➞ False\n",
    "# Not case sensitive.\n",
    "\n",
    "is_isogram(\"Consecutive\") ➞ False\n",
    "```\n",
    "### *__Notes__*\n",
    "### *__•\tIgnore letter case (should not be case sensitive).__*\n",
    "### *__•\tAll test cases contain valid one word strings.__*\n",
    "### __*Ans:-*__ "
   ]
  },
  {
   "cell_type": "code",
   "execution_count": 96,
   "metadata": {},
   "outputs": [
    {
     "name": "stdout",
     "output_type": "stream",
     "text": [
      "True\n",
      "True\n",
      "False\n",
      "Please Enter Single Word\n"
     ]
    }
   ],
   "source": [
    "def is_isogram(s=str):\n",
    "    if \" \" in s:\n",
    "        return \"Please Enter Single Word\"\n",
    "    else:\n",
    "        s.lower()\n",
    "        s_new = []\n",
    "        for i in s:\n",
    "            if i not in s_new:\n",
    "                s_new.append(i)\n",
    "        \n",
    "        if len(s) == len(''.join((i for i in s_new))):\n",
    "            return True\n",
    "        else:\n",
    "            return False\n",
    "\n",
    "\n",
    "print(is_isogram(\"Algorism\"))\n",
    "\n",
    "print(is_isogram(\"PasSword\"))\n",
    "\n",
    "print(is_isogram(\"Consecutive\"))\n",
    "\n",
    "print(is_isogram(\"Conse cutive\"))"
   ]
  },
  {
   "attachments": {},
   "cell_type": "markdown",
   "metadata": {},
   "source": [
    "### *__Q.5:- Create a function that takes a string and returns True or False, depending on whether the characters are in order or not.__*\n",
    "```\n",
    "Examples\n",
    "is_in_order(\"abc\") ➞ True\n",
    "\n",
    "is_in_order(\"edabit\") ➞ False\n",
    "\n",
    "is_in_order(\"123\") ➞ True\n",
    "\n",
    "is_in_order(\"xyzz\") ➞ True\n",
    "```\n",
    "### *__Notes__*\n",
    "### *__You don't have to handle empty strings.__*\n",
    "### __*Ans:-*__ "
   ]
  },
  {
   "cell_type": "code",
   "execution_count": 97,
   "metadata": {},
   "outputs": [
    {
     "name": "stdout",
     "output_type": "stream",
     "text": [
      "True\n",
      "False\n",
      "True\n",
      "True\n",
      "True\n"
     ]
    }
   ],
   "source": [
    "import copy\n",
    "def is_in_order(s = str):\n",
    "    s_new = copy.deepcopy(s)\n",
    "\n",
    "    s_new = ''.join(sorted(s_new))\n",
    "\n",
    "    if s==s_new:\n",
    "        return True\n",
    "    return False\n",
    "\n",
    "# Example Usage\n",
    "\n",
    "print(is_in_order(\"abc\"))\n",
    "\n",
    "print(is_in_order(\"edabit\"))\n",
    "\n",
    "print(is_in_order(\"123\"))\n",
    "\n",
    "print(is_in_order(\"xyzz\"))\n",
    "\n",
    "print(is_in_order(\"\"))  ## Empty string not handled case"
   ]
  },
  {
   "attachments": {},
   "cell_type": "markdown",
   "metadata": {},
   "source": [
    "# __Assignment complete.__"
   ]
  }
 ],
 "metadata": {
  "kernelspec": {
   "display_name": "base",
   "language": "python",
   "name": "python3"
  },
  "language_info": {
   "codemirror_mode": {
    "name": "ipython",
    "version": 3
   },
   "file_extension": ".py",
   "mimetype": "text/x-python",
   "name": "python",
   "nbconvert_exporter": "python",
   "pygments_lexer": "ipython3",
   "version": "3.9.13"
  },
  "orig_nbformat": 4
 },
 "nbformat": 4,
 "nbformat_minor": 2
}

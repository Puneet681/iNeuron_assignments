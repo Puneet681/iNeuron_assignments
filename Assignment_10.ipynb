{
 "cells": [
  {
   "attachments": {},
   "cell_type": "markdown",
   "metadata": {},
   "source": [
    "# __Assignment 10__\n",
    "### *__Q.1:- How do you distinguish between shutil.copy() and shutil.copytree()?__*\n",
    "### __*Ans:-*__ "
   ]
  },
  {
   "attachments": {},
   "cell_type": "markdown",
   "metadata": {},
   "source": [
    "* ```shutil.copy()``` fuction will copy only the specified file to the specified location.\n",
    "* ```shutil.copytree()``` fuction will copy the entier containts of the specified folder to the specified location."
   ]
  },
  {
   "attachments": {},
   "cell_type": "markdown",
   "metadata": {},
   "source": [
    "### *__Q.2:- What function is used to rename files?__*\n",
    "### __*Ans:-*__ "
   ]
  },
  {
   "attachments": {},
   "cell_type": "markdown",
   "metadata": {},
   "source": [
    "* To rename the file we can use ```rename()``` fuction in ```os``` module."
   ]
  },
  {
   "attachments": {},
   "cell_type": "markdown",
   "metadata": {},
   "source": [
    "### *__Q.3:- What is the difference between the delete functions in the send2trash and shutil modules?__*\n",
    "### __*Ans:-*__ "
   ]
  },
  {
   "attachments": {},
   "cell_type": "markdown",
   "metadata": {},
   "source": [
    "* ```send2trash``` fuction will send the specified file or folder to recycle bin.\n",
    "* ```shutill``` module will permanently delete the specified file or folder from the system."
   ]
  },
  {
   "attachments": {},
   "cell_type": "markdown",
   "metadata": {},
   "source": [
    "### *__Q.4:- ZipFile objects have a close() method just like File objects’ close() method. What ZipFile method is equivalent to File objects’ open() method?__*\n",
    "### __*Ans:-*__ "
   ]
  },
  {
   "attachments": {},
   "cell_type": "markdown",
   "metadata": {},
   "source": [
    "* The fuction ```zipfile()``` in ```zipfile``` module (written as ```zipfile.zipfile()```)  is equivalent to the ```open()``` fuction.\n",
    "* meaning ```zipfile()``` takes the same arguments as ```open()``` fuction like '```filename```' and '```mode```'\n",
    "* example:-\n",
    "    * ```zipfile.zipfile('filename','mode')```"
   ]
  },
  {
   "attachments": {},
   "cell_type": "markdown",
   "metadata": {},
   "source": [
    "### *__Q.5:-  Create a programme that searches a folder tree for files with a certain file extension (such as .pdf or .jpg). Copy these files from whatever location they are in to a new folder.__*\n",
    "### __*Ans:-*__ "
   ]
  },
  {
   "cell_type": "code",
   "execution_count": 2,
   "metadata": {},
   "outputs": [
    {
     "name": "stdout",
     "output_type": "stream",
     "text": [
      "source:- D:\\python scripts\\iNeuron_assignments\\assignment_10_dummy\n",
      "destination:- D:\\python scripts\\iNeuron_assignments\\assignment_10_dummy\\copy\n",
      "logs location:- D:\\python scripts\\iNeuron_assignments\\assignment_10_dummy\n",
      "extentions:- all\n"
     ]
    }
   ],
   "source": [
    "import os\n",
    "import shutil\n",
    "import logging\n",
    "\n",
    "formatter = logging.Formatter('%(asctime)s %(name)s %(levelname)s %(message)s')\n",
    "def setup_logger(name, log_file, level=logging.INFO):\n",
    "    \"\"\"To set up as many loggers as you want\"\"\"\n",
    "    handler = logging.FileHandler(log_file)\n",
    "    handler.setFormatter(formatter)\n",
    "    logger = logging.getLogger(name)\n",
    "    logger.setLevel(level)\n",
    "    if logger.handlers:\n",
    "        logger.handlers = []\n",
    "    logger.addHandler(handler)\n",
    "    return logger\n",
    "\n",
    "# Fuction to find all folders in folder tree\n",
    "dirs ={}\n",
    "def find_dirs(path):\n",
    "    dirs[path] = []\n",
    "    for i in os.listdir(path):\n",
    "        if os.path.isdir(path+\"\\\\\"+i):\n",
    "            dirs[path].append(path+\"\\\\\"+i)\n",
    "    if path in dirs:\n",
    "        for i in dirs[path]:\n",
    "            find_dirs(i)\n",
    "    log_file = open(\"log.log\", \"w\")\n",
    "    dir_log = setup_logger(\"Find_dir_log\",log_file= \"log.log\", level = logging.INFO)\n",
    "    dir_log.log(level=logging.INFO,msg=\"all dirs Found\")\n",
    "    log_file.close()\n",
    "    return list(dirs.keys())\n",
    "\n",
    "# Fuction to get location of all files in folder tree    \n",
    "def mapping(path):\n",
    "    file_location = []\n",
    "    for i in find_dirs(path):\n",
    "        a = os.listdir(i)\n",
    "        for j in range(len(a)):\n",
    "            if not os.path.isdir(a[j]):              \n",
    "                file_path = i + \"\\\\\" + a[j]\n",
    "                if not os.path.isdir(file_path):\n",
    "                    file_location.append(file_path)\n",
    "    log_file = open(\"log.log\", \"a\")\n",
    "    mapping_log = setup_logger(\"mapping_log\",log_file= \"log.log\", level = logging.INFO)\n",
    "    mapping_log.log(level=logging.INFO,msg=\"all files Found\")\n",
    "    log_file.close()\n",
    "    return(file_location)\n",
    "    \n",
    "# fuction to copy files with specified format if not specified it will copy all files\n",
    "def copy(scr_path,copy_path,extentions = \"all\"):\n",
    "    os.chdir(scr_path)\n",
    "    print(\"source:-\", scr_path)\n",
    "    print(\"destination:-\",copy_path)\n",
    "    print(\"logs location:-\", scr_path)\n",
    "    print(\"extentions:-\",extentions)\n",
    "    file_location = mapping(scr_path)\n",
    "    for i in file_location:\n",
    "        file_name = os.path.basename(i)\n",
    "        if extentions == \"all\":\n",
    "            shutil.copy(i,copy_path)\n",
    "            log_file = open(\"log.log\", \"a\")\n",
    "            copy_log = setup_logger(\"copy_log\",log_file= \"log.log\", level = logging.INFO)\n",
    "            copy_log.log(level=logging.INFO,msg=file_name + \" copy done\")\n",
    "            log_file.close()\n",
    "        elif file_name.endswith(extentions):\n",
    "            shutil.copy(i,copy_path)\n",
    "            log_file = open(\"log.log\", \"a\")\n",
    "            copy_log = setup_logger(\"copy_log\",log_file= \"log.log\", level = logging.INFO)\n",
    "            copy_log.log(level=logging.INFO,msg=file_name + \" copy done\")\n",
    "            log_file.close()\n",
    "\n",
    "copy(scr_path=\"D:\\\\python scripts\\\\iNeuron_assignments\\\\assignment_10_dummy\",copy_path=\"D:\\\\python scripts\\\\iNeuron_assignments\\\\assignment_10_dummy\\\\copy\")"
   ]
  },
  {
   "attachments": {},
   "cell_type": "markdown",
   "metadata": {},
   "source": [
    "# __Assignment complete.__ "
   ]
  },
  {
   "cell_type": "markdown",
   "metadata": {},
   "source": []
  }
 ],
 "metadata": {
  "kernelspec": {
   "display_name": "base",
   "language": "python",
   "name": "python3"
  },
  "language_info": {
   "codemirror_mode": {
    "name": "ipython",
    "version": 3
   },
   "file_extension": ".py",
   "mimetype": "text/x-python",
   "name": "python",
   "nbconvert_exporter": "python",
   "pygments_lexer": "ipython3",
   "version": "3.9.12"
  },
  "orig_nbformat": 4,
  "vscode": {
   "interpreter": {
    "hash": "ad2bdc8ecc057115af97d19610ffacc2b4e99fae6737bb82f5d7fb13d2f2c186"
   }
  }
 },
 "nbformat": 4,
 "nbformat_minor": 2
}

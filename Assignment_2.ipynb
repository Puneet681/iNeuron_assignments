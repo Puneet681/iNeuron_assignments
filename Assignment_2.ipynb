{
 "cells": [
  {
   "cell_type": "markdown",
   "metadata": {},
   "source": [
    "# __Assignment 2__\n",
    "### *__Q.1:- What are the two values of the Boolean data type? How do you write them?__*\n",
    "### __*Ans:-*__ \n",
    "* The two Values of Boolean type data are ```True``` and ```False```\n",
    "* the Boolean data type to represent the Truhfulness of an expression\n",
    "* They are written as follows:-\n",
    "    * The following expression is True Thus we get ```True``` Boolean value. "
   ]
  },
  {
   "cell_type": "code",
   "execution_count": 17,
   "metadata": {},
   "outputs": [
    {
     "data": {
      "text/plain": [
       "True"
      ]
     },
     "execution_count": 17,
     "metadata": {},
     "output_type": "execute_result"
    }
   ],
   "source": [
    "1<2"
   ]
  },
  {
   "cell_type": "markdown",
   "metadata": {},
   "source": [
    "*\n",
    "    *The following expression is False Thus we get ```False``` Boolean value."
   ]
  },
  {
   "cell_type": "code",
   "execution_count": 18,
   "metadata": {},
   "outputs": [
    {
     "data": {
      "text/plain": [
       "False"
      ]
     },
     "execution_count": 18,
     "metadata": {},
     "output_type": "execute_result"
    }
   ],
   "source": [
    "1>2"
   ]
  },
  {
   "cell_type": "markdown",
   "metadata": {},
   "source": [
    "* the boolen data type can be wrriten by:-\n",
    "    * ```bool(1)``` for ```True```.\n",
    "    * ```bool(0)``` for ```False```.\n",
    "* Shown as Follows:-"
   ]
  },
  {
   "cell_type": "code",
   "execution_count": 19,
   "metadata": {},
   "outputs": [
    {
     "data": {
      "text/plain": [
       "True"
      ]
     },
     "execution_count": 19,
     "metadata": {},
     "output_type": "execute_result"
    }
   ],
   "source": [
    "bool(1)"
   ]
  },
  {
   "cell_type": "code",
   "execution_count": 20,
   "metadata": {},
   "outputs": [
    {
     "data": {
      "text/plain": [
       "False"
      ]
     },
     "execution_count": 20,
     "metadata": {},
     "output_type": "execute_result"
    }
   ],
   "source": [
    "bool(0)"
   ]
  },
  {
   "cell_type": "markdown",
   "metadata": {},
   "source": [
    "### *__Q.2:- What are the three different types of Boolean operators?__*\n",
    "### __*Ans:-*__ \n",
    "* The three type of Boolean Type oprators are ```and```, ```or``` & ```not```."
   ]
  },
  {
   "cell_type": "markdown",
   "metadata": {},
   "source": [
    "### *__Q.3:- Make a list of each Boolean operator's truth tables (i.e. every possible combination of Boolean values for the operator and what it evaluate ).__*\n",
    "### __*Ans:-*__ \n",
    "* Following Table is for ```and``` oprator:-\n",
    "\n"
   ]
  },
  {
   "cell_type": "markdown",
   "metadata": {},
   "source": [
    "| Boolean Value | Oprator   | Boolean Value | Output    |\n",
    "| ------------- | --------- | ------------- | --------- |\n",
    "| ```True```    | ```and``` | ```True```    |```True``` |\n",
    "| ```True```    | ```and``` | ```False```   |```False```|\n",
    "| ```False```   | ```and``` | ```True```    |```False```|\n",
    "| ```False```   | ```and``` | ```False```   |```False```|"
   ]
  },
  {
   "cell_type": "markdown",
   "metadata": {},
   "source": [
    "* Following Table is For ```or``` Oprator:-"
   ]
  },
  {
   "cell_type": "markdown",
   "metadata": {},
   "source": [
    "| Boolean Value | Oprator  | Boolean Value | Output    |\n",
    "| ------------- | -------- | ------------- | --------- |\n",
    "| ```True```    | ```or``` | ```True```    |```True``` |\n",
    "| ```True```    | ```or``` | ```False```   |```True``` |\n",
    "| ```False```   | ```or``` | ```True```    |```True``` |\n",
    "| ```False```   | ```or``` | ```False```   |```False```|"
   ]
  },
  {
   "cell_type": "markdown",
   "metadata": {},
   "source": [
    "* Following Table is For ```not``` Oprator:-"
   ]
  },
  {
   "cell_type": "markdown",
   "metadata": {},
   "source": [
    "| Oprator   | Boolean Value | Output    |\n",
    "| --------- | ------------- | --------- |\n",
    "| ```not``` | ```True```    |```False```|\n",
    "| ```not``` | ```False```   |```True``` |\n"
   ]
  },
  {
   "cell_type": "markdown",
   "metadata": {},
   "source": [
    "### *__Q.4:- What are the values of the following expressions?__*\n",
    "### *__(5 > 4) and (3 == 5)__*\n",
    "### *__not (5 > 4)__*\n",
    "### *__(5 > 4) or (3 == 5)__*\n",
    "### *__not ((5 > 4) or (3 == 5))__*\n",
    "### *__(True and True) and (True == False)__*\n",
    "### *__(not False) or (not True)__*\n",
    "\n",
    "### __*Ans:-*__ "
   ]
  },
  {
   "cell_type": "markdown",
   "metadata": {},
   "source": [
    "| Expression                                | output     |\n",
    "| ----------------------------------------- | ---------- |\n",
    "| ```(5 > 4) and (3 == 5)```                |```False```|\n",
    "| ```not (5 > 4)```                         |```False```|\n",
    "| ```(5 > 4) or (3 == 5)```                 |```True``` |\n",
    "| ```not ((5 > 4) or (3 == 5))```           |```False```|\n",
    "| ```(True and True) and (True == False)``` |```False```|\n",
    "| ```(not False) or (not True)```           |```True``` |\n"
   ]
  },
  {
   "cell_type": "markdown",
   "metadata": {},
   "source": [
    "### *__Q.5:- What are the six comparison operators?__*\n",
    "### __*Ans:-*__ \n",
    "* Following are the Six Comparission oprators:-\n",
    "    * ```<``` (less than).\n",
    "    * ```>``` (greather than).\n",
    "    * ```<=``` (less than and equal to).\n",
    "    * ```>=``` (greather than and equal to).\n",
    "    * ```==``` (equale to).\n",
    "    * ```!=``` or ```not=``` (not equale)."
   ]
  },
  {
   "cell_type": "markdown",
   "metadata": {},
   "source": [
    "### *__Q.6:- How do you tell the difference between the equal to and assignment operators?Describe a condition and when you would use one.__*\n",
    "### __*Ans:-*__ \n",
    "* The assignment oprator is written as ```=``` while the equal to is an comparission oprator which is written as ```==```\n",
    "* The most fundamental diffrence between assignment oprator ```=``` and comparission oprator ```==``` is\n",
    "    * ```=``` is used to assign the value to variable; thus one side of the oprator can not be *__Constant__*.\n",
    "    * ```==``` is used to check if R.H.S is equale to L.H.S if bot sides are Equale it gives the Boolean value ```True``` and if not then it gives Boolean Value ```False```."
   ]
  },
  {
   "cell_type": "markdown",
   "metadata": {},
   "source": [
    "### *__Q.7:-Identify the three blocks in this code:__*\n",
    "### *__spam = 0__*\n",
    "### *__if spam == 10:__*\n",
    "### *__print('eggs')__*\n",
    "### *__if spam > 5:__*\n",
    "### *__print('bacon')__*\n",
    "### *__else:__*\n",
    "### *__print('ham')__*\n",
    "### *__print('spam')__*\n",
    "### *__print('spam')__*\n",
    "### __*Ans:-*__ "
   ]
  }
 ],
 "metadata": {
  "kernelspec": {
   "display_name": "Python 3.9.12 ('base')",
   "language": "python",
   "name": "python3"
  },
  "language_info": {
   "codemirror_mode": {
    "name": "ipython",
    "version": 3
   },
   "file_extension": ".py",
   "mimetype": "text/x-python",
   "name": "python",
   "nbconvert_exporter": "python",
   "pygments_lexer": "ipython3",
   "version": "3.9.12"
  },
  "orig_nbformat": 4,
  "vscode": {
   "interpreter": {
    "hash": "ad2bdc8ecc057115af97d19610ffacc2b4e99fae6737bb82f5d7fb13d2f2c186"
   }
  }
 },
 "nbformat": 4,
 "nbformat_minor": 2
}

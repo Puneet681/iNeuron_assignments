{
 "cells": [
  {
   "cell_type": "markdown",
   "metadata": {},
   "source": [
    "# __Assignment 2__\n",
    "### *__Q.1:- What are the two values of the Boolean data type? How do you write them?__*\n",
    "### __*Ans:-*__ \n",
    "* The two Values of Boolean type data are ```True``` and ```False```\n",
    "* the Boolean data type to represent the Truhfulness of an expression\n",
    "* They are written as follows:-\n",
    "    * The following expression is True Thus we get ```True``` Boolean value. "
   ]
  },
  {
   "cell_type": "code",
   "execution_count": 47,
   "metadata": {},
   "outputs": [
    {
     "data": {
      "text/plain": [
       "True"
      ]
     },
     "execution_count": 47,
     "metadata": {},
     "output_type": "execute_result"
    }
   ],
   "source": [
    "1<2"
   ]
  },
  {
   "cell_type": "markdown",
   "metadata": {},
   "source": [
    "*\n",
    "    *The following expression is False Thus we get ```False``` Boolean value."
   ]
  },
  {
   "cell_type": "code",
   "execution_count": 48,
   "metadata": {},
   "outputs": [
    {
     "data": {
      "text/plain": [
       "False"
      ]
     },
     "execution_count": 48,
     "metadata": {},
     "output_type": "execute_result"
    }
   ],
   "source": [
    "1>2"
   ]
  },
  {
   "cell_type": "markdown",
   "metadata": {},
   "source": [
    "* the boolen data type can be wrriten by:-\n",
    "    * ```bool(1)``` for ```True```.\n",
    "    * ```bool(0)``` for ```False```.\n",
    "* Shown as Follows:-"
   ]
  },
  {
   "cell_type": "code",
   "execution_count": 49,
   "metadata": {},
   "outputs": [
    {
     "data": {
      "text/plain": [
       "True"
      ]
     },
     "execution_count": 49,
     "metadata": {},
     "output_type": "execute_result"
    }
   ],
   "source": [
    "bool(1)"
   ]
  },
  {
   "cell_type": "code",
   "execution_count": 50,
   "metadata": {},
   "outputs": [
    {
     "data": {
      "text/plain": [
       "False"
      ]
     },
     "execution_count": 50,
     "metadata": {},
     "output_type": "execute_result"
    }
   ],
   "source": [
    "bool(0)"
   ]
  },
  {
   "cell_type": "markdown",
   "metadata": {},
   "source": [
    "### *__Q.2:- What are the three different types of Boolean operators?__*\n",
    "### __*Ans:-*__ \n",
    "* The three type of Boolean Type oprators are ```and```, ```or``` & ```not```."
   ]
  },
  {
   "cell_type": "markdown",
   "metadata": {},
   "source": [
    "### *__Q.3:- Make a list of each Boolean operator's truth tables (i.e. every possible combination of Boolean values for the operator and what it evaluate ).__*\n",
    "### __*Ans:-*__ \n",
    "* Following Table is for ```and``` oprator:-\n",
    "\n"
   ]
  },
  {
   "cell_type": "markdown",
   "metadata": {},
   "source": [
    "| Boolean Value | Oprator   | Boolean Value | Output    |\n",
    "| ------------- | --------- | ------------- | --------- |\n",
    "| ```True```    | ```and``` | ```True```    |```True``` |\n",
    "| ```True```    | ```and``` | ```False```   |```False```|\n",
    "| ```False```   | ```and``` | ```True```    |```False```|\n",
    "| ```False```   | ```and``` | ```False```   |```False```|"
   ]
  },
  {
   "cell_type": "markdown",
   "metadata": {},
   "source": [
    "* Following Table is For ```or``` Oprator:-"
   ]
  },
  {
   "cell_type": "markdown",
   "metadata": {},
   "source": [
    "| Boolean Value | Oprator  | Boolean Value | Output    |\n",
    "| ------------- | -------- | ------------- | --------- |\n",
    "| ```True```    | ```or``` | ```True```    |```True``` |\n",
    "| ```True```    | ```or``` | ```False```   |```True``` |\n",
    "| ```False```   | ```or``` | ```True```    |```True``` |\n",
    "| ```False```   | ```or``` | ```False```   |```False```|"
   ]
  },
  {
   "cell_type": "markdown",
   "metadata": {},
   "source": [
    "* Following Table is For ```not``` Oprator:-"
   ]
  },
  {
   "cell_type": "markdown",
   "metadata": {},
   "source": [
    "| Oprator   | Boolean Value | Output    |\n",
    "| --------- | ------------- | --------- |\n",
    "| ```not``` | ```True```    |```False```|\n",
    "| ```not``` | ```False```   |```True``` |\n"
   ]
  },
  {
   "cell_type": "markdown",
   "metadata": {},
   "source": [
    "### *__Q.4:- What are the values of the following expressions?__*\n",
    "### *__(5 > 4) and (3 == 5)__*\n",
    "### *__not (5 > 4)__*\n",
    "### *__(5 > 4) or (3 == 5)__*\n",
    "### *__not ((5 > 4) or (3 == 5))__*\n",
    "### *__(True and True) and (True == False)__*\n",
    "### *__(not False) or (not True)__*\n",
    "\n",
    "### __*Ans:-*__ "
   ]
  },
  {
   "cell_type": "markdown",
   "metadata": {},
   "source": [
    "| Expression                                | output     |\n",
    "| ----------------------------------------- | ---------- |\n",
    "| ```(5 > 4) and (3 == 5)```                |```False```|\n",
    "| ```not (5 > 4)```                         |```False```|\n",
    "| ```(5 > 4) or (3 == 5)```                 |```True``` |\n",
    "| ```not ((5 > 4) or (3 == 5))```           |```False```|\n",
    "| ```(True and True) and (True == False)``` |```False```|\n",
    "| ```(not False) or (not True)```           |```True``` |\n"
   ]
  },
  {
   "cell_type": "markdown",
   "metadata": {},
   "source": [
    "### *__Q.5:- What are the six comparison operators?__*\n",
    "### __*Ans:-*__ \n",
    "* Following are the Six Comparission oprators:-\n",
    "    * ```<``` (less than).\n",
    "    * ```>``` (greather than).\n",
    "    * ```<=``` (less than and equal to).\n",
    "    * ```>=``` (greather than and equal to).\n",
    "    * ```==``` (equale to).\n",
    "    * ```!=``` or ```not=``` (not equale)."
   ]
  },
  {
   "cell_type": "markdown",
   "metadata": {},
   "source": [
    "### *__Q.6:- How do you tell the difference between the equal to and assignment operators?Describe a condition and when you would use one.__*\n",
    "### __*Ans:-*__ \n",
    "* The assignment oprator is written as ```=``` while the equal to is an comparission oprator which is written as ```==```\n",
    "* The most fundamental diffrence between assignment oprator ```=``` and comparission oprator ```==``` is\n",
    "    * ```=``` is used to assign the value to variable; thus one side of the oprator can not be *__Constant__*.\n",
    "    * ```==``` is used to check if R.H.S is equale to L.H.S if both sides are Equale it gives the Boolean value ```True``` and if not then it gives Boolean Value ```False```."
   ]
  },
  {
   "cell_type": "markdown",
   "metadata": {},
   "source": [
    "### *__Q.7:-Identify the three blocks in this code:__*\n",
    "### *__spam = 0__*\n",
    "### *__if spam == 10:__*\n",
    "### *__print('eggs')__*\n",
    "### *__if spam > 5:__*\n",
    "### *__print('bacon')__*\n",
    "### *__else:__*\n",
    "### *__print('ham')__*\n",
    "### *__print('spam')__*\n",
    "### *__print('spam')__*\n",
    "### __*Ans:-*__ \n",
    "* *Assuming the code is wrriten as follows:-*"
   ]
  },
  {
   "cell_type": "code",
   "execution_count": 51,
   "metadata": {},
   "outputs": [
    {
     "name": "stdout",
     "output_type": "stream",
     "text": [
      "ham\n",
      "spam\n",
      "spam\n"
     ]
    }
   ],
   "source": [
    "spam = 0\n",
    "if spam == 10:          # FRISY BLOCK (Frist if condition)\n",
    "    print('eggs')\n",
    "    if spam > 5:        # SECOND BLOCK inside the Frist Block (Second if condition is inside the Frist if condition)\n",
    "        print('bacon')  \n",
    "else:                   # THIRD BLOCK (else condition of Frist if)\n",
    "    print('ham')\n",
    "    print('spam')\n",
    "    print('spam')\n"
   ]
  },
  {
   "cell_type": "markdown",
   "metadata": {},
   "source": [
    "### *__Q.8:- Write code that prints Hello if 1 is stored in spam, prints Howdy if 2 is stored in spam, and prints Greetings! if anything else is stored in spam.__*\n",
    "### __*Ans:-*__ \n",
    "* The Solution is as Follows:-"
   ]
  },
  {
   "cell_type": "code",
   "execution_count": 52,
   "metadata": {},
   "outputs": [
    {
     "name": "stdout",
     "output_type": "stream",
     "text": [
      "Hello\n"
     ]
    }
   ],
   "source": [
    "spam = 1\n",
    "if spam == 1:\n",
    "    print(\"Hello\")\n",
    "elif spam == 2:\n",
    "    print(\"Howdy\")\n",
    "else:\n",
    "    print(\"Greetings\")"
   ]
  },
  {
   "cell_type": "markdown",
   "metadata": {},
   "source": [
    "### *__Q.9:- If your programme is stuck in an endless loop, what keys you’ll press?__*\n",
    "### __*Ans:-*__ \n",
    "* if My program is stuck in endless loop I'll press ```Crt + C```.  "
   ]
  },
  {
   "cell_type": "markdown",
   "metadata": {},
   "source": [
    "### *__Q.10:- How can you tell the difference between break and continue?__*\n",
    "### __*Ans:-*__\n",
    "* ```break``` is a statment used to stop loop.\n",
    "* ```continue``` is a statment is used to continue the ittration of the loop in which it is placed "
   ]
  },
  {
   "cell_type": "markdown",
   "metadata": {},
   "source": [
    "### *__Q.11:- In a for loop, what is the difference between range(10), range(0, 10), and range(0, 10, 1)?__*\n",
    "### __*Ans:-*__\n",
    "* Thre will be no diffrence between the output by using any of the above range in the program\n",
    "* Reason to this is:-\n",
    "    * in ```range(10)``` the end index is given as  ```10``` and the starting index ```0``` and the steps ```1``` is set by default.\n",
    "    *  in ```range(0,10)``` the end index is given as  ```10``` and starting range ```0``` is already given and the steps is set to be ```1``` by default.\n",
    "    * in ```range(0,10,1)``` the end index is given as  ```10``` and starting range ```0``` and the steps is already given to be ```1```."
   ]
  },
  {
   "cell_type": "markdown",
   "metadata": {},
   "source": [
    "### *__Q.12:- Write a short program that prints the numbers 1 to 10 using a for loop. Then write an equivalent program that prints the numbers 1 to 10 using a while loop.__*\n",
    "### __*Ans:-*__\n",
    "* the required program using for loop is as follows:-"
   ]
  },
  {
   "cell_type": "code",
   "execution_count": 53,
   "metadata": {},
   "outputs": [
    {
     "name": "stdout",
     "output_type": "stream",
     "text": [
      "1,2,3,4,5,6,7,8,9,10,"
     ]
    }
   ],
   "source": [
    "for i in range(1,11):\n",
    "    print(i,end=\",\")"
   ]
  },
  {
   "cell_type": "markdown",
   "metadata": {},
   "source": [
    "* the required code in While loop is as follows:-"
   ]
  },
  {
   "cell_type": "code",
   "execution_count": 54,
   "metadata": {},
   "outputs": [
    {
     "name": "stdout",
     "output_type": "stream",
     "text": [
      "0,1,2,3,4,5,6,7,8,9,10,"
     ]
    }
   ],
   "source": [
    "i=0\n",
    "while i<=10:\n",
    "    print(i,end=\",\")\n",
    "    i+=1"
   ]
  },
  {
   "cell_type": "markdown",
   "metadata": {},
   "source": [
    "### *__Q.13:- If you had a function named bacon() inside a module named spam, how would you call it after importing spam?__*\n",
    "### __*Ans:-*__ \n",
    "* The fuction ```bacon()``` can be called by using ```spam[index of fuction bacon()]```"
   ]
  },
  {
   "cell_type": "markdown",
   "metadata": {},
   "source": [
    "# __Assignment complete.__"
   ]
  }
 ],
 "metadata": {
  "kernelspec": {
   "display_name": "Python 3.9.12 ('base')",
   "language": "python",
   "name": "python3"
  },
  "language_info": {
   "codemirror_mode": {
    "name": "ipython",
    "version": 3
   },
   "file_extension": ".py",
   "mimetype": "text/x-python",
   "name": "python",
   "nbconvert_exporter": "python",
   "pygments_lexer": "ipython3",
   "version": "3.9.12"
  },
  "orig_nbformat": 4,
  "vscode": {
   "interpreter": {
    "hash": "ad2bdc8ecc057115af97d19610ffacc2b4e99fae6737bb82f5d7fb13d2f2c186"
   }
  }
 },
 "nbformat": 4,
 "nbformat_minor": 2
}
